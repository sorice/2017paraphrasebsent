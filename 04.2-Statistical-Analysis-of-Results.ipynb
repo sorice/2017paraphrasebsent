{
 "metadata": {
  "name": "",
  "signature": "sha256:2c51e0006baaa99a4e9875c8df50000c7ec635878878183cbd23ddb9deb4c5f0"
 },
 "nbformat": 3,
 "nbformat_minor": 0,
 "worksheets": [
  {
   "cells": [
    {
     "cell_type": "markdown",
     "metadata": {},
     "source": [
      "<small><i>This notebook was put together by [Abel Meneses-Abad](http://www.menesesabad.com) for Paper *Paraphrase Beyond Sentence*. Source and license info is on [GitHub](https://github.com/sorice/2017paraphrasebsent/).</i></small>"
     ]
    },
    {
     "cell_type": "markdown",
     "metadata": {},
     "source": [
      "# Statistical Analysis of Features"
     ]
    },
    {
     "cell_type": "code",
     "collapsed": false,
     "input": [
      "#from matplotlib import pyplot as plt\n",
      "%pylab inline"
     ],
     "language": "python",
     "metadata": {},
     "outputs": [
      {
       "output_type": "stream",
       "stream": "stdout",
       "text": [
        "Populating the interactive namespace from numpy and matplotlib\n"
       ]
      }
     ],
     "prompt_number": 6
    },
    {
     "cell_type": "markdown",
     "metadata": {},
     "source": [
      "## Loading data"
     ]
    },
    {
     "cell_type": "code",
     "collapsed": false,
     "input": [
      "#Load MSRP corpus\n",
      "from scripts.datasets import load_msrpc\n",
      "msrpc = load_msrpc()\n",
      "n_samples, n_features = msrpc.data.shape\n",
      "print(n_samples,n_features)\n",
      "x,y = msrpc.data, msrpc.target"
     ],
     "language": "python",
     "metadata": {},
     "outputs": [
      {
       "output_type": "stream",
       "stream": "stdout",
       "text": [
        "1671 42\n"
       ]
      }
     ],
     "prompt_number": 1
    },
    {
     "cell_type": "markdown",
     "metadata": {},
     "source": [
      "## Data preprocessing"
     ]
    },
    {
     "cell_type": "code",
     "collapsed": false,
     "input": [
      "#Dealing with missing data\n",
      "from sklearn.preprocessing import Imputer\n",
      "imr = Imputer(missing_values='NaN', strategy='mean', axis=0)\n",
      "imr = imr.fit(x)\n",
      "x = imr.transform(x)\n",
      "\n",
      "#Scaling\n",
      "from sklearn.preprocessing import scale\n",
      "Xs = scale(x,with_mean=True,with_std=True,axis=0)\n",
      "\n",
      "#Multivariate data outliers handling not implemented yet.\n",
      "\n",
      "#Partitioning data into test and train subsets\n",
      "from sklearn.cross_validation import train_test_split\n",
      "X_train, X_test, y_train, y_test = train_test_split(Xs, y, test_size=0.3, random_state=4)\n",
      "\n",
      "#Stratified Kfold not implemented yet."
     ],
     "language": "python",
     "metadata": {},
     "outputs": [],
     "prompt_number": 2
    },
    {
     "cell_type": "markdown",
     "metadata": {},
     "source": [
      "## Clasification"
     ]
    },
    {
     "cell_type": "code",
     "collapsed": false,
     "input": [
      "# import the class\n",
      "from sklearn.linear_model import LogisticRegression\n",
      "\n",
      "# instantiate the model (using the default parameters)\n",
      "logreg = LogisticRegression()\n",
      "\n",
      "#New data after Feature Selection\n",
      "#Xs_train, ys_train, Xs_test, ys_test = get_train_test(x_n,Y)\n",
      "\n",
      "# fit the model with data\n",
      "logreg.fit(X_train, y_train)\n",
      "\n",
      "# STEP 3: make predictions on the testing set\n",
      "y_pred = logreg.predict(X_test)"
     ],
     "language": "python",
     "metadata": {},
     "outputs": [],
     "prompt_number": 3
    },
    {
     "cell_type": "code",
     "collapsed": false,
     "input": [
      "from scipy import stats\n",
      "pearson = stats.pearsonr(y_test,y_pred)\n",
      "print('Pearson correlation coefficient:', pearson[0])\n",
      "print('P value:', pearson[1])"
     ],
     "language": "python",
     "metadata": {},
     "outputs": [
      {
       "output_type": "stream",
       "stream": "stdout",
       "text": [
        "Pearson correlation coefficient: 0.424079175452\n",
        "P value: 2.48405151419e-23\n"
       ]
      }
     ],
     "prompt_number": 4
    },
    {
     "cell_type": "markdown",
     "metadata": {},
     "source": [
      "## Conclusions\n",
      "\n",
      "..."
     ]
    }
   ],
   "metadata": {}
  }
 ]
}