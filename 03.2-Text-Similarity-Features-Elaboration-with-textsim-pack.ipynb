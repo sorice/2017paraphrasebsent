{
 "metadata": {
  "name": "",
  "signature": "sha256:1ac656990327743757c5f3790815240facd843bda1dd7293e91c3e473dd49df2"
 },
 "nbformat": 3,
 "nbformat_minor": 0,
 "worksheets": [
  {
   "cells": [
    {
     "cell_type": "markdown",
     "metadata": {},
     "source": [
      "<small><i>This notebook was put together by [Abel Meneses-Abad](http://www.menesesabad.com) for Paper *Paraphrase Beyond Sentence*. Source and license info is on [GitHub](https://github.com/sorice/2017paraphrasebsent/).</i></small>"
     ]
    },
    {
     "cell_type": "markdown",
     "metadata": {},
     "source": [
      "# How to Get Similarity Features\n",
      "\n",
      "**Textsim** is a library of similarity distances elaborated by the author, having into account that the majority of the experiments in similarity field are build over Java language, then a complementary develop to realize this experiment is this library that contains a growing set of classical distances, and set of combined distances created for the SEMEVAL competition.\n",
      "\n",
      "The library contains a set of internal notebook to teach howto work with the library.\n",
      "\n",
      "+ [3.2.1 Stringdist Distances](/home/abelm/textsim/notebooks/stringdists.ipynb)\n",
      "+ [3.2.2 Tokendist Distances](/home/abelm/textsim/notebooks/tokendists.ipynb)\n",
      "+ [3.2.3 Knowledge Distances](/home/abelm/textsim/notebooks/knowledgedists.ipynb)\n",
      "+ [3.2.4 Syntactic Distances](/home/abelm/textsim/notebooks/syntacticdists.ipynb)\n",
      "+ [3.2.5 Corpus Distances](/home/abelm/textsim/notebooks/corpusdists.ipynb)\n",
      "+ [3.2.6 Combined Distances](/home/abelm/textsim/notebooks/combinedists.ipynb)"
     ]
    },
    {
     "cell_type": "code",
     "collapsed": false,
     "input": [
      "import textsim\n",
      "from textsim.utils import calc_all\n",
      "s1 = \"\"\"PCCW's chief operating officer, Mike Butcher, and Alex Arena, \n",
      "        the chief financial officer, will report directly to Mr So.\"\"\"\n",
      "s2 = \"\"\"Current Chief Operating Officer Mike Butcher and Group Chief \n",
      "        Financial Officer Alex Arena will report to So.\"\"\"\n",
      "obj = calc_all(s1,s2)"
     ],
     "language": "python",
     "metadata": {},
     "outputs": [
      {
       "output_type": "stream",
       "stream": "stderr",
       "text": [
        "/usr/local/lib/python3.5/dist-packages/textsim-0.1.0-py3.5.egg/textsim/tokendists/distances.py:232: RuntimeWarning: invalid value encountered in true_divide\n",
        "  return np.sqrt(((XA - XB) ** 2 / V).sum())\n"
       ]
      }
     ],
     "prompt_number": 1
    },
    {
     "cell_type": "code",
     "collapsed": false,
     "input": [
      "print(obj[0],obj[1],'\\nFeatures:',len(obj)-2)"
     ],
     "language": "python",
     "metadata": {},
     "outputs": [
      {
       "output_type": "stream",
       "stream": "stdout",
       "text": [
        "PCCW's chief operating officer, Mike Butcher, and Alex Arena, \n",
        "        the chief financial officer, will report directly to Mr So. Current Chief Operating Officer Mike Butcher and Group Chief \n",
        "        Financial Officer Alex Arena will report to So. \n",
        "Features: 42\n"
       ]
      }
     ],
     "prompt_number": 2
    },
    {
     "cell_type": "code",
     "collapsed": false,
     "input": [
      "type(obj)"
     ],
     "language": "python",
     "metadata": {},
     "outputs": [
      {
       "metadata": {},
       "output_type": "pyout",
       "prompt_number": 3,
       "text": [
        "list"
       ]
      }
     ],
     "prompt_number": 3
    }
   ],
   "metadata": {}
  }
 ]
}