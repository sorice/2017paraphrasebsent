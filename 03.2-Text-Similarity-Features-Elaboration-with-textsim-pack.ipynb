{
 "cells": [
  {
   "cell_type": "markdown",
   "metadata": {},
   "source": [
    "<small><i>This notebook was put together by [Abel Meneses-Abad](http://www.menesesabad.com) for Paper *Paraphrase Beyond Sentence*. Source and license info is on [GitHub](https://github.com/sorice/2017paraphrasebsent/).</i></small>"
   ]
  },
  {
   "cell_type": "markdown",
   "metadata": {},
   "source": [
    "# How to Get Similarity Features\n",
    "\n",
    "**Textsim** is a library of similarity distances elaborated by the author, having into account that the majority of the experiments in the similarity field are built over Java language. This library is a developed complementary tool to make this experiment in python. It contains a growing set of classical distances, and a set of combined distances created from the SEMEVAL competition papers.\n",
    "\n",
    "The library contains a set of internal notebooks to teach how to work with the library.\n",
    "\n",
    "+ [3.2.1 Stringdist Distances](https://github.com/sorice/textsim/tree/master/notebooks/stringdists.ipynb)\n",
    "+ [3.2.2 Tokendist Distances](https://github.com/sorice/textsim/tree/master/notebooks/tokendists.ipynb)\n",
    "+ [3.2.3 Knowledge Distances](https://github.com/sorice/textsim/tree/master/knowledgedists.ipynb) This is not available yet!\n",
    "+ [3.2.4 Syntactic Distances](https://github.com/sorice/textsim/tree/master/textsim/notebooks/syntacticdists.ipynb)\n",
    "+ [3.2.5 Corpus Distances](https://github.com/sorice/textsim/tree/master/notebooks/corpusdists.ipynb) This is not available yet!\n",
    "+ [3.2.6 Combined Distances](https://github.com/sorice/textsim/tree/master/notebooks/combinedists.ipynb) This is not available yet!"
   ]
  },
  {
   "cell_type": "code",
   "execution_count": 1,
   "metadata": {},
   "outputs": [],
   "source": [
    "import textsim\n",
    "from textsim.utils import calc_all\n",
    "s1 = \"\"\"PCCW's chief operating officer, Mike Butcher, and Alex Arena, \n",
    "        the chief financial officer, will report directly to Mr So.\"\"\"\n",
    "s2 = \"\"\"Current Chief Operating Officer Mike Butcher and Group Chief \n",
    "        Financial Officer Alex Arena will report to So.\"\"\"\n",
    "obj = calc_all(s1,s2)"
   ]
  },
  {
   "cell_type": "code",
   "execution_count": 2,
   "metadata": {},
   "outputs": [
    {
     "name": "stdout",
     "output_type": "stream",
     "text": [
      "PCCW's chief operating officer, Mike Butcher, and Alex Arena, \n",
      "        the chief financial officer, will report directly to Mr So. Current Chief Operating Officer Mike Butcher and Group Chief \n",
      "        Financial Officer Alex Arena will report to So. \n",
      "Features: 43\n"
     ]
    }
   ],
   "source": [
    "print(obj[0],obj[1],'\\nFeatures:',len(obj)-2)"
   ]
  },
  {
   "cell_type": "code",
   "execution_count": 3,
   "metadata": {},
   "outputs": [
    {
     "name": "stdout",
     "output_type": "stream",
     "text": [
      "<class 'list'>\n",
      "[0.0, 0.16666666666666666, 6.0, 1.0, 0.7303370786516854, 0.5843952927031832, 0.8645299348672512, 56, 0.4375, -0.05555555555555555, 0.5692307692307692, 2.449489742783178, 104, 4.0, 0.72, 0.7577514379401172, 0.7577514379401172, -0.11764705882352941, 86, 0.6963562753036439, 56, 4.242640687119285, 6.0, 0.9076, 1.0, 25.0, 0.5882352941176471, 0.3157894736842105, 6.0, 112.0, 0.9068825910931174, 0.4666666666666667, 0.4375, -0.23529411764705882, 0.0, 3.4641016151377544, 119.0, -0.23529411764705882, -0.26666666666666666, 6.0, 0.4117647058823529, 0.3157894736842105, -0.0]\n"
     ]
    }
   ],
   "source": [
    "print(type(obj))\n",
    "print(obj[2:])"
   ]
  },
  {
   "cell_type": "markdown",
   "metadata": {},
   "source": [
    "## Future work\n",
    "\n",
    "The Cython version of textsim distances performance.\n",
    "\n",
    "The Cython implementation of distances is inside the library textsim like in the [**nlpnet**](https://github.com/erickrf/nlpnet) package."
   ]
  }
 ],
 "metadata": {
  "kernelspec": {
   "display_name": "Python 3",
   "language": "python",
   "name": "python3"
  },
  "language_info": {
   "codemirror_mode": {
    "name": "ipython",
    "version": 3
   },
   "file_extension": ".py",
   "mimetype": "text/x-python",
   "name": "python",
   "nbconvert_exporter": "python",
   "pygments_lexer": "ipython3",
   "version": "3.6.9"
  }
 },
 "nbformat": 4,
 "nbformat_minor": 1
}
