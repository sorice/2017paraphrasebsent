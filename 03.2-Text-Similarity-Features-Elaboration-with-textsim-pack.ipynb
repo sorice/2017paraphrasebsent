{
 "cells": [
  {
   "cell_type": "markdown",
   "metadata": {},
   "source": [
    "<small><i>This notebook was put together by [Abel Meneses-Abad](http://www.menesesabad.com) for Paper *Paraphrase Beyond Sentence*. Source and license info is on [GitHub](https://github.com/sorice/2017paraphrasebsent/).</i></small>"
   ]
  },
  {
   "cell_type": "markdown",
   "metadata": {},
   "source": [
    "# How to Get Similarity Features\n",
    "\n",
    "**Textsim** is a library of similarity distances elaborated by the author, having into account that the majority of the experiments in similarity field are build over Java language, then a complementary develop to realize this experiment is this library that contains a growing set of classical distances, and set of combined distances created for the SEMEVAL competition.\n",
    "\n",
    "The library contains a set of internal notebook to teach howto work with the library.\n",
    "\n",
    "+ [3.2.1 Stringdist Distances](/home/abelm/textsim/notebooks/stringdists.ipynb)\n",
    "+ [3.2.2 Tokendist Distances](/home/abelm/textsim/notebooks/tokendists.ipynb)\n",
    "+ [3.2.3 Knowledge Distances](/home/abelm/textsim/notebooks/knowledgedists.ipynb)\n",
    "+ [3.2.4 Syntactic Distances](/home/abelm/textsim/notebooks/syntacticdists.ipynb)\n",
    "+ [3.2.5 Corpus Distances](/home/abelm/textsim/notebooks/corpusdists.ipynb)\n",
    "+ [3.2.6 Combined Distances](/home/abelm/textsim/notebooks/combinedists.ipynb)"
   ]
  },
  {
   "cell_type": "code",
   "execution_count": 1,
   "metadata": {},
   "outputs": [],
   "source": [
    "import textsim\n",
    "from textsim.utils import calc_all\n",
    "s1 = \"\"\"PCCW's chief operating officer, Mike Butcher, and Alex Arena, \n",
    "        the chief financial officer, will report directly to Mr So.\"\"\"\n",
    "s2 = \"\"\"Current Chief Operating Officer Mike Butcher and Group Chief \n",
    "        Financial Officer Alex Arena will report to So.\"\"\"\n",
    "obj = calc_all(s1,s2)"
   ]
  },
  {
   "cell_type": "code",
   "execution_count": 2,
   "metadata": {},
   "outputs": [
    {
     "name": "stdout",
     "output_type": "stream",
     "text": [
      "PCCW's chief operating officer, Mike Butcher, and Alex Arena, \n",
      "        the chief financial officer, will report directly to Mr So. Current Chief Operating Officer Mike Butcher and Group Chief \n",
      "        Financial Officer Alex Arena will report to So. \n",
      "Features: 43\n"
     ]
    }
   ],
   "source": [
    "print(obj[0],obj[1],'\\nFeatures:',len(obj)-2)"
   ]
  },
  {
   "cell_type": "code",
   "execution_count": 3,
   "metadata": {},
   "outputs": [
    {
     "data": {
      "text/plain": [
       "list"
      ]
     },
     "execution_count": 3,
     "metadata": {},
     "output_type": "execute_result"
    }
   ],
   "source": [
    "type(obj)"
   ]
  }
 ],
 "metadata": {
  "kernelspec": {
   "display_name": "Python 3",
   "language": "python",
   "name": "python3"
  },
  "language_info": {
   "codemirror_mode": {
    "name": "ipython",
    "version": 3
   },
   "file_extension": ".py",
   "mimetype": "text/x-python",
   "name": "python",
   "nbconvert_exporter": "python",
   "pygments_lexer": "ipython3",
   "version": "3.5.3"
  }
 },
 "nbformat": 4,
 "nbformat_minor": 1
}
