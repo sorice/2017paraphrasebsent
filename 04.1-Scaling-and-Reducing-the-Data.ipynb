{
 "cells": [
  {
   "cell_type": "markdown",
   "metadata": {},
   "source": [
    "<small><i>This notebook was put together by [Abel Meneses-Abad](http://www.menesesabad.com) for Paper *Paraphrase Beyond Sentence*. Source and license info is on [GitHub](https://github.com/sorice/2017paraphrasebsent/).</i></small>"
   ]
  },
  {
   "cell_type": "markdown",
   "metadata": {},
   "source": [
    "# Preprocessing Data\n",
    "\n",
    "Having a normalized corpus or a fiturized corpus, the first step is to normalize, clean, scale those features. In Big Data the number of features (or # of columns) is always exponential. For example 35 features in 5M rows runs ok in a laptop, but only incrementing to 40 features the problem could be considered Big Data [<a href=\"#Bilbro2019\" title=\"Visual Diagnostics at Scale\"> (Bilbro2019) </a>](#Bilbro2019).\n",
    "\n",
    "Feature Selection it is impossible or problematic, some times, without scaling or cleanning the data properly. As you will see at the end of this chapter, the number of features doesn't increase mandatory the accuracy of Machine Learning models. In order to incrase the future number of useful features those not-important must be detected and eliminated."
   ]
  },
  {
   "cell_type": "code",
   "execution_count": 1,
   "metadata": {},
   "outputs": [
    {
     "data": {
      "text/plain": [
       "43"
      ]
     },
     "execution_count": 1,
     "metadata": {},
     "output_type": "execute_result"
    }
   ],
   "source": [
    "%matplotlib inline\n",
    "# use seaborn plotting style defaults\n",
    "import seaborn as sns; sns.set()\n",
    "import matplotlib.pyplot as plt\n",
    "import pandas as pd\n",
    "import textsim\n",
    "len(textsim.__all_distances__)"
   ]
  },
  {
   "cell_type": "markdown",
   "metadata": {},
   "source": [
    "## From CSV to Sklearn Bunch\n",
    "\n",
    "Loading csv file in Sklearn style."
   ]
  },
  {
   "cell_type": "code",
   "execution_count": 2,
   "metadata": {},
   "outputs": [],
   "source": [
    "import csv\n",
    "import numpy as np\n",
    "from sklearn.utils import Bunch\n",
    "\n",
    "with open('data/MSRPC-2004/msrpc.csv') as csv_file:\n",
    "    data_file = csv.reader(csv_file)\n",
    "    temp = next(data_file)\n",
    "    n_samples = int(temp[0])\n",
    "    n_features = int(temp[1])\n",
    "    target_names = np.array(temp[2:4])\n",
    "    temp = next(data_file)\n",
    "    feature_names = np.array(temp[:-2])\n",
    "    data = np.empty((n_samples, n_features))\n",
    "    target = np.empty((n_samples), dtype=np.int)\n",
    "    index = np.empty((n_samples), dtype=np.int)\n",
    "    \n",
    "    for i, ir in enumerate(data_file):\n",
    "        data[i] = np.asarray(ir[:-2], dtype=np.float)\n",
    "        target[i] = np.asarray(ir[-1], dtype=np.int)\n",
    "        index[i] = np.asarray(ir[-2], dtype=np.int)\n",
    "\n",
    "    fdescr = 'Microsoft Research Corpus'\n",
    "        \n",
    "msrpc = Bunch(data=data, target=target,\n",
    "    target_names=target_names,\n",
    "    DESCR=fdescr,\n",
    "    feature_names=feature_names)\n",
    "\n",
    "x = msrpc['data']\n",
    "Y = msrpc['target']"
   ]
  },
  {
   "cell_type": "code",
   "execution_count": 3,
   "metadata": {},
   "outputs": [
    {
     "data": {
      "text/plain": [
       "(5786, 43)"
      ]
     },
     "execution_count": 3,
     "metadata": {},
     "output_type": "execute_result"
    }
   ],
   "source": [
    "data.shape"
   ]
  },
  {
   "cell_type": "code",
   "execution_count": 4,
   "metadata": {},
   "outputs": [
    {
     "data": {
      "text/plain": [
       "array([1, 1, 1, ..., 0, 0, 1])"
      ]
     },
     "execution_count": 4,
     "metadata": {},
     "output_type": "execute_result"
    }
   ],
   "source": [
    "msrpc.target"
   ]
  },
  {
   "cell_type": "code",
   "execution_count": 5,
   "metadata": {},
   "outputs": [
    {
     "data": {
      "text/plain": [
       "(array(['binary_distance', 'braycurtis_distance', 'canberra_distance',\n",
       "        'chebyshev_distance', 'containment_distance',\n",
       "        'correlation_distance', 'cosine_distance',\n",
       "        'damerau_levenshtein_distance', 'dice_coefficient',\n",
       "        'dice_distance', 'edit_similarity', 'euclidean_distance',\n",
       "        'hamming_distance', 'interval_distance', 'jaccard_distance',\n",
       "        'jaro_distance', 'jaro_winkler_distance', 'kulsinski_distance',\n",
       "        'lcs_distance', 'lcs_similarity', 'levenshtein_distance',\n",
       "        'mahalanobis_distance', 'manhattan_distance', 'masi_distance',\n",
       "        'match_rating_comparison', 'matching_coefficient',\n",
       "        'matching_coefficient_pablo', 'matching_distance',\n",
       "        'minkowski_distance', 'needleman_wunsch_distance',\n",
       "        'needleman_wunsch_similarity', 'overlap_distance',\n",
       "        'qgram_distance', 'rogerstanimoto_distance', 'russellrao_distance',\n",
       "        'seuclidean_distance', 'smith_waterman_distance',\n",
       "        'sokalmichener_distance', 'sokalsneath_distance',\n",
       "        'sqeuclidean_distance', 'token_containment_distance',\n",
       "        'token_hamming_distance', 'yule_distance'], dtype='<U28'),\n",
       " 43)"
      ]
     },
     "execution_count": 5,
     "metadata": {},
     "output_type": "execute_result"
    }
   ],
   "source": [
    "feature_names,len(feature_names)"
   ]
  },
  {
   "cell_type": "code",
   "execution_count": 6,
   "metadata": {},
   "outputs": [
    {
     "name": "stdout",
     "output_type": "stream",
     "text": [
      "nan [1 1 1 0 0 1 1 0 1 1 0 0 1 1 0 1 1 1 1 1]\n"
     ]
    }
   ],
   "source": [
    "print(x.mean(),Y[:20])"
   ]
  },
  {
   "cell_type": "markdown",
   "metadata": {},
   "source": [
    "**Note:** The mean value can't be obtained due to *'NaN'* values inside data."
   ]
  },
  {
   "cell_type": "markdown",
   "metadata": {},
   "source": [
    "## Imputing missing values\n",
    "\n",
    "Read the page 102 of the book \"Python Machine Learning Unlock deeper insights ...\" [<a href=\"#Raschka2015\" title=\"Python Machine Learning Book\"> (Raschka2015) </a>](#Raschka2015).\n",
    "\n",
    "After some experiments we consider better to convert numpy.array in a pandas.DataFrame structure because can be useful to change *Nan* values by the median or mean of the column when the value is, this kind of operation with np is not possible (np.where and pd.where are differents)."
   ]
  },
  {
   "cell_type": "code",
   "execution_count": 7,
   "metadata": {},
   "outputs": [],
   "source": [
    "df = pd.DataFrame(msrpc.data, columns=msrpc.feature_names, index=index)"
   ]
  },
  {
   "cell_type": "code",
   "execution_count": 8,
   "metadata": {},
   "outputs": [
    {
     "data": {
      "text/html": [
       "<div>\n",
       "<style scoped>\n",
       "    .dataframe tbody tr th:only-of-type {\n",
       "        vertical-align: middle;\n",
       "    }\n",
       "\n",
       "    .dataframe tbody tr th {\n",
       "        vertical-align: top;\n",
       "    }\n",
       "\n",
       "    .dataframe thead th {\n",
       "        text-align: right;\n",
       "    }\n",
       "</style>\n",
       "<table border=\"1\" class=\"dataframe\">\n",
       "  <thead>\n",
       "    <tr style=\"text-align: right;\">\n",
       "      <th></th>\n",
       "      <th>correlation_distance</th>\n",
       "      <th>seuclidean_distance</th>\n",
       "      <th>yule_distance</th>\n",
       "    </tr>\n",
       "  </thead>\n",
       "  <tbody>\n",
       "    <tr>\n",
       "      <th>16</th>\n",
       "      <td>1.0</td>\n",
       "      <td>3.464102</td>\n",
       "      <td>NaN</td>\n",
       "    </tr>\n",
       "    <tr>\n",
       "      <th>35</th>\n",
       "      <td>1.0</td>\n",
       "      <td>4.000000</td>\n",
       "      <td>NaN</td>\n",
       "    </tr>\n",
       "    <tr>\n",
       "      <th>161</th>\n",
       "      <td>0.0</td>\n",
       "      <td>NaN</td>\n",
       "      <td>0.5</td>\n",
       "    </tr>\n",
       "    <tr>\n",
       "      <th>176</th>\n",
       "      <td>1.0</td>\n",
       "      <td>4.690416</td>\n",
       "      <td>NaN</td>\n",
       "    </tr>\n",
       "    <tr>\n",
       "      <th>217</th>\n",
       "      <td>NaN</td>\n",
       "      <td>3.162278</td>\n",
       "      <td>NaN</td>\n",
       "    </tr>\n",
       "    <tr>\n",
       "      <th>...</th>\n",
       "      <td>...</td>\n",
       "      <td>...</td>\n",
       "      <td>...</td>\n",
       "    </tr>\n",
       "    <tr>\n",
       "      <th>5651</th>\n",
       "      <td>1.0</td>\n",
       "      <td>4.472136</td>\n",
       "      <td>NaN</td>\n",
       "    </tr>\n",
       "    <tr>\n",
       "      <th>5730</th>\n",
       "      <td>1.0</td>\n",
       "      <td>4.472136</td>\n",
       "      <td>NaN</td>\n",
       "    </tr>\n",
       "    <tr>\n",
       "      <th>5759</th>\n",
       "      <td>1.0</td>\n",
       "      <td>4.000000</td>\n",
       "      <td>NaN</td>\n",
       "    </tr>\n",
       "    <tr>\n",
       "      <th>5763</th>\n",
       "      <td>1.0</td>\n",
       "      <td>5.477226</td>\n",
       "      <td>NaN</td>\n",
       "    </tr>\n",
       "    <tr>\n",
       "      <th>5764</th>\n",
       "      <td>1.0</td>\n",
       "      <td>4.242641</td>\n",
       "      <td>NaN</td>\n",
       "    </tr>\n",
       "  </tbody>\n",
       "</table>\n",
       "<p>183 rows × 3 columns</p>\n",
       "</div>"
      ],
      "text/plain": [
       "      correlation_distance  seuclidean_distance  yule_distance\n",
       "16                     1.0             3.464102            NaN\n",
       "35                     1.0             4.000000            NaN\n",
       "161                    0.0                  NaN            0.5\n",
       "176                    1.0             4.690416            NaN\n",
       "217                    NaN             3.162278            NaN\n",
       "...                    ...                  ...            ...\n",
       "5651                   1.0             4.472136            NaN\n",
       "5730                   1.0             4.472136            NaN\n",
       "5759                   1.0             4.000000            NaN\n",
       "5763                   1.0             5.477226            NaN\n",
       "5764                   1.0             4.242641            NaN\n",
       "\n",
       "[183 rows x 3 columns]"
      ]
     },
     "execution_count": 8,
     "metadata": {},
     "output_type": "execute_result"
    }
   ],
   "source": [
    "#Finding null values\n",
    "col_mask=df.isnull().any(axis=0) \n",
    "row_mask=df.isnull().any(axis=1)\n",
    "df.loc[row_mask,col_mask]"
   ]
  },
  {
   "cell_type": "code",
   "execution_count": 9,
   "metadata": {},
   "outputs": [
    {
     "data": {
      "text/html": [
       "<div>\n",
       "<style scoped>\n",
       "    .dataframe tbody tr th:only-of-type {\n",
       "        vertical-align: middle;\n",
       "    }\n",
       "\n",
       "    .dataframe tbody tr th {\n",
       "        vertical-align: top;\n",
       "    }\n",
       "\n",
       "    .dataframe thead th {\n",
       "        text-align: right;\n",
       "    }\n",
       "</style>\n",
       "<table border=\"1\" class=\"dataframe\">\n",
       "  <thead>\n",
       "    <tr style=\"text-align: right;\">\n",
       "      <th></th>\n",
       "      <th>yule_distance</th>\n",
       "    </tr>\n",
       "  </thead>\n",
       "  <tbody>\n",
       "    <tr>\n",
       "      <th>16</th>\n",
       "      <td>NaN</td>\n",
       "    </tr>\n",
       "    <tr>\n",
       "      <th>35</th>\n",
       "      <td>NaN</td>\n",
       "    </tr>\n",
       "    <tr>\n",
       "      <th>176</th>\n",
       "      <td>NaN</td>\n",
       "    </tr>\n",
       "    <tr>\n",
       "      <th>217</th>\n",
       "      <td>NaN</td>\n",
       "    </tr>\n",
       "    <tr>\n",
       "      <th>228</th>\n",
       "      <td>NaN</td>\n",
       "    </tr>\n",
       "    <tr>\n",
       "      <th>...</th>\n",
       "      <td>...</td>\n",
       "    </tr>\n",
       "    <tr>\n",
       "      <th>5651</th>\n",
       "      <td>NaN</td>\n",
       "    </tr>\n",
       "    <tr>\n",
       "      <th>5730</th>\n",
       "      <td>NaN</td>\n",
       "    </tr>\n",
       "    <tr>\n",
       "      <th>5759</th>\n",
       "      <td>NaN</td>\n",
       "    </tr>\n",
       "    <tr>\n",
       "      <th>5763</th>\n",
       "      <td>NaN</td>\n",
       "    </tr>\n",
       "    <tr>\n",
       "      <th>5764</th>\n",
       "      <td>NaN</td>\n",
       "    </tr>\n",
       "  </tbody>\n",
       "</table>\n",
       "<p>167 rows × 1 columns</p>\n",
       "</div>"
      ],
      "text/plain": [
       "      yule_distance\n",
       "16              NaN\n",
       "35              NaN\n",
       "176             NaN\n",
       "217             NaN\n",
       "228             NaN\n",
       "...             ...\n",
       "5651            NaN\n",
       "5730            NaN\n",
       "5759            NaN\n",
       "5763            NaN\n",
       "5764            NaN\n",
       "\n",
       "[167 rows x 1 columns]"
      ]
     },
     "execution_count": 9,
     "metadata": {},
     "output_type": "execute_result"
    }
   ],
   "source": [
    "#Replacing, but still problems\n",
    "df.replace(np.nan, df.mean(), inplace=True)\n",
    "col_mask=df.isnull().any(axis=0) \n",
    "row_mask=df.isnull().any(axis=1)\n",
    "df.loc[row_mask,col_mask]"
   ]
  },
  {
   "cell_type": "code",
   "execution_count": 10,
   "metadata": {},
   "outputs": [],
   "source": [
    "#Replacing inf by max and -inf by min\n",
    "mask = df['yule_distance'] != np.inf\n",
    "df.loc[~mask, 'yule_distance'] = df.loc[mask, 'yule_distance'].max()\n",
    "bmask = df['yule_distance'] != -np.inf\n",
    "df.loc[~bmask, 'yule_distance'] = df.loc[bmask, 'yule_distance'].min()"
   ]
  },
  {
   "cell_type": "code",
   "execution_count": 11,
   "metadata": {},
   "outputs": [
    {
     "name": "stdout",
     "output_type": "stream",
     "text": [
      "1.3010968741795017\n"
     ]
    }
   ],
   "source": [
    "#Replacing inf and -inf by the mean of the rest of the values\n",
    "is_inf = df.yule_distance == np.inf \n",
    "is_ninf = df.yule_distance == -np.inf\n",
    "yule_mean = df.yule_distance[~is_inf & ~is_ninf].mean()\n",
    "print(yule_mean)"
   ]
  },
  {
   "cell_type": "code",
   "execution_count": 12,
   "metadata": {},
   "outputs": [
    {
     "name": "stdout",
     "output_type": "stream",
     "text": [
      "binary_distance                   0.000000\n",
      "braycurtis_distance               0.341267\n",
      "canberra_distance                11.244317\n",
      "chebyshev_distance                1.179571\n",
      "containment_distance              0.756179\n",
      "correlation_distance              1.073415\n",
      "cosine_distance                   0.687943\n",
      "damerau_levenshtein_distance     52.452471\n",
      "dice_coefficient                  0.589374\n",
      "dice_distance                     0.219358\n",
      "edit_similarity                   0.565265\n",
      "euclidean_distance                3.442548\n",
      "hamming_distance                105.863118\n",
      "interval_distance                11.561182\n",
      "jaccard_distance                  0.564055\n",
      "jaro_distance                     0.765100\n",
      "jaro_winkler_distance             0.802584\n",
      "kulsinski_distance                0.348925\n",
      "lcs_distance                     84.088144\n",
      "lcs_similarity                    0.709653\n",
      "levenshtein_distance             52.492223\n",
      "mahalanobis_distance              8.794717\n",
      "manhattan_distance               11.985482\n",
      "masi_distance                     0.855458\n",
      "match_rating_comparison           0.523159\n",
      "matching_coefficient             24.909264\n",
      "matching_coefficient_pablo        0.381136\n",
      "matching_distance                 0.514637\n",
      "minkowski_distance               11.985482\n",
      "needleman_wunsch_distance       104.984445\n",
      "needleman_wunsch_similarity       0.948028\n",
      "overlap_distance                  0.640985\n",
      "qgram_distance                    0.589374\n",
      "rogerstanimoto_distance           0.291993\n",
      "russellrao_distance               0.344455\n",
      "seuclidean_distance               4.761386\n",
      "smith_waterman_distance         134.378500\n",
      "sokalmichener_distance            0.291993\n",
      "sokalsneath_distance              0.441653\n",
      "sqeuclidean_distance             12.437608\n",
      "token_containment_distance        0.593774\n",
      "token_hamming_distance            0.514637\n",
      "yule_distance                     1.301097\n",
      "dtype: float64\n"
     ]
    },
    {
     "data": {
      "text/html": [
       "<div>\n",
       "<style scoped>\n",
       "    .dataframe tbody tr th:only-of-type {\n",
       "        vertical-align: middle;\n",
       "    }\n",
       "\n",
       "    .dataframe tbody tr th {\n",
       "        vertical-align: top;\n",
       "    }\n",
       "\n",
       "    .dataframe thead th {\n",
       "        text-align: right;\n",
       "    }\n",
       "</style>\n",
       "<table border=\"1\" class=\"dataframe\">\n",
       "  <thead>\n",
       "    <tr style=\"text-align: right;\">\n",
       "      <th></th>\n",
       "      <th>yule_distance</th>\n",
       "    </tr>\n",
       "  </thead>\n",
       "  <tbody>\n",
       "    <tr>\n",
       "      <th>16</th>\n",
       "      <td>NaN</td>\n",
       "    </tr>\n",
       "    <tr>\n",
       "      <th>35</th>\n",
       "      <td>NaN</td>\n",
       "    </tr>\n",
       "    <tr>\n",
       "      <th>176</th>\n",
       "      <td>NaN</td>\n",
       "    </tr>\n",
       "    <tr>\n",
       "      <th>217</th>\n",
       "      <td>NaN</td>\n",
       "    </tr>\n",
       "    <tr>\n",
       "      <th>228</th>\n",
       "      <td>NaN</td>\n",
       "    </tr>\n",
       "    <tr>\n",
       "      <th>...</th>\n",
       "      <td>...</td>\n",
       "    </tr>\n",
       "    <tr>\n",
       "      <th>5651</th>\n",
       "      <td>NaN</td>\n",
       "    </tr>\n",
       "    <tr>\n",
       "      <th>5730</th>\n",
       "      <td>NaN</td>\n",
       "    </tr>\n",
       "    <tr>\n",
       "      <th>5759</th>\n",
       "      <td>NaN</td>\n",
       "    </tr>\n",
       "    <tr>\n",
       "      <th>5763</th>\n",
       "      <td>NaN</td>\n",
       "    </tr>\n",
       "    <tr>\n",
       "      <th>5764</th>\n",
       "      <td>NaN</td>\n",
       "    </tr>\n",
       "  </tbody>\n",
       "</table>\n",
       "<p>167 rows × 1 columns</p>\n",
       "</div>"
      ],
      "text/plain": [
       "      yule_distance\n",
       "16              NaN\n",
       "35              NaN\n",
       "176             NaN\n",
       "217             NaN\n",
       "228             NaN\n",
       "...             ...\n",
       "5651            NaN\n",
       "5730            NaN\n",
       "5759            NaN\n",
       "5763            NaN\n",
       "5764            NaN\n",
       "\n",
       "[167 rows x 1 columns]"
      ]
     },
     "execution_count": 12,
     "metadata": {},
     "output_type": "execute_result"
    }
   ],
   "source": [
    "#Replacing, the inf & -inf by the mean of the rest\n",
    "df.replace([np.inf, -np.inf], df.yule_distance[~is_inf & ~is_ninf].mean(), inplace=True)\n",
    "print(df.mean())\n",
    "col_mask=df.isnull().any(axis=0) \n",
    "row_mask=df.isnull().any(axis=1)\n",
    "df.loc[row_mask,col_mask]"
   ]
  },
  {
   "cell_type": "markdown",
   "metadata": {},
   "source": [
    "For some reason the yule_distance still have __NaN__ values. So in the next block this problem is fixed writing directly to the cells with those values."
   ]
  },
  {
   "cell_type": "code",
   "execution_count": 14,
   "metadata": {},
   "outputs": [
    {
     "data": {
      "text/html": [
       "<div>\n",
       "<style scoped>\n",
       "    .dataframe tbody tr th:only-of-type {\n",
       "        vertical-align: middle;\n",
       "    }\n",
       "\n",
       "    .dataframe tbody tr th {\n",
       "        vertical-align: top;\n",
       "    }\n",
       "\n",
       "    .dataframe thead th {\n",
       "        text-align: right;\n",
       "    }\n",
       "</style>\n",
       "<table border=\"1\" class=\"dataframe\">\n",
       "  <thead>\n",
       "    <tr style=\"text-align: right;\">\n",
       "      <th></th>\n",
       "    </tr>\n",
       "  </thead>\n",
       "  <tbody>\n",
       "  </tbody>\n",
       "</table>\n",
       "</div>"
      ],
      "text/plain": [
       "Empty DataFrame\n",
       "Columns: []\n",
       "Index: []"
      ]
     },
     "execution_count": 14,
     "metadata": {},
     "output_type": "execute_result"
    }
   ],
   "source": [
    "df.loc[row_mask,col_mask] = yule_mean\n",
    "col_mask=df.isnull().any(axis=0) \n",
    "row_mask=df.isnull().any(axis=1)\n",
    "df.loc[row_mask,col_mask]"
   ]
  },
  {
   "cell_type": "markdown",
   "metadata": {},
   "source": [
    "Here also you can experiment that pd.DataFrame interpolation and fillna, ffill, all those methods fail when remain some inf or -inf values.\n",
    "\n",
    "    df.interpolate()\n",
    "    \n",
    "OR    \n",
    "\n",
    "    df.fillna(method='ffill')\n",
    "    \n",
    "OR\n",
    "\n",
    "    df.fillna(dff.mean())"
   ]
  },
  {
   "cell_type": "markdown",
   "metadata": {},
   "source": [
    "Originally this classical method with sklearn was implemented but (read the note)\n",
    "```python\n",
    "from sklearn.impute import SimpleImputer\n",
    "imr = SimpleImputer(missing_values=NaN, strategy='mean')\n",
    "imr = imr.fit(x)\n",
    "X = imr.transform(x)\n",
    "print(X.shape)\n",
    "```\n",
    "(5786, 42)"
   ]
  },
  {
   "cell_type": "markdown",
   "metadata": {},
   "source": [
    "**Note:** After some experiments was discovered a shape change in the data matrix because of the *Imputer* method. This change of shape isn't commented in any readed book until now. Imputer method is showed here because it is the classic example."
   ]
  },
  {
   "cell_type": "markdown",
   "metadata": {},
   "source": [
    "## Feature Scaling\n",
    "\n",
    "Transforming all features to the same scale."
   ]
  },
  {
   "cell_type": "code",
   "execution_count": 19,
   "metadata": {},
   "outputs": [
    {
     "name": "stdout",
     "output_type": "stream",
     "text": [
      "1.0000000000000002 19.270003160896454\n"
     ]
    }
   ],
   "source": [
    "from sklearn.preprocessing import scale\n",
    "X = df\n",
    "# A varian & Recomended: scale the data such that mean = 0 and standard deviation = 1\n",
    "# see \"Python Machine Learning Unlock deeper insights ...\" (Raschka2015), pag 111, first paragrah.\n",
    "X_s = scale(X,with_mean=True,with_std=True,axis=0)\n",
    "\n",
    "# B variant: Second way to scale\n",
    "from sklearn.preprocessing import MinMaxScaler\n",
    "mms = MinMaxScaler()\n",
    "X_s2 = mms.fit_transform(X)\n",
    "\n",
    "# C variant & Recomended: Same as way A\n",
    "# see \"Python Machine Learning Unlock deeper insights ...\" (Raschka2015), pag 111, first paragrah.\n",
    "from sklearn.preprocessing import StandardScaler\n",
    "stdsc = StandardScaler()\n",
    "X_s3 = stdsc.fit_transform(X)\n",
    "\n",
    "print(np.max(X_s2), np.max(X_s3))"
   ]
  },
  {
   "cell_type": "code",
   "execution_count": 33,
   "metadata": {},
   "outputs": [
    {
     "data": {
      "text/plain": [
       "pandas.core.frame.DataFrame"
      ]
     },
     "execution_count": 33,
     "metadata": {},
     "output_type": "execute_result"
    }
   ],
   "source": [
    "type(X)"
   ]
  },
  {
   "cell_type": "markdown",
   "metadata": {},
   "source": [
    "## Partitioning a dataset in training and test sets\n",
    "\n"
   ]
  },
  {
   "cell_type": "code",
   "execution_count": 21,
   "metadata": {},
   "outputs": [],
   "source": [
    "from sklearn.model_selection import train_test_split\n",
    "X_train, X_test, Y_train, Y_test = train_test_split(X_s, Y, test_size=0.3, random_state=4)\n",
    "Xs_train, Xs_test, Ys_train, Ys_test = train_test_split(X_s2, Y, test_size=0.3, random_state=4)\n",
    "\n",
    "input_dataset = np.column_stack([X_s,Y]) #Auxiliar dataset array for printing\n",
    "train,test=train_test_split(input_dataset,test_size=0.3)"
   ]
  },
  {
   "cell_type": "code",
   "execution_count": 22,
   "metadata": {},
   "outputs": [
    {
     "data": {
      "text/plain": [
       "((5786, 43), (5786, 43))"
      ]
     },
     "execution_count": 22,
     "metadata": {},
     "output_type": "execute_result"
    }
   ],
   "source": [
    "X_s.shape, X_s2.shape, train"
   ]
  },
  {
   "cell_type": "code",
   "execution_count": 31,
   "metadata": {},
   "outputs": [
    {
     "data": {
      "text/plain": [
       "(numpy.ndarray, (4050,), numpy.ndarray)"
      ]
     },
     "execution_count": 31,
     "metadata": {},
     "output_type": "execute_result"
    }
   ],
   "source": [
    "type(train), train[:,-1].shape, type(X_s)"
   ]
  },
  {
   "cell_type": "markdown",
   "metadata": {},
   "source": [
    "### Saving Data"
   ]
  },
  {
   "cell_type": "code",
   "execution_count": 34,
   "metadata": {},
   "outputs": [],
   "source": [
    "#saving obtained clean data for future notebooks\n",
    "import pickle\n",
    "data = [X_s, Y]\n",
    "positive_split_scaled_data = [X_s2, Y, msrpc.feature_names, index]\n",
    "pickle.dump(data, open('data/cleaned-scaled-data.pkl', 'wb'))\n",
    "pickle.dump(positive_split_scaled_data, open('data/clean-scaled-positive-data.pkl', 'wb'))"
   ]
  },
  {
   "cell_type": "markdown",
   "metadata": {},
   "source": [
    "## Feature Selection\n",
    "\n",
    "Read the page 118 of the book \"Python Machine Learning Unlock deeper insights ...\" (Raschka2015)."
   ]
  },
  {
   "cell_type": "code",
   "execution_count": 29,
   "metadata": {},
   "outputs": [],
   "source": [
    "from sklearn import feature_selection\n",
    "from sklearn.feature_selection import chi2"
   ]
  },
  {
   "cell_type": "code",
   "execution_count": 30,
   "metadata": {},
   "outputs": [],
   "source": [
    "#Note: SelectKBest doesn't work with none positive values, we use x_s2 for that reason.\n",
    "x_n = feature_selection.SelectKBest(chi2, k=10).fit_transform(x_s2, Y)"
   ]
  },
  {
   "cell_type": "code",
   "execution_count": 31,
   "metadata": {},
   "outputs": [
    {
     "data": {
      "text/plain": [
       "(5786, 10)"
      ]
     },
     "execution_count": 31,
     "metadata": {},
     "output_type": "execute_result"
    }
   ],
   "source": [
    "x_n.shape"
   ]
  },
  {
   "cell_type": "code",
   "execution_count": 32,
   "metadata": {},
   "outputs": [],
   "source": [
    "from sklearn.base import clone\n",
    "from itertools import combinations\n",
    "import numpy as np\n",
    "from sklearn.model_selection import train_test_split\n",
    "from sklearn.metrics import accuracy_score"
   ]
  },
  {
   "cell_type": "code",
   "execution_count": 33,
   "metadata": {},
   "outputs": [],
   "source": [
    "class SBS():\n",
    "    def __init__(self, estimator, k_features,\n",
    "        scoring=accuracy_score,\n",
    "        test_size=0.25, random_state=1):\n",
    "        self.scoring = scoring\n",
    "        self.estimator = clone(estimator)\n",
    "        self.k_features = k_features\n",
    "        self.test_size = test_size\n",
    "        self.random_state = random_state\n",
    "        \n",
    "    def fit(self, X, y):\n",
    "        X_train, X_test, y_train, y_test = \\\n",
    "                train_test_split(X, y, test_size=self.test_size,\n",
    "                                    random_state=self.random_state)\n",
    "        dim = X_train.shape[1]\n",
    "        self.indices_ = tuple(range(dim))\n",
    "        self.subsets_ = [self.indices_]\n",
    "        score = self._calc_score(X_train, y_train,\n",
    "                                    X_test, y_test, self.indices_)\n",
    "        self.scores_ = [score]\n",
    "        \n",
    "        while dim > self.k_features:\n",
    "            scores = []\n",
    "            subsets = []\n",
    "            \n",
    "            for p in combinations(self.indices_, r=dim-1):\n",
    "                score = self._calc_score(X_train, y_train,\n",
    "                                            X_test, y_test, p)\n",
    "                scores.append(score)\n",
    "                subsets.append(p)\n",
    "\n",
    "            best = np.argmax(scores)\n",
    "            self.indices_ = subsets[best]\n",
    "            self.subsets_.append(self.indices_)\n",
    "            dim -= 1\n",
    "\n",
    "            self.scores_.append(scores[best])\n",
    "        self.k_score_ = self.scores_[-1]\n",
    "        return self\n",
    "\n",
    "    def transform(self, X):\n",
    "        return X[:, self.indices_]\n",
    "\n",
    "    def _calc_score(self, X_train, y_train,\n",
    "                            X_test, y_test, indices):\n",
    "        self.estimator.fit(X_train[:, indices], y_train)\n",
    "        y_pred = self.estimator.predict(X_test[:, indices])\n",
    "        score = self.scoring(y_test, y_pred)\n",
    "        return score"
   ]
  },
  {
   "cell_type": "code",
   "execution_count": 34,
   "metadata": {},
   "outputs": [
    {
     "data": {
      "text/plain": [
       "<__main__.SBS at 0x7f91ce483a20>"
      ]
     },
     "execution_count": 34,
     "metadata": {},
     "output_type": "execute_result"
    }
   ],
   "source": [
    "from sklearn.neighbors import KNeighborsClassifier\n",
    "import matplotlib.pyplot as plt\n",
    "knn = KNeighborsClassifier(n_neighbors=3)\n",
    "#from sklearn.ensemble import RandomForestClassifier\n",
    "#forest = RandomForestClassifier(n_estimators=100, random_state=0, n_jobs=-1)\n",
    "#from sklearn.linear_model import LogisticRegression\n",
    "#logreg = LogisticRegression()\n",
    "#from sklearn.svm import SVC\n",
    "#clf = SVC(kernel='linear')\n",
    "#forest.fit(Xs_train, ys_train)\n",
    "sbs = SBS(knn, k_features=1)\n",
    "sbs.fit(Xs_train, ys_train)"
   ]
  },
  {
   "cell_type": "code",
   "execution_count": 35,
   "metadata": {},
   "outputs": [
    {
     "data": {
      "text/plain": [
       "24"
      ]
     },
     "execution_count": 35,
     "metadata": {},
     "output_type": "execute_result"
    }
   ],
   "source": [
    "sbs.scores_.index(max(sbs.scores_))"
   ]
  },
  {
   "cell_type": "code",
   "execution_count": 36,
   "metadata": {},
   "outputs": [
    {
     "data": {
      "image/png": "[encoded data removed]",
      "text/plain": [
       "<Figure size 432x288 with 1 Axes>"
      ]
     },
     "metadata": {
      "needs_background": "light"
     },
     "output_type": "display_data"
    }
   ],
   "source": [
    "sns.reset_orig()\n",
    "k_feat = [len(k) for k in sbs.subsets_]\n",
    "plt.plot(k_feat, sbs.scores_, marker='o')\n",
    "plt.ylim([0.1, 1])\n",
    "plt.ylabel('Accuracy')\n",
    "plt.xlabel('Number of features')\n",
    "plt.grid()\n",
    "plt.show()"
   ]
  },
  {
   "cell_type": "code",
   "execution_count": 37,
   "metadata": {},
   "outputs": [
    {
     "name": "stdout",
     "output_type": "stream",
     "text": [
      "['braycurtis_distance' 'canberra_distance' 'containment_distance'\n",
      " 'correlation_distance' 'cosine_distance' 'damerau_levenshtein_distance'\n",
      " 'dice_coefficient' 'dice_distance' 'edit_similarity' 'euclidean_distance'\n",
      " 'hamming_distance' 'interval_distance' 'jaccard_distance'\n",
      " 'jaro_winkler_distance' 'lcs_distance' 'lcs_similarity'\n",
      " 'levenshtein_distance' 'mahalanobis_distance' 'manhattan_distance'\n",
      " 'masi_distance' 'match_rating_comparison' 'matching_distance'\n",
      " 'minkowski_distance' 'overlap_distance' 'qgram_distance'\n",
      " 'russellrao_distance' 'seuclidean_distance' 'smith_waterman_distance'\n",
      " 'sokalsneath_distance' 'token_containment_distance'\n",
      " 'token_hamming_distance' 'yule_distance']\n"
     ]
    }
   ],
   "source": [
    "k5 = list(sbs.subsets_[11])\n",
    "print(feature_names[k5])"
   ]
  },
  {
   "cell_type": "code",
   "execution_count": 38,
   "metadata": {},
   "outputs": [
    {
     "name": "stdout",
     "output_type": "stream",
     "text": [
      "['braycurtis_distance' 'canberra_distance' 'containment_distance'\n",
      " 'correlation_distance' 'cosine_distance' 'damerau_levenshtein_distance'\n",
      " 'dice_coefficient' 'dice_distance' 'edit_similarity' 'euclidean_distance'\n",
      " 'interval_distance' 'jaccard_distance' 'jaro_winkler_distance'\n",
      " 'lcs_distance' 'lcs_similarity' 'levenshtein_distance'\n",
      " 'mahalanobis_distance' 'manhattan_distance' 'masi_distance'\n",
      " 'match_rating_comparison' 'matching_distance' 'qgram_distance'\n",
      " 'russellrao_distance' 'token_containment_distance' 'yule_distance']\n"
     ]
    }
   ],
   "source": [
    "k5 = list(sbs.subsets_[18])\n",
    "print(feature_names[k5])"
   ]
  },
  {
   "cell_type": "markdown",
   "metadata": {},
   "source": [
    "## Feature Importance\n",
    "\n",
    "Code from page 124 of the book \"Python Machine Learning Unlock deeper insights ...\" (Raschka2015).\n",
    "\n",
    "**Note**: This kind of evaluation of features, just assigned a rank to distances, but no group them or rerank it to get the most N important features."
   ]
  },
  {
   "cell_type": "code",
   "execution_count": 45,
   "metadata": {},
   "outputs": [],
   "source": [
    "from sklearn.ensemble import RandomForestClassifier\n",
    "forest = RandomForestClassifier(n_estimators=10000, random_state=0, n_jobs=-1)\n",
    "forest.fit(Xs_train, ys_train)\n",
    "importances = forest.feature_importances_"
   ]
  },
  {
   "cell_type": "code",
   "execution_count": 46,
   "metadata": {},
   "outputs": [
    {
     "name": "stdout",
     "output_type": "stream",
     "text": [
      " 1) binary_distance                0.048133\n",
      " 2) braycurtis_distance            0.044258\n",
      " 3) canberra_distance              0.043619\n",
      " 4) chebyshev_distance             0.043532\n",
      " 5) containment_distance           0.043129\n",
      " 6) correlation_distance           0.042648\n",
      " 7) cosine_distance                0.041479\n",
      " 8) damerau_levenshtein_distance   0.033021\n",
      " 9) dice_coefficient               0.032869\n",
      "10) dice_distance                  0.032439\n",
      "11) edit_similarity                0.026952\n",
      "12) euclidean_distance             0.026231\n",
      "13) hamming_distance               0.025166\n",
      "14) interval_distance              0.023963\n",
      "15) jaccard_distance               0.023732\n",
      "16) jaro_distance                  0.023471\n",
      "17) jaro_winkler_distance          0.023430\n",
      "18) kulsinski_distance             0.023347\n",
      "19) lcs_distance                   0.023018\n",
      "20) lcs_similarity                 0.022648\n",
      "21) levenshtein_distance           0.022596\n",
      "22) mahalanobis_distance           0.021664\n",
      "23) manhattan_distance             0.021628\n",
      "24) masi_distance                  0.021604\n",
      "25) match_rating_comparison        0.021500\n",
      "26) matching_coefficient           0.021153\n",
      "27) matching_coefficient_pablo     0.018560\n",
      "28) matching_distance              0.017587\n",
      "29) minkowski_distance             0.017584\n",
      "30) needleman_wunsch_distance      0.017411\n",
      "31) needleman_wunsch_similarity    0.016887\n",
      "32) overlap_distance               0.016806\n",
      "33) qgram_distance                 0.015451\n",
      "34) rogerstanimoto_distance        0.014370\n",
      "35) russellrao_distance            0.014249\n",
      "36) seuclidean_distance            0.014188\n",
      "37) smith_waterman_distance        0.013525\n",
      "38) sokalmichener_distance         0.013455\n",
      "39) sokalsneath_distance           0.013445\n",
      "40) sqeuclidean_distance           0.013397\n",
      "41) token_containment_distance     0.003472\n",
      "42) token_hamming_distance         0.002383\n",
      "43) yule_distance                  0.000000\n"
     ]
    }
   ],
   "source": [
    "indices = np.argsort(importances)[::-1]\n",
    "for f in range(Xs_train.shape[1]):\n",
    "    print(\"%2d) %-*s %f\" % (f + 1, 30, feature_names[f], importances[indices[f]]))"
   ]
  },
  {
   "cell_type": "markdown",
   "metadata": {},
   "source": [
    "# Conclusions\n",
    "\n",
    "The data preparation is a very important step in Machine Learning process. Its understanding implied full knowledge of file operations, data behaviour, math implications of missing or non-scaled values, the validation process implications with train and test data, outliers significance and feature selection importance to improve the accuracy of our models.\n",
    "\n",
    "Section *model evaluation example* shows that with only 10 features is possible to get results over 0.74 in accuracy metric."
   ]
  },
  {
   "cell_type": "markdown",
   "metadata": {},
   "source": [
    "# Recomendations\n",
    "\n",
    "* Read about **unregularized models** where *dimensionality reduction* via feature selection, is an alternative way to reduce the complexity of the model and avoid overfitting.\n",
    "\n",
    "* Study the way to introduce Stritified Kfold data in real experiments to fix the seeds and make comparable the results between different classifiers. [see 4.4](04.4-Classification) for kfold analysis of multiple classifiers.\n",
    "\n",
    "* Sklearn Bunch is a more complicated structure than pandas."
   ]
  },
  {
   "cell_type": "markdown",
   "metadata": {},
   "source": [
    "# Questions\n",
    "\n",
    "* Test feature selection in sparse data with linear models like Lasso or Logistic Regresion.\n",
    "* Use the class SelectFromModel inside feature_selection module, and try different classification models like svm, knn, etc.\n",
    "* Make a secuence of feature selection with SVM and a set of kernels like RBF ('rbf'), Gram Matrix ('precomputed'), Cosine('cosine'), 'linear', Polinomial('poly'), Sigmoid and a self kernel. Compare the selected features and their rank. "
   ]
  },
  {
   "cell_type": "markdown",
   "metadata": {},
   "source": [
    "# References and Resources\n",
    "\n",
    "* Rebecca Bilbro, \"Visual Diagnostics at Scale\". SciPy Conference, 2019.\n",
    "<a id='Bilbro2019'></a>\n",
    "\n",
    "* Sebastian Raschka, Book \"Python Machine Learning\". Packt Publishing, 2015.\n",
    "<a id='Raschka2015'></a>\n",
    "\n",
    "* Gopi Subramanian, Book \"Python Data Science Cookbook\". Packt Publishing, 2015.\n",
    "<a id='Subramanian2015'></a>\n",
    "\n",
    "* Alberto Boschetti & Luca Massaron, Book \"Python Data Science Essential\". Packt Publishing, 2015.\n",
    "<a id='Boschetti2015'></a>\n",
    "\n",
    "* Trent Hauck, Book \"Scikit-learn Cookbook\". Packt Publishing, 2014.\n",
    "<a id='Hauck2015'></a>"
   ]
  }
 ],
 "metadata": {
  "kernelspec": {
   "display_name": "Python 3",
   "language": "python",
   "name": "python3"
  },
  "language_info": {
   "codemirror_mode": {
    "name": "ipython",
    "version": 3
   },
   "file_extension": ".py",
   "mimetype": "text/x-python",
   "name": "python",
   "nbconvert_exporter": "python",
   "pygments_lexer": "ipython3",
   "version": "3.6.9"
  }
 },
 "nbformat": 4,
 "nbformat_minor": 1
}
