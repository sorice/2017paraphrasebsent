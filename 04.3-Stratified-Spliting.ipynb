{
 "cells": [
  {
   "cell_type": "markdown",
   "metadata": {},
   "source": [
    "# Stratified Spliting"
   ]
  },
  {
   "cell_type": "markdown",
   "metadata": {},
   "source": [
    "## Loading Data"
   ]
  },
  {
   "cell_type": "code",
   "execution_count": 2,
   "metadata": {},
   "outputs": [
    {
     "name": "stdout",
     "output_type": "stream",
     "text": [
      "Populating the interactive namespace from numpy and matplotlib\n"
     ]
    }
   ],
   "source": [
    "%pylab inline\n",
    "import pickle\n",
    "#Loading the splited MSRP corpus\n",
    "data = open('data/cleaned-scaled-data.pkl','rb')\n",
    "X, Y = pickle.load(data)\n",
    "data = open('data/clean-scaled-positive-data.pkl', 'rb')\n",
    "Xs, Ys = pickle.load(data)"
   ]
  },
  {
   "cell_type": "markdown",
   "metadata": {},
   "source": [
    "## Stratified Split\n",
    "\n",
    "In order to achieve equal class distribution in the training and the test sets.\n",
    "\n",
    "Code from \"Python Data Science Cookbook\", page 538, Subramanian2015."
   ]
  },
  {
   "cell_type": "code",
   "execution_count": 4,
   "metadata": {},
   "outputs": [],
   "source": [
    "from sklearn.model_selection import StratifiedShuffleSplit\n",
    "\n",
    "def get_train_test(x,y):\n",
    "    \"\"\"\n",
    "    Perpare a stratified train and test split\n",
    "    \"\"\"\n",
    "    train_size = 0.7\n",
    "    test_size = 1-train_size\n",
    "    stratified_split = StratifiedShuffleSplit(n_splits=5,test_size=test_size)\n",
    "    \n",
    "    for train_index,test_index in stratified_split.split(x,y):\n",
    "        train_x, test_x = x[train_index], x[test_index]\n",
    "        train_y, test_y = y[train_index], y[test_index]\n",
    "    return train_x,train_y,test_x,test_y\n",
    "\n",
    "Xs_train, Ys_train, Xs_test, Ys_test = get_train_test(Xs,Ys)"
   ]
  },
  {
   "cell_type": "code",
   "execution_count": 28,
   "metadata": {},
   "outputs": [],
   "source": [
    "def get_class_distribution(y):\n",
    "    \"\"\"Given an array of class labels\n",
    "    Return the class distribution\n",
    "    \"\"\"\n",
    "    distribution = {}\n",
    "    set_y = set(y)\n",
    "    \n",
    "    for y_label in set_y:\n",
    "        no_elements = len(np.where(y == y_label)[0])\n",
    "        distribution[y_label] = no_elements\n",
    "    dataset_size = 0\n",
    "    for class_label, count in distribution.items():\n",
    "        dataset_size += distribution[class_label]\n",
    "    dist_percentage = {class_label: count/(1.0*dataset_size) \n",
    "                       for class_label,count in distribution.items()}\n",
    "    return dist_percentage"
   ]
  },
  {
   "cell_type": "code",
   "execution_count": 29,
   "metadata": {},
   "outputs": [],
   "source": [
    "def print_class_label_split(train,test):\n",
    "    \"\"\"\n",
    "    Print the class distribution\n",
    "    in test and train dataset\n",
    "    \"\"\"\n",
    "    y_train = train\n",
    "    \n",
    "    train_distribution = get_class_distribution(y_train)\n",
    "    print(\"\\nTrain dat set class label distribution\")\n",
    "    print(\"=========================================\\n\")\n",
    "    for k,v in train_distribution.items():\n",
    "        print(\"Class label =%d, percentage records =%.2f\"%(k,v))\n",
    "    \n",
    "    y_test = test\n",
    "    \n",
    "    test_distribution = get_class_distribution(y_test)\n",
    "    \n",
    "    print(\"\\nTest data set class label distribution\")\n",
    "    print(\"=========================================\\n\")\n",
    "    \n",
    "    for k,v in test_distribution.items():\n",
    "        print(\"Class label =%d, percentage records =%.2f\"%(k,v))"
   ]
  },
  {
   "cell_type": "code",
   "execution_count": 30,
   "metadata": {},
   "outputs": [
    {
     "name": "stdout",
     "output_type": "stream",
     "text": [
      "\n",
      "Train dat set class label distribution\n",
      "=========================================\n",
      "\n",
      "Class label =0, percentage records =0.33\n",
      "Class label =1, percentage records =0.67\n",
      "\n",
      "Test data set class label distribution\n",
      "=========================================\n",
      "\n",
      "Class label =0, percentage records =0.33\n",
      "Class label =1, percentage records =0.67\n"
     ]
    }
   ],
   "source": [
    "print_class_label_split(Ys_train,Ys_test)"
   ]
  },
  {
   "cell_type": "code",
   "execution_count": 31,
   "metadata": {},
   "outputs": [
    {
     "data": {
      "text/plain": [
       "((1736, 43), (4050, 43), (1736,), (4050,))"
      ]
     },
     "execution_count": 31,
     "metadata": {},
     "output_type": "execute_result"
    }
   ],
   "source": [
    "Xs_test.shape,Xs_train.shape, Ys_test.shape, Ys_train.shape"
   ]
  },
  {
   "cell_type": "code",
   "execution_count": 51,
   "metadata": {},
   "outputs": [],
   "source": [
    "data = [Xs_train, Xs_test, Ys_train, Ys_test]\n",
    "pickle.dump(data, open('data/strat-split-data.pkl', 'wb'))"
   ]
  },
  {
   "cell_type": "markdown",
   "metadata": {},
   "source": [
    "## Stratified KFold"
   ]
  },
  {
   "cell_type": "code",
   "execution_count": 33,
   "metadata": {},
   "outputs": [],
   "source": [
    "from sklearn.model_selection import KFold,StratifiedKFold"
   ]
  },
  {
   "cell_type": "code",
   "execution_count": 34,
   "metadata": {},
   "outputs": [],
   "source": [
    "def class_distribution(y):\n",
    "    class_dist = {}\n",
    "    total = 0\n",
    "    for entry in y:\n",
    "        try:\n",
    "            class_dist[entry]+=1\n",
    "        except KeyError:\n",
    "            class_dist[entry]=1\n",
    "        total+=1\n",
    "    \n",
    "    for k,v in class_dist.items():\n",
    "        print (\"\\tclass %d percentage =%0.2f\"%(k,v/(1.0*total)))"
   ]
  },
  {
   "cell_type": "code",
   "execution_count": 38,
   "metadata": {},
   "outputs": [
    {
     "name": "stdout",
     "output_type": "stream",
     "text": [
      "Fold 1 x train shape (5207, 43)  x test shape (579, 43)\n",
      "Fold 2 x train shape (5207, 43)  x test shape (579, 43)\n",
      "Fold 3 x train shape (5207, 43)  x test shape (579, 43)\n",
      "Fold 4 x train shape (5207, 43)  x test shape (579, 43)\n",
      "Fold 5 x train shape (5207, 43)  x test shape (579, 43)\n",
      "Fold 6 x train shape (5207, 43)  x test shape (579, 43)\n",
      "Fold 7 x train shape (5208, 43)  x test shape (578, 43)\n",
      "Fold 8 x train shape (5208, 43)  x test shape (578, 43)\n",
      "Fold 9 x train shape (5208, 43)  x test shape (578, 43)\n",
      "Fold 10 x train shape (5208, 43)  x test shape (578, 43)\n",
      "\n",
      "Fold 1 x train shape (5207, 43)  x test shape (579, 43)\n",
      "Train Class Distribution\n",
      "\tclass 1 percentage =0.67\n",
      "\tclass 0 percentage =0.33\n",
      "Test Class Distribution\n",
      "\tclass 1 percentage =0.67\n",
      "\tclass 0 percentage =0.33\n",
      "\n",
      "Fold 2 x train shape (5207, 43)  x test shape (579, 43)\n",
      "Train Class Distribution\n",
      "\tclass 1 percentage =0.67\n",
      "\tclass 0 percentage =0.33\n",
      "Test Class Distribution\n",
      "\tclass 1 percentage =0.67\n",
      "\tclass 0 percentage =0.33\n",
      "\n",
      "Fold 3 x train shape (5207, 43)  x test shape (579, 43)\n",
      "Train Class Distribution\n",
      "\tclass 1 percentage =0.67\n",
      "\tclass 0 percentage =0.33\n",
      "Test Class Distribution\n",
      "\tclass 1 percentage =0.67\n",
      "\tclass 0 percentage =0.33\n",
      "\n",
      "Fold 4 x train shape (5207, 43)  x test shape (579, 43)\n",
      "Train Class Distribution\n",
      "\tclass 1 percentage =0.67\n",
      "\tclass 0 percentage =0.33\n",
      "Test Class Distribution\n",
      "\tclass 0 percentage =0.33\n",
      "\tclass 1 percentage =0.67\n",
      "\n",
      "Fold 5 x train shape (5207, 43)  x test shape (579, 43)\n",
      "Train Class Distribution\n",
      "\tclass 1 percentage =0.67\n",
      "\tclass 0 percentage =0.33\n",
      "Test Class Distribution\n",
      "\tclass 0 percentage =0.33\n",
      "\tclass 1 percentage =0.67\n",
      "\n",
      "Fold 6 x train shape (5207, 43)  x test shape (579, 43)\n",
      "Train Class Distribution\n",
      "\tclass 1 percentage =0.67\n",
      "\tclass 0 percentage =0.33\n",
      "Test Class Distribution\n",
      "\tclass 0 percentage =0.33\n",
      "\tclass 1 percentage =0.67\n",
      "\n",
      "Fold 7 x train shape (5208, 43)  x test shape (578, 43)\n",
      "Train Class Distribution\n",
      "\tclass 1 percentage =0.67\n",
      "\tclass 0 percentage =0.33\n",
      "Test Class Distribution\n",
      "\tclass 0 percentage =0.33\n",
      "\tclass 1 percentage =0.67\n",
      "\n",
      "Fold 8 x train shape (5208, 43)  x test shape (578, 43)\n",
      "Train Class Distribution\n",
      "\tclass 1 percentage =0.67\n",
      "\tclass 0 percentage =0.33\n",
      "Test Class Distribution\n",
      "\tclass 0 percentage =0.33\n",
      "\tclass 1 percentage =0.67\n",
      "\n",
      "Fold 9 x train shape (5208, 43)  x test shape (578, 43)\n",
      "Train Class Distribution\n",
      "\tclass 1 percentage =0.67\n",
      "\tclass 0 percentage =0.33\n",
      "Test Class Distribution\n",
      "\tclass 0 percentage =0.33\n",
      "\tclass 1 percentage =0.67\n",
      "\n",
      "Fold 10 x train shape (5208, 43)  x test shape (578, 43)\n",
      "Train Class Distribution\n",
      "\tclass 1 percentage =0.67\n",
      "\tclass 0 percentage =0.33\n",
      "Test Class Distribution\n",
      "\tclass 0 percentage =0.33\n",
      "\tclass 1 percentage =0.67\n"
     ]
    }
   ],
   "source": [
    "#3 folds\n",
    "kfolds = KFold(n_splits=10)\n",
    "fold_count = 1\n",
    "for train,test in kfolds.split(X, Y):\n",
    "    print(\"Fold %d x train shape\"%(fold_count),X[train].shape,\\\n",
    "    \" x test shape\",X[test].shape)\n",
    "    fold_count+=1\n",
    "\n",
    "#Stratified KFold\n",
    "skfolds = StratifiedKFold(n_splits=10)\n",
    "fold_count = 1\n",
    "Yk_train = {}\n",
    "for train,test in skfolds.split(X, Y):\n",
    "    print(\"\\nFold %d x train shape\"%(fold_count),X[train].shape,\\\n",
    "    \" x test shape\",X[test].shape)\n",
    "    Yk_train = Y[train]\n",
    "    Xk_train = X[train]\n",
    "    Yk_test = Y[test]\n",
    "    Xk_test = X[test]\n",
    "    print (\"Train Class Distribution\")\n",
    "    class_distribution(Yk_train)\n",
    "    print (\"Test Class Distribution\")\n",
    "    class_distribution(Yk_test)\n",
    "    fold_count+=1"
   ]
  },
  {
   "cell_type": "code",
   "execution_count": 50,
   "metadata": {},
   "outputs": [],
   "source": [
    "data = [Xk_train, Xk_test, Yk_train, Yk_test]\n",
    "pickle.dump(data, open('data/strat-10ksplit-data.pkl', 'wb'))"
   ]
  }
 ],
 "metadata": {
  "kernelspec": {
   "display_name": "Python 3",
   "language": "python",
   "name": "python3"
  },
  "language_info": {
   "codemirror_mode": {
    "name": "ipython",
    "version": 3
   },
   "file_extension": ".py",
   "mimetype": "text/x-python",
   "name": "python",
   "nbconvert_exporter": "python",
   "pygments_lexer": "ipython3",
   "version": "3.6.9"
  }
 },
 "nbformat": 4,
 "nbformat_minor": 4
}
