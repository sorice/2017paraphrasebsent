{
 "cells": [
  {
   "cell_type": "markdown",
   "metadata": {},
   "source": [
    "<small><i>This notebook was put together by [Abel Meneses-Abad](http://www.menesesabad.com) for Paper *Paraphrase Beyond Sentence*. Source and license info is on [GitHub](https://github.com/sorice/2017paraphrasebsent/).</i></small>"
   ]
  },
  {
   "cell_type": "markdown",
   "metadata": {},
   "source": [
    "# Preprocessing Data"
   ]
  },
  {
   "cell_type": "code",
   "execution_count": 1,
   "metadata": {},
   "outputs": [
    {
     "name": "stderr",
     "output_type": "stream",
     "text": [
      "/usr/lib/python3/dist-packages/matplotlib/__init__.py:874: UserWarning: axes.color_cycle is deprecated and replaced with axes.prop_cycle; please use the latter.\n",
      "  warnings.warn(self.msg_depr % (key, alt_key))\n"
     ]
    }
   ],
   "source": [
    "%matplotlib inline\n",
    "# use seaborn plotting style defaults\n",
    "import seaborn as sns; sns.set()\n",
    "import matplotlib.pyplot as plt"
   ]
  },
  {
   "cell_type": "markdown",
   "metadata": {},
   "source": [
    "## From CSV to Sklearn Bunch"
   ]
  },
  {
   "cell_type": "code",
   "execution_count": 24,
   "metadata": {},
   "outputs": [],
   "source": [
    "import csv\n",
    "import numpy as np\n",
    "from sklearn.datasets.base import Bunch\n",
    "\n",
    "with open('data/MSRPC-2004/msrpc_test_textsim-42fb.csv') as csv_file:\n",
    "    data_file = csv.reader(csv_file)\n",
    "    temp = next(data_file)\n",
    "    n_samples = int(temp[0])\n",
    "    n_features = int(temp[1])\n",
    "    target_names = np.array(temp[2:4])\n",
    "    feature_names = np.array(temp[4:-1])\n",
    "    data = np.empty((n_samples, n_features))\n",
    "    target = np.empty((n_samples,), dtype=np.int)\n",
    "    \n",
    "    for i, ir in enumerate(data_file):\n",
    "        data[i] = np.asarray(ir[:-1], dtype=np.float)\n",
    "        if 'yes' in ir[-1]:\n",
    "            ir[-1] = 1\n",
    "        elif 'no' in ir[-1]:\n",
    "            ir[-1] = 0\n",
    "        target[i] = np.asarray(ir[-1], dtype=np.int)\n",
    "\n",
    "    fdescr = ''\n",
    "        \n",
    "msrpc = Bunch(data=data, target=target,\n",
    "    target_names=target_names,\n",
    "    DESCR=fdescr,\n",
    "    feature_names=feature_names)\n",
    "\n",
    "x = msrpc['data']\n",
    "Y = msrpc['target']\n",
    "\n",
    "input_dataset = np.column_stack([x,Y]) #Auxiliar dataset array for printing"
   ]
  },
  {
   "cell_type": "code",
   "execution_count": 27,
   "metadata": {},
   "outputs": [
    {
     "data": {
      "text/plain": [
       "(1671, 43)"
      ]
     },
     "execution_count": 27,
     "metadata": {},
     "output_type": "execute_result"
    }
   ],
   "source": [
    "data.shape"
   ]
  },
  {
   "cell_type": "code",
   "execution_count": 16,
   "metadata": {},
   "outputs": [
    {
     "data": {
      "text/plain": [
       "(array(['binary_distance', 'braycurtis_distance', 'canberra_distance',\n",
       "        'chebyshev_distance', 'containment_distance',\n",
       "        'correlation_distance', 'cosine_distance',\n",
       "        'damerau_levenshtein_distance', 'dice_coefficient', 'dice_distance',\n",
       "        'edit_similarity', 'euclidean_distance', 'hamming_distance',\n",
       "        'interval_distance', 'jaccard_distance', 'jaro_distance',\n",
       "        'jaro_winkler_distance', 'kulsinski_distance', 'lcs_distance',\n",
       "        'lcs_similarity', 'levenshtein_distance', 'mahalanobis_distance',\n",
       "        'manhattan_distance', 'masi_distance', 'match_rating_comparison',\n",
       "        'matching_coefficient', 'matching_coefficient_pablo',\n",
       "        'matching_distance', 'minkowski_distance',\n",
       "        'needleman_wunsch_distance', 'needleman_wunsch_similarity',\n",
       "        'overlap_distance', 'rogerstanimoto_distance',\n",
       "        'russellrao_distance', 'seuclidean_distance',\n",
       "        'smith_waterman_distance', 'sokalmichener_distance',\n",
       "        'sokalsneath_distance', 'sqeuclidean_distance',\n",
       "        'token_containment_distance', 'token_hamming_distance',\n",
       "        'yule_distance', 'id', 'class'], \n",
       "       dtype='<U28'), 44)"
      ]
     },
     "execution_count": 16,
     "metadata": {},
     "output_type": "execute_result"
    }
   ],
   "source": [
    "feature_names,len(feature_names)"
   ]
  },
  {
   "cell_type": "code",
   "execution_count": 17,
   "metadata": {},
   "outputs": [
    {
     "name": "stdout",
     "output_type": "stream",
     "text": [
      "nan [1 1 1 0 0 1 1 0 0 1 1 1 0 0 1 1 1 1 1 1]\n"
     ]
    }
   ],
   "source": [
    "print(x.mean(),Y[:20])"
   ]
  },
  {
   "cell_type": "markdown",
   "metadata": {},
   "source": [
    "**Note:** The mean value can be obtained due to *'NaN'* values inside data."
   ]
  },
  {
   "cell_type": "markdown",
   "metadata": {},
   "source": [
    "## Imputing missing values\n",
    "\n",
    "Read the page 102 of the book \"Python Machine Learning Unlock deeper insights ...\" (Raschka2015)."
   ]
  },
  {
   "cell_type": "code",
   "execution_count": 26,
   "metadata": {},
   "outputs": [
    {
     "name": "stdout",
     "output_type": "stream",
     "text": [
      "(1671, 42)\n"
     ]
    },
    {
     "data": {
      "text/plain": [
       "35.89751224859706"
      ]
     },
     "execution_count": 26,
     "metadata": {},
     "output_type": "execute_result"
    }
   ],
   "source": [
    "from sklearn.preprocessing import Imputer\n",
    "imr = Imputer(missing_values='NaN', strategy='mean', axis=0)\n",
    "imr = imr.fit(x)\n",
    "x2 = imr.transform(x)\n",
    "print(x2.shape)\n",
    "x2.mean()"
   ]
  },
  {
   "cell_type": "markdown",
   "metadata": {},
   "source": [
    "**Note:** In the 04.3-Classification-vs-Outliers notebook after some experiments was discovered a shape change in the data matrix because of the *Imputer* method. This change of shape isn't commented in any readed book until now. Imputer method is used here because it is the classic example, but a better way to deal with 'Nan' and without a shape change can be found in the notebook 04.3."
   ]
  },
  {
   "cell_type": "markdown",
   "metadata": {},
   "source": [
    "## Feature Scaling\n",
    "\n",
    "Transforming all features to the same scale."
   ]
  },
  {
   "cell_type": "code",
   "execution_count": 7,
   "metadata": {},
   "outputs": [
    {
     "name": "stdout",
     "output_type": "stream",
     "text": [
      "1.0 18.7497487961 20.9387536316\n"
     ]
    }
   ],
   "source": [
    "import scipy\n",
    "from sklearn.preprocessing import scale\n",
    "\n",
    "# A varian & Recomended: scale the data such that mean = 0 and standard deviation = 1\n",
    "# see \"Python Machine Learning Unlock deeper insights ...\" (Raschka2015), pag 111, first paragrah.\n",
    "x_s = scale(x2,with_mean=True,with_std=True,axis=0)\n",
    "\n",
    "# B variant: Second way to scale\n",
    "from sklearn.preprocessing import MinMaxScaler\n",
    "mms = MinMaxScaler()\n",
    "x_s2 = mms.fit_transform(x)\n",
    "\n",
    "# C variant & Recomended: Same as way A\n",
    "# see \"Python Machine Learning Unlock deeper insights ...\" (Raschka2015), pag 111, first paragrah.\n",
    "from sklearn.preprocessing import StandardScaler\n",
    "stdsc = StandardScaler()\n",
    "x_s3 = stdsc.fit_transform(x)\n",
    "\n",
    "print(np.max(x_s2), np.max(x_s3), np.max(x_s2 - x_s3))"
   ]
  },
  {
   "cell_type": "markdown",
   "metadata": {},
   "source": [
    "## Partitioning a dataset in training and test sets\n",
    "\n"
   ]
  },
  {
   "cell_type": "code",
   "execution_count": 8,
   "metadata": {},
   "outputs": [],
   "source": [
    "from sklearn.cross_validation import train_test_split\n",
    "X_train, X_test, y_train, y_test = train_test_split(x_s, Y, test_size=0.3, random_state=4)\n",
    "train,test=train_test_split(input_dataset,test_size=0.3)"
   ]
  },
  {
   "cell_type": "markdown",
   "metadata": {},
   "source": [
    "### Stratified Split\n",
    "\n",
    "In order to achieve equal class distribution in\tthe\ttraining and the test sets.\n",
    "\n",
    "Code from \"Python Data Science Cookbook\", page 538, Subramanian2015."
   ]
  },
  {
   "cell_type": "code",
   "execution_count": 9,
   "metadata": {},
   "outputs": [],
   "source": [
    "from sklearn.cross_validation import StratifiedShuffleSplit\n",
    "\n",
    "def get_train_test(x,y):\n",
    "    \"\"\"\n",
    "    Perpare a stratified train and test split\n",
    "    \"\"\"\n",
    "    train_size = 0.7\n",
    "    test_size = 1-train_size\n",
    "    input_dataset = np.column_stack([x,y])\n",
    "    stratified_split = StratifiedShuffleSplit(input_dataset[:,-1],test_size=test_size,n_iter=1)\n",
    "    for train_indx,test_indx in stratified_split:\n",
    "        train_x = input_dataset[train_indx,:-1]\n",
    "        train_y = input_dataset[train_indx,-1]\n",
    "        test_x = input_dataset[test_indx,:-1]\n",
    "        test_y = input_dataset[test_indx,-1]\n",
    "    return train_x,train_y,test_x,test_y\n",
    "\n",
    "Xs_train, ys_train, Xs_test, ys_test = get_train_test(x_s,Y)"
   ]
  },
  {
   "cell_type": "code",
   "execution_count": 10,
   "metadata": {},
   "outputs": [],
   "source": [
    "def get_class_distribution(y):\n",
    "    \"\"\"Given an array of class labels\n",
    "    Return the class distribution\n",
    "    \"\"\"\n",
    "    distribution = {}\n",
    "    set_y = set(y)\n",
    "    for y_label in set_y:\n",
    "        no_elements = len(np.where(y == y_label)[0])\n",
    "        distribution[y_label] = no_elements\n",
    "    dist_percentage = {class_label: count/(1.0*sum(distribution.values())) \n",
    "                       for class_label,count in distribution.items()}\n",
    "    return dist_percentage"
   ]
  },
  {
   "cell_type": "code",
   "execution_count": 11,
   "metadata": {},
   "outputs": [],
   "source": [
    "def print_class_label_split(train,test):\n",
    "    \"\"\"\n",
    "    Print the class distribution\n",
    "    in test and train dataset\n",
    "    \"\"\"\n",
    "    y_train = train[:,-1]\n",
    "    \n",
    "    train_distribution = get_class_distribution(y_train)\n",
    "    print(\"\\nTrain dat set class label distribution\")\n",
    "    print(\"=========================================\\n\")\n",
    "    for k,v in train_distribution.items():\n",
    "        print(\"Class label =%d, percentage records =%.2f\"%(k,v))\n",
    "    \n",
    "    y_test = test[:,-1]\n",
    "    \n",
    "    test_distribution = get_class_distribution(y_test)\n",
    "    \n",
    "    print(\"\\nTest data set class label distribution\")\n",
    "    print(\"=========================================\\n\")\n",
    "    \n",
    "    for k,v in test_distribution.items():\n",
    "        print(\"Class label =%d, percentage records =%.2f\"%(k,v))"
   ]
  },
  {
   "cell_type": "code",
   "execution_count": 12,
   "metadata": {},
   "outputs": [
    {
     "name": "stdout",
     "output_type": "stream",
     "text": [
      "\n",
      "Train dat set class label distribution\n",
      "=========================================\n",
      "\n",
      "Class label =0, percentage records =0.35\n",
      "Class label =1, percentage records =0.65\n",
      "\n",
      "Test data set class label distribution\n",
      "=========================================\n",
      "\n",
      "Class label =0, percentage records =0.31\n",
      "Class label =1, percentage records =0.69\n"
     ]
    }
   ],
   "source": [
    "print_class_label_split(train,test)"
   ]
  },
  {
   "cell_type": "code",
   "execution_count": 13,
   "metadata": {},
   "outputs": [
    {
     "data": {
      "text/plain": [
       "((502, 42), (1169, 42), (502, 42), (1169, 42))"
      ]
     },
     "execution_count": 13,
     "metadata": {},
     "output_type": "execute_result"
    }
   ],
   "source": [
    "Xs_test.shape,Xs_train.shape, X_test.shape, X_train.shape"
   ]
  },
  {
   "cell_type": "markdown",
   "metadata": {},
   "source": [
    "### Stratified KFold"
   ]
  },
  {
   "cell_type": "code",
   "execution_count": 14,
   "metadata": {},
   "outputs": [],
   "source": [
    "from sklearn.cross_validation import KFold,StratifiedKFold"
   ]
  },
  {
   "cell_type": "code",
   "execution_count": 15,
   "metadata": {},
   "outputs": [],
   "source": [
    "def class_distribution(y):\n",
    "    class_dist = {}\n",
    "    total = 0\n",
    "    for entry in y:\n",
    "        try:\n",
    "            class_dist[entry]+=1\n",
    "        except KeyError:\n",
    "            class_dist[entry]=1\n",
    "        total+=1\n",
    "    \n",
    "    for k,v in class_dist.items():\n",
    "        print (\"\\tclass %d percentage =%0.2f\"%(k,v/(1.0*total)))"
   ]
  },
  {
   "cell_type": "code",
   "execution_count": 16,
   "metadata": {},
   "outputs": [
    {
     "name": "stdout",
     "output_type": "stream",
     "text": [
      "Fold 1 x train shape (1114, 42)  x test shape (557, 42)\n",
      "Fold 1 x train shape (1114, 42)  x test shape (557, 42)\n",
      "Fold 1 x train shape (1114, 42)  x test shape (557, 42)\n",
      "\n",
      "Fold 1 x train shape (1113, 42)  x test shape (558, 42)\n",
      "Train Class Distribution\n",
      "\tclass 1 percentage =1.00\n",
      "Test Class Distribution\n",
      "\tclass 0 percentage =0.34\n",
      "\tclass 1 percentage =0.66\n",
      "\n",
      "Fold 2 x train shape (1114, 42)  x test shape (557, 42)\n",
      "Train Class Distribution\n",
      "\tclass 1 percentage =0.50\n",
      "\tclass 2 percentage =0.50\n",
      "Test Class Distribution\n",
      "\tclass 0 percentage =0.34\n",
      "\tclass 1 percentage =0.66\n",
      "\n",
      "Fold 3 x train shape (1115, 42)  x test shape (556, 42)\n",
      "Train Class Distribution\n",
      "\tclass 1 percentage =0.33\n",
      "\tclass 2 percentage =0.33\n",
      "\tclass 3 percentage =0.33\n",
      "Test Class Distribution\n",
      "\tclass 0 percentage =0.34\n",
      "\tclass 1 percentage =0.66\n"
     ]
    }
   ],
   "source": [
    "#3 folds\n",
    "kfolds = KFold(n=Y.shape[0],n_folds=3)\n",
    "fold_count = 1\n",
    "for train,test in kfolds:\n",
    "    print(\"Fold %d x train shape\"%(fold_count),x_s[train].shape,\\\n",
    "    \" x test shape\",x_s[test].shape)\n",
    "    fold_count==1\n",
    "\n",
    "#Stratified KFold\n",
    "skfolds = StratifiedKFold(Y,n_folds=3)\n",
    "fold_count = 1\n",
    "yk_train = {}\n",
    "for train,test in skfolds:\n",
    "    print(\"\\nFold %d x train shape\"%(fold_count),x_s[train].shape,\\\n",
    "    \" x test shape\",x_s[test].shape)\n",
    "    yk_train[fold_count] = Y[train]\n",
    "    xk_train = x_s[train]\n",
    "    yk_test = Y[test]\n",
    "    xk_test = x_s[test]\n",
    "    print (\"Train Class Distribution\")\n",
    "    class_distribution(yk_train)\n",
    "    print (\"Test Class Distribution\")\n",
    "    class_distribution(yk_test)\n",
    "    fold_count+=1\n",
    "\n"
   ]
  },
  {
   "cell_type": "code",
   "execution_count": 17,
   "metadata": {},
   "outputs": [
    {
     "data": {
      "text/plain": [
       "(1113,)"
      ]
     },
     "execution_count": 17,
     "metadata": {},
     "output_type": "execute_result"
    }
   ],
   "source": [
    "type(xk_test)\n",
    "yk_train[1].shape"
   ]
  },
  {
   "cell_type": "markdown",
   "metadata": {},
   "source": [
    "## Detection and Tratement of Outliers\n",
    "\n",
    "See Boschetti & Massaron 2015, \"Python Data Science Essentials\", page 102."
   ]
  },
  {
   "cell_type": "code",
   "execution_count": 18,
   "metadata": {},
   "outputs": [],
   "source": [
    "from sklearn.decomposition import PCA\n",
    "from sklearn.covariance import EllipticEnvelope\n",
    "\n",
    "pca = PCA(n_components=2)\n",
    "x_z = pca.fit_transform(x_s)\n",
    "vtot = 'PCA Variance explained ' + str(round(np.sum(pca.explained_variance_ratio_),3))\n",
    "v1 = str(round(pca.explained_variance_ratio_[0],3))\n",
    "v2 = str(round(pca.explained_variance_ratio_[1],3))\n",
    "robust_covariance_est = EllipticEnvelope(store_precision=False, \n",
    "                                         assume_centered = False, contamination=.05)\n",
    "robust_covariance_est.fit(x_z)\n",
    "detection = robust_covariance_est.predict(x_z)\n",
    "outliers = np.where(detection==-1)\n",
    "regular = np.where(detection==1)"
   ]
  },
  {
   "cell_type": "code",
   "execution_count": 19,
   "metadata": {},
   "outputs": [
    {
     "data": {
      "image/png": "[encoded data removed]",
      "text/plain": [
       "<matplotlib.figure.Figure at 0x7fee3b6a51d0>"
      ]
     },
     "metadata": {},
     "output_type": "display_data"
    }
   ],
   "source": [
    "# Draw the distribution and the detected outliers\n",
    "from matplotlib import pyplot as plt\n",
    "a = plt.plot(x_z[regular,0],x_z[regular,1],\n",
    "'o', markersize=4, color='black', alpha=0.6, label='inliers')\n",
    "b = plt.plot(x_z[outliers,0],x_z[outliers,1],\n",
    "'o', markersize=6,color='green', alpha=0.8, label='outliers')\n",
    "plt.xlabel('1st component ('+v1+')')\n",
    "plt.ylabel('2nd component ('+v2+')')\n",
    "plt.xlim([-7,7])\n",
    "plt.ylim([-6,6])\n",
    "plt.legend((a[0],b[0]),('inliers','outliers'),numpoints=1,loc='best')\n",
    "plt.title(vtot)\n",
    "plt.show()"
   ]
  },
  {
   "cell_type": "code",
   "execution_count": 20,
   "metadata": {},
   "outputs": [
    {
     "data": {
      "text/plain": [
       "84"
      ]
     },
     "execution_count": 20,
     "metadata": {},
     "output_type": "execute_result"
    }
   ],
   "source": [
    "len(outliers[0])"
   ]
  },
  {
   "cell_type": "markdown",
   "metadata": {},
   "source": [
    "## Feature Selection\n",
    "\n",
    "Read the page 118 of the book \"Python Machine Learning Unlock deeper insights ...\" (Raschka2015)."
   ]
  },
  {
   "cell_type": "code",
   "execution_count": 21,
   "metadata": {},
   "outputs": [],
   "source": [
    "from sklearn import feature_selection\n",
    "from sklearn.feature_selection import chi2"
   ]
  },
  {
   "cell_type": "code",
   "execution_count": 22,
   "metadata": {},
   "outputs": [],
   "source": [
    "#Note: SelectKBest doesn't work with none positive values, we use x_s2 for that reason.\n",
    "x_n = feature_selection.SelectKBest(chi2, k=10).fit_transform(x_s2, Y)"
   ]
  },
  {
   "cell_type": "code",
   "execution_count": 23,
   "metadata": {},
   "outputs": [
    {
     "data": {
      "text/plain": [
       "(1671, 10)"
      ]
     },
     "execution_count": 23,
     "metadata": {},
     "output_type": "execute_result"
    }
   ],
   "source": [
    "x_n.shape"
   ]
  },
  {
   "cell_type": "code",
   "execution_count": 30,
   "metadata": {},
   "outputs": [],
   "source": [
    "from sklearn.base import clone\n",
    "from itertools import combinations\n",
    "import numpy as np\n",
    "from sklearn.cross_validation import train_test_split\n",
    "from sklearn.metrics import accuracy_score"
   ]
  },
  {
   "cell_type": "code",
   "execution_count": 31,
   "metadata": {},
   "outputs": [],
   "source": [
    "class SBS():\n",
    "    def __init__(self, estimator, k_features,\n",
    "        scoring=accuracy_score,\n",
    "        test_size=0.25, random_state=1):\n",
    "        self.scoring = scoring\n",
    "        self.estimator = clone(estimator)\n",
    "        self.k_features = k_features\n",
    "        self.test_size = test_size\n",
    "        self.random_state = random_state\n",
    "        \n",
    "    def fit(self, X, y):\n",
    "        X_train, X_test, y_train, y_test = \\\n",
    "                train_test_split(X, y, test_size=self.test_size,\n",
    "                                    random_state=self.random_state)\n",
    "        dim = X_train.shape[1]\n",
    "        self.indices_ = tuple(range(dim))\n",
    "        self.subsets_ = [self.indices_]\n",
    "        score = self._calc_score(X_train, y_train,\n",
    "                                    X_test, y_test, self.indices_)\n",
    "        self.scores_ = [score]\n",
    "        \n",
    "        while dim > self.k_features:\n",
    "            scores = []\n",
    "            subsets = []\n",
    "            \n",
    "            for p in combinations(self.indices_, r=dim-1):\n",
    "                score = self._calc_score(X_train, y_train,\n",
    "                                            X_test, y_test, p)\n",
    "                scores.append(score)\n",
    "                subsets.append(p)\n",
    "\n",
    "            best = np.argmax(scores)\n",
    "            self.indices_ = subsets[best]\n",
    "            self.subsets_.append(self.indices_)\n",
    "            dim -= 1\n",
    "\n",
    "            self.scores_.append(scores[best])\n",
    "        self.k_score_ = self.scores_[-1]\n",
    "        return self\n",
    "\n",
    "    def transform(self, X):\n",
    "        return X[:, self.indices_]\n",
    "\n",
    "    def _calc_score(self, X_train, y_train,\n",
    "                            X_test, y_test, indices):\n",
    "        self.estimator.fit(X_train[:, indices], y_train)\n",
    "        y_pred = self.estimator.predict(X_test[:, indices])\n",
    "        score = self.scoring(y_test, y_pred)\n",
    "        return score"
   ]
  },
  {
   "cell_type": "code",
   "execution_count": 97,
   "metadata": {},
   "outputs": [
    {
     "data": {
      "text/plain": [
       "<__main__.SBS at 0x7fee330a2470>"
      ]
     },
     "execution_count": 97,
     "metadata": {},
     "output_type": "execute_result"
    }
   ],
   "source": [
    "#from sklearn.neighbors import KNeighborsClassifier\n",
    "#import matplotlib.pyplot as plt\n",
    "#knn = KNeighborsClassifier(n_neighbors=3)\n",
    "#from sklearn.ensemble import RandomForestClassifier\n",
    "#forest = RandomForestClassifier(n_estimators=100, random_state=0, n_jobs=-1)\n",
    "#from sklearn.linear_model import LogisticRegression\n",
    "#logreg = LogisticRegression()\n",
    "clf = SVC(kernel='linear')\n",
    "#forest.fit(Xs_train, ys_train)\n",
    "sbs = SBS(clf, k_features=1)\n",
    "sbs.fit(Xs_train, ys_train)"
   ]
  },
  {
   "cell_type": "code",
   "execution_count": 99,
   "metadata": {},
   "outputs": [
    {
     "data": {
      "text/plain": [
       "11"
      ]
     },
     "execution_count": 99,
     "metadata": {},
     "output_type": "execute_result"
    }
   ],
   "source": [
    "sbs.scores_.index(max(sbs.scores_))"
   ]
  },
  {
   "cell_type": "code",
   "execution_count": 100,
   "metadata": {},
   "outputs": [
    {
     "data": {
      "image/png": "[encoded data removed]",
      "text/plain": [
       "<matplotlib.figure.Figure at 0x7fee3804b438>"
      ]
     },
     "metadata": {},
     "output_type": "display_data"
    }
   ],
   "source": [
    "sns.reset_orig()\n",
    "k_feat = [len(k) for k in sbs.subsets_]\n",
    "plt.plot(k_feat, sbs.scores_, marker='o')\n",
    "plt.ylim([0.1, 1])\n",
    "plt.ylabel('Accuracy')\n",
    "plt.xlabel('Number of features')\n",
    "plt.grid()\n",
    "plt.show()"
   ]
  },
  {
   "cell_type": "code",
   "execution_count": 101,
   "metadata": {},
   "outputs": [
    {
     "name": "stdout",
     "output_type": "stream",
     "text": [
      "['euclidean_distance' ' damerau_levenshtein_distance'\n",
      " ' levenshtein_distance' ' masi_distance' ' dice_coefficient'\n",
      " ' jaro_distance' ' braycurtis_distance' ' rogerstanimoto_distance'\n",
      " ' kulsinski_distance' ' matching_coefficient_pablo'\n",
      " ' match_rating_comparison' ' token_containment_distance'\n",
      " ' sokalmichener_distance' ' smith_waterman_distance'\n",
      " ' matching_coefficient' ' minkowski_distance' ' jaro_winkler_distance'\n",
      " ' correlation_distance' ' matching_distance' ' manhattan_distance'\n",
      " ' russellrao_distance' ' lcs_distance' ' sokalsneath_distance'\n",
      " ' needleman_wunsch_similarity' ' canberra_distance' ' dice_distance'\n",
      " ' containment_distance' ' interval_distance' ' jaccard_distance'\n",
      " ' lcs_similarity' ' edit_similarity']\n"
     ]
    }
   ],
   "source": [
    "k5 = list(sbs.subsets_[11])\n",
    "print(feature_names[k5])"
   ]
  },
  {
   "cell_type": "code",
   "execution_count": 75,
   "metadata": {},
   "outputs": [
    {
     "name": "stdout",
     "output_type": "stream",
     "text": [
      "['euclidean_distance' ' damerau_levenshtein_distance'\n",
      " ' levenshtein_distance' ' dice_coefficient' ' jaro_distance'\n",
      " ' braycurtis_distance' ' matching_coefficient_pablo'\n",
      " ' match_rating_comparison' ' token_containment_distance'\n",
      " ' smith_waterman_distance' ' matching_coefficient' ' minkowski_distance'\n",
      " ' mahalanobis_distance' ' correlation_distance' ' matching_distance'\n",
      " ' manhattan_distance' ' lcs_distance' ' needleman_wunsch_similarity'\n",
      " ' canberra_distance' ' dice_distance' ' containment_distance'\n",
      " ' lcs_similarity' ' edit_similarity' ' hamming_distance']\n"
     ]
    }
   ],
   "source": [
    "k5 = list(sbs.subsets_[18])\n",
    "print(feature_names[k5])"
   ]
  },
  {
   "cell_type": "markdown",
   "metadata": {},
   "source": [
    "## Model Evaluation Example"
   ]
  },
  {
   "cell_type": "code",
   "execution_count": 107,
   "metadata": {},
   "outputs": [
    {
     "data": {
      "text/plain": [
       "0.74684559452523525"
      ]
     },
     "execution_count": 107,
     "metadata": {},
     "output_type": "execute_result"
    }
   ],
   "source": [
    "from sklearn.linear_model import LogisticRegression\n",
    "logreg = LogisticRegression()\n",
    "from sklearn.cross_validation import cross_val_score\n",
    "cross_val_score(logreg, x_s, Y, cv=10, scoring='accuracy').mean()"
   ]
  },
  {
   "cell_type": "code",
   "execution_count": 88,
   "metadata": {},
   "outputs": [
    {
     "data": {
      "text/plain": [
       "0.72767623101473478"
      ]
     },
     "execution_count": 88,
     "metadata": {},
     "output_type": "execute_result"
    }
   ],
   "source": [
    "from sklearn.neighbors import KNeighborsClassifier\n",
    "knn = KNeighborsClassifier(n_neighbors=30)\n",
    "cross_val_score(knn, x_s, Y, cv=10, scoring='accuracy').mean()"
   ]
  },
  {
   "cell_type": "code",
   "execution_count": 90,
   "metadata": {},
   "outputs": [
    {
     "data": {
      "text/plain": [
       "0.72584413788601787"
      ]
     },
     "execution_count": 90,
     "metadata": {},
     "output_type": "execute_result"
    }
   ],
   "source": [
    "from sklearn.ensemble import RandomForestClassifier\n",
    "forest = RandomForestClassifier(n_estimators=1000, random_state=0, n_jobs=-1)\n",
    "cross_val_score(forest, x_s, Y, cv=10, scoring='accuracy').mean()"
   ]
  },
  {
   "cell_type": "code",
   "execution_count": 110,
   "metadata": {},
   "outputs": [
    {
     "data": {
      "text/plain": [
       "0.75165396401688866"
      ]
     },
     "execution_count": 110,
     "metadata": {},
     "output_type": "execute_result"
    }
   ],
   "source": [
    "from sklearn.svm import SVC # \"Support Vector Classifier\"\n",
    "clf = SVC(kernel='linear')\n",
    "cross_val_score(clf, x_s, Y, cv=10, scoring='accuracy').mean()"
   ]
  },
  {
   "cell_type": "markdown",
   "metadata": {},
   "source": [
    "The two best models are SVC and LogisticRegression. Let will see the results of this two models using **x_n** data (the 10 best features selected using SelectKBest)"
   ]
  },
  {
   "cell_type": "code",
   "execution_count": 106,
   "metadata": {},
   "outputs": [
    {
     "data": {
      "text/plain": [
       "0.73664783170320292"
      ]
     },
     "execution_count": 106,
     "metadata": {},
     "output_type": "execute_result"
    }
   ],
   "source": [
    "cross_val_score(logreg, x_n, Y, cv=10, scoring='accuracy').mean()"
   ]
  },
  {
   "cell_type": "code",
   "execution_count": 111,
   "metadata": {},
   "outputs": [
    {
     "data": {
      "text/plain": [
       "0.74203366073361032"
      ]
     },
     "execution_count": 111,
     "metadata": {},
     "output_type": "execute_result"
    }
   ],
   "source": [
    "cross_val_score(clf, x_n, Y, cv=10, scoring='accuracy').mean()"
   ]
  },
  {
   "cell_type": "markdown",
   "metadata": {},
   "source": [
    "## Feature Importance\n",
    "\n",
    "Code from page 124 of the book \"Python Machine Learning Unlock deeper insights ...\" (Raschka2015).\n",
    "\n",
    "**Note**: This kind of evaluation of features, just assigned a rank to distances, but no group them or rerank it to get the most N important features."
   ]
  },
  {
   "cell_type": "code",
   "execution_count": 27,
   "metadata": {},
   "outputs": [],
   "source": [
    "from sklearn.ensemble import RandomForestClassifier\n",
    "forest = RandomForestClassifier(n_estimators=10000, random_state=0, n_jobs=-1)\n",
    "forest.fit(Xs_train, ys_train)\n",
    "importances = forest.feature_importances_"
   ]
  },
  {
   "cell_type": "code",
   "execution_count": 28,
   "metadata": {},
   "outputs": [
    {
     "name": "stdout",
     "output_type": "stream",
     "text": [
      " 1) euclidean_distance             0.051584\n",
      " 2)  damerau_levenshtein_distance  0.045922\n",
      " 3)  levenshtein_distance          0.044593\n",
      " 4)  masi_distance                 0.044066\n",
      " 5)  dice_coefficient              0.043551\n",
      " 6)  jaro_distance                 0.037226\n",
      " 7)  braycurtis_distance           0.035751\n",
      " 8)  cosine_distance               0.033823\n",
      " 9)  rogerstanimoto_distance       0.032912\n",
      "10)  kulsinski_distance            0.032423\n",
      "11)  matching_coefficient_pablo    0.032387\n",
      "12)  match_rating_comparison       0.031479\n",
      "13)  overlap_distance              0.031235\n",
      "14)  token_containment_distance    0.026167\n",
      "15)  sokalmichener_distance        0.025467\n",
      "16)  smith_waterman_distance       0.025291\n",
      "17)  matching_coefficient          0.025013\n",
      "18)  minkowski_distance            0.025003\n",
      "19)  jaro_winkler_distance         0.022806\n",
      "20)  mahalanobis_distance          0.022678\n",
      "21)  correlation_distance          0.022573\n",
      "22)  matching_distance             0.022151\n",
      "23)  manhattan_distance            0.021712\n",
      "24)  russellrao_distance           0.021406\n",
      "25)  needleman_wunsch_distance     0.021361\n",
      "26)  sqeuclidean_distance          0.021301\n",
      "27)  token_hamming_distance        0.021255\n",
      "28)  yule_distance                 0.021160\n",
      "29)  lcs_distance                  0.019461\n",
      "30)  sokalsneath_distance          0.019154\n",
      "31)  needleman_wunsch_similarity   0.018675\n",
      "32)  chebyshev_distance            0.015930\n",
      "33)  canberra_distance             0.013649\n",
      "34)  binary_distance               0.013419\n",
      "35)  dice_distance                 0.012953\n",
      "36)  containment_distance          0.012853\n",
      "37)  interval_distance             0.012726\n",
      "38)  jaccard_distance              0.012690\n",
      "39)  seuclidean_distance           0.003785\n",
      "40)  lcs_similarity                0.002406\n",
      "41)  edit_similarity               0.000000\n",
      "42)  hamming_distance              0.000000\n"
     ]
    }
   ],
   "source": [
    "indices = np.argsort(importances)[::-1]\n",
    "for f in range(Xs_train.shape[1]):\n",
    "    print(\"%2d) %-*s %f\" % (f + 1, 30, feature_names[f], importances[indices[f]]))"
   ]
  },
  {
   "cell_type": "markdown",
   "metadata": {},
   "source": [
    "# Conclusions\n",
    "\n",
    "The data preparation is a very important step in Machine Learning process. Its understanding implied full knowledge of file operations, data behaviour, math implications of missing or non-scaled values, the validation process implications with train and test data, outliers significance and feature selection importance to improve the accuracy of our models.\n",
    "\n",
    "Section *model evaluation example* shows that with only 10 features is possible to get results over 0.74 in accuracy metric.\n",
    "\n",
    "# Recomendations\n",
    "\n",
    "* Read about **unregularized models** where *dimensionality reduction* via feature selection, is an alternative way to reduce the complexity of the model and avoid overfitting.\n",
    "\n",
    "* Study the way to introduce Stritified Kfold data in real experiments to fix the seeds and make comparable the results between different classifiers.\n",
    "\n",
    "* The eliminations of outliers or their substitution by the mean is not trated here. The relevance of their elimination depends on the classifier selected, some models are not sensitive to outliers.\n",
    "\n",
    "* Besides neither is trated an easy way to remove outliers from a multivariate data."
   ]
  },
  {
   "cell_type": "markdown",
   "metadata": {},
   "source": [
    "# Questions\n",
    "\n",
    "* Test feature selection in sparse data with linear models like Lasso or Logistic Regresion.\n",
    "* Use the class SelectFromModel inside feature_selection module, and try different classification models like svm, knn, etc.\n",
    "* Make a secuence of feature selection with SVM and a set of kernels like RBF ('rbf'), Gram Matrix ('precomputed'), Cosine('cosine'), 'linear', Polinomial('poly'), Sigmoid and a self kernel. Compare the selected features and their rank. "
   ]
  },
  {
   "cell_type": "markdown",
   "metadata": {},
   "source": [
    "# References and Resources\n",
    "\n",
    "* Sebastian Raschka, Book \"Python Machine Learning\". Packt Publishing, 2015.\n",
    "<a id='Raschka2015'></a>\n",
    "\n",
    "* Gopi Subramanian, Book \"Python Data Science Cookbook\". Packt Publishing, 2015.\n",
    "<a id='Subramanian2015'></a>\n",
    "\n",
    "* Alberto Boschetti & Luca Massaron, Book \"Python Data Science Essential\". Packt Publishing, 2015.\n",
    "<a id='Boschetti2015'></a>\n",
    "\n",
    "* Trent Hauck, Book \"Scikit-learn Cookbook\". Packt Publishing, 2014.\n",
    "<a id='Hauck2015'></a>"
   ]
  }
 ],
 "metadata": {
  "kernelspec": {
   "display_name": "Python 3",
   "language": "python",
   "name": "python3"
  },
  "language_info": {
   "codemirror_mode": {
    "name": "ipython",
    "version": 3
   },
   "file_extension": ".py",
   "mimetype": "text/x-python",
   "name": "python",
   "nbconvert_exporter": "python",
   "pygments_lexer": "ipython3",
   "version": "3.5.3"
  }
 },
 "nbformat": 4,
 "nbformat_minor": 1
}
