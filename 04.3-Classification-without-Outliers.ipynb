{
 "metadata": {
  "name": "",
  "signature": "sha256:ad7dd9fbd3637f9ffaca1e70cb0c9931224f63ce41dda9dc0407e8c2d992c934"
 },
 "nbformat": 3,
 "nbformat_minor": 0,
 "worksheets": [
  {
   "cells": [
    {
     "cell_type": "markdown",
     "metadata": {},
     "source": [
      "<small><i>This notebook was put together by [Abel Meneses-Abad](http://www.menesesabad.com) for Paper *Paraphrase Beyond Sentence*. Source and license info is on [GitHub](https://github.com/sorice/2017paraphrasebsent/).</i></small>"
     ]
    },
    {
     "cell_type": "markdown",
     "metadata": {},
     "source": [
      "# Classificating Different and Paraphrase Sentences"
     ]
    },
    {
     "cell_type": "code",
     "collapsed": false,
     "input": [
      "%pylab inline\n",
      "import numpy as np"
     ],
     "language": "python",
     "metadata": {},
     "outputs": [
      {
       "output_type": "stream",
       "stream": "stdout",
       "text": [
        "Populating the interactive namespace from numpy and matplotlib\n"
       ]
      }
     ],
     "prompt_number": 1
    },
    {
     "cell_type": "markdown",
     "metadata": {},
     "source": [
      "## Loading data"
     ]
    },
    {
     "cell_type": "code",
     "collapsed": false,
     "input": [
      "#Load MSRP corpus\n",
      "from scripts.datasets import load_msrpc\n",
      "msrpc = load_msrpc('data/MSRPC-2004/msrpc_test_textsim-42f.csv')\n",
      "n_samples, n_features = msrpc.data.shape\n",
      "print(n_samples,n_features)\n",
      "x,y = msrpc.data, msrpc.target"
     ],
     "language": "python",
     "metadata": {},
     "outputs": [
      {
       "output_type": "stream",
       "stream": "stdout",
       "text": [
        "1671 42\n"
       ]
      }
     ],
     "prompt_number": 2
    },
    {
     "cell_type": "markdown",
     "metadata": {},
     "source": [
      "## Data preprocessing"
     ]
    },
    {
     "cell_type": "code",
     "collapsed": false,
     "input": [
      "#Dealing with missing data\n",
      "from sklearn.preprocessing import Imputer\n",
      "imr = Imputer(missing_values='NaN', strategy='mean', axis=0)\n",
      "imr = imr.fit(x)\n",
      "x = imr.transform(x)\n",
      "\n",
      "#Scaling\n",
      "from sklearn.preprocessing import scale\n",
      "Xs = scale(x,with_mean=True,with_std=True,axis=0)\n",
      "\n",
      "#Multivariate data outliers handling not implemented yet.\n",
      "\n",
      "#Partitioning data into test and train subsets\n",
      "from sklearn.cross_validation import train_test_split\n",
      "X_train, X_test, y_train, y_test = train_test_split(Xs, y, test_size=0.3, random_state=4)\n",
      "\n",
      "#Stratified Kfold not implemented yet."
     ],
     "language": "python",
     "metadata": {},
     "outputs": [],
     "prompt_number": 3
    },
    {
     "cell_type": "markdown",
     "metadata": {},
     "source": [
      "## Clasification"
     ]
    },
    {
     "cell_type": "code",
     "collapsed": false,
     "input": [
      "# import the class\n",
      "from sklearn.linear_model import LogisticRegression\n",
      "\n",
      "# instantiate the model (using the default parameters)\n",
      "logreg = LogisticRegression()\n",
      "\n",
      "#New data after Feature Selection\n",
      "#Xs_train, ys_train, Xs_test, ys_test = get_train_test(x_n,Y)\n",
      "\n",
      "# fit the model with data\n",
      "logreg.fit(X_train, y_train)"
     ],
     "language": "python",
     "metadata": {},
     "outputs": [
      {
       "metadata": {},
       "output_type": "pyout",
       "prompt_number": 4,
       "text": [
        "LogisticRegression(C=1.0, class_weight=None, dual=False, fit_intercept=True,\n",
        "          intercept_scaling=1, max_iter=100, multi_class='ovr', n_jobs=1,\n",
        "          penalty='l2', random_state=None, solver='liblinear', tol=0.0001,\n",
        "          verbose=0, warm_start=False)"
       ]
      }
     ],
     "prompt_number": 4
    },
    {
     "cell_type": "code",
     "collapsed": false,
     "input": [
      "from sklearn import metrics\n",
      "\n",
      "# STEP 3: make predictions on the testing set\n",
      "y_pred = logreg.predict(X_test)\n",
      "\n",
      "# compare actual response values (y_test) with predicted response values (y_pred)\n",
      "metrics.accuracy_score(y_test, y_pred)"
     ],
     "language": "python",
     "metadata": {},
     "outputs": [
      {
       "metadata": {},
       "output_type": "pyout",
       "prompt_number": 5,
       "text": [
        "0.7450199203187251"
       ]
      }
     ],
     "prompt_number": 5
    },
    {
     "cell_type": "code",
     "collapsed": false,
     "input": [
      "f_index = np.where(y_pred != y_test)#selecting index where result is diff to spected\n",
      "p_index = np.where(y_pred == y_test)\n",
      "print('Number of errors:',len(f_index[0]),'Value examples:',f_index[0][:5])"
     ],
     "language": "python",
     "metadata": {},
     "outputs": [
      {
       "output_type": "stream",
       "stream": "stdout",
       "text": [
        "Number of errors: 128 Value examples: [ 1 10 12 13 14]\n"
       ]
      }
     ],
     "prompt_number": 6
    },
    {
     "cell_type": "code",
     "collapsed": false,
     "input": [
      "print('Accuracy:',len(p_index[0])/(len(f_index[0])+len(p_index[0])))"
     ],
     "language": "python",
     "metadata": {},
     "outputs": [
      {
       "output_type": "stream",
       "stream": "stdout",
       "text": [
        "Accuracy: 0.7450199203187251\n"
       ]
      }
     ],
     "prompt_number": 7
    },
    {
     "cell_type": "code",
     "collapsed": false,
     "input": [
      "X_test[0]"
     ],
     "language": "python",
     "metadata": {},
     "outputs": [
      {
       "metadata": {},
       "output_type": "pyout",
       "prompt_number": 8,
       "text": [
        "array([-0.63997152, -1.41663494, -1.41750756, -0.60974101,  0.73060879,\n",
        "        0.09324997, -0.63228515, -0.74161169, -0.10653892, -0.10919667,\n",
        "       -0.74171333,  0.47441892,  0.50661014,  0.79552333, -0.10653892,\n",
        "        0.1452136 , -0.86798744, -0.6683049 , -0.3979886 , -0.70302456,\n",
        "       -1.02575512, -0.75761905, -0.6683049 , -0.72371539, -1.41750756,\n",
        "       -0.70302456, -0.44665271, -0.83617241, -0.1193564 , -0.17170763,\n",
        "       -1.32504041, -0.44000629, -0.53342338,  0.        , -0.86088963,\n",
        "        0.51939091, -0.7471595 , -0.67610999,  0.        ,  0.97046631,\n",
        "        1.28071151, -0.3617984 ])"
       ]
      }
     ],
     "prompt_number": 8
    },
    {
     "cell_type": "code",
     "collapsed": false,
     "input": [
      "import pandas as pd\n",
      "corpus = pd.read_csv('data/MSRPC-2004/msr_paraphrase_test.txt', \n",
      "            sep='\\t')\n",
      "corpus.head()"
     ],
     "language": "python",
     "metadata": {},
     "outputs": [
      {
       "html": [
        "<div style=\"max-width:1500px;overflow:auto;\">\n",
        "<table border=\"1\" class=\"dataframe\">\n",
        "  <thead>\n",
        "    <tr style=\"text-align: right;\">\n",
        "      <th></th>\n",
        "      <th>\ufeffQuality</th>\n",
        "      <th>#1 ID</th>\n",
        "      <th>#2 ID</th>\n",
        "      <th>#1 String</th>\n",
        "      <th>#2 String</th>\n",
        "    </tr>\n",
        "  </thead>\n",
        "  <tbody>\n",
        "    <tr>\n",
        "      <th>0</th>\n",
        "      <td>1</td>\n",
        "      <td>1089874</td>\n",
        "      <td>1089925</td>\n",
        "      <td>PCCW's chief operating officer, Mike Butcher, ...</td>\n",
        "      <td>Current Chief Operating Officer Mike Butcher a...</td>\n",
        "    </tr>\n",
        "    <tr>\n",
        "      <th>1</th>\n",
        "      <td>1</td>\n",
        "      <td>3019446</td>\n",
        "      <td>3019327</td>\n",
        "      <td>The world's two largest automakers said their ...</td>\n",
        "      <td>Domestic sales at both GM and No. 2 Ford Motor...</td>\n",
        "    </tr>\n",
        "    <tr>\n",
        "      <th>2</th>\n",
        "      <td>1</td>\n",
        "      <td>1945605</td>\n",
        "      <td>1945824</td>\n",
        "      <td>According to the federal Centers for Disease C...</td>\n",
        "      <td>The Centers for Disease Control and Prevention...</td>\n",
        "    </tr>\n",
        "    <tr>\n",
        "      <th>3</th>\n",
        "      <td>0</td>\n",
        "      <td>1430402</td>\n",
        "      <td>1430329</td>\n",
        "      <td>A tropical storm rapidly developed in the Gulf...</td>\n",
        "      <td>A tropical storm rapidly developed in the Gulf...</td>\n",
        "    </tr>\n",
        "    <tr>\n",
        "      <th>4</th>\n",
        "      <td>0</td>\n",
        "      <td>3354381</td>\n",
        "      <td>3354396</td>\n",
        "      <td>The company didn't detail the costs of the rep...</td>\n",
        "      <td>But company officials expect the costs of the ...</td>\n",
        "    </tr>\n",
        "  </tbody>\n",
        "</table>\n",
        "</div>"
       ],
       "metadata": {},
       "output_type": "pyout",
       "prompt_number": 9,
       "text": [
        "   \ufeffQuality    #1 ID    #2 ID  \\\n",
        "0         1  1089874  1089925   \n",
        "1         1  3019446  3019327   \n",
        "2         1  1945605  1945824   \n",
        "3         0  1430402  1430329   \n",
        "4         0  3354381  3354396   \n",
        "\n",
        "                                           #1 String  \\\n",
        "0  PCCW's chief operating officer, Mike Butcher, ...   \n",
        "1  The world's two largest automakers said their ...   \n",
        "2  According to the federal Centers for Disease C...   \n",
        "3  A tropical storm rapidly developed in the Gulf...   \n",
        "4  The company didn't detail the costs of the rep...   \n",
        "\n",
        "                                           #2 String  \n",
        "0  Current Chief Operating Officer Mike Butcher a...  \n",
        "1  Domestic sales at both GM and No. 2 Ford Motor...  \n",
        "2  The Centers for Disease Control and Prevention...  \n",
        "3  A tropical storm rapidly developed in the Gulf...  \n",
        "4  But company officials expect the costs of the ...  "
       ]
      }
     ],
     "prompt_number": 9
    },
    {
     "cell_type": "code",
     "collapsed": false,
     "input": [
      "corpus.xs(0)"
     ],
     "language": "python",
     "metadata": {},
     "outputs": [
      {
       "metadata": {},
       "output_type": "pyout",
       "prompt_number": 10,
       "text": [
        "\ufeffQuality                                                     1\n",
        "#1 ID                                                  1089874\n",
        "#2 ID                                                  1089925\n",
        "#1 String    PCCW's chief operating officer, Mike Butcher, ...\n",
        "#2 String    Current Chief Operating Officer Mike Butcher a...\n",
        "Name: 0, dtype: object"
       ]
      }
     ],
     "prompt_number": 10
    },
    {
     "cell_type": "code",
     "collapsed": false,
     "input": [
      "msrpc.data[0]"
     ],
     "language": "python",
     "metadata": {},
     "outputs": [
      {
       "metadata": {},
       "output_type": "pyout",
       "prompt_number": 11,
       "text": [
        "array([  2.44948974e+00,   5.00000000e+01,   5.00000000e+01,\n",
        "         8.50000000e-01,   6.25000000e-01,   7.40139866e-01,\n",
        "         1.66666667e-01,   1.35470065e-01,  -2.35294118e-01,\n",
        "        -1.17647059e-01,   4.11764706e-01,   1.00000000e+00,\n",
        "         6.66666667e-01,   5.88235294e-01,  -2.35294118e-01,\n",
        "         1.15000000e+02,   2.20000000e+01,   6.00000000e+00,\n",
        "         7.40139866e-01,   4.24264069e+00,   5.84395293e-01,\n",
        "        -1.05263158e-01,   6.00000000e+00,   0.00000000e+00,\n",
        "         1.00000000e+02,   6.00000000e+00,   3.15789474e-01,\n",
        "        -0.00000000e+00,   8.10000000e+01,  -2.66666667e-01,\n",
        "         8.73362445e-01,   1.00000000e+00,   6.00000000e+00,\n",
        "         0.00000000e+00,  -5.55555556e-02,   7.20930233e-01,\n",
        "         4.00000000e+00,   5.45454545e-01,   0.00000000e+00,\n",
        "         7.07423581e-01,   5.86776860e-01,   1.02000000e+02])"
       ]
      }
     ],
     "prompt_number": 11
    },
    {
     "cell_type": "markdown",
     "metadata": {},
     "source": [
      "The analysis until this point reflect that to find original text pairs that where bad classified for human analysis is impossible if you don't have an ID column in both data structures. See the shape of the corpus in both structures:"
     ]
    },
    {
     "cell_type": "code",
     "collapsed": false,
     "input": [
      "print(msrpc.data.shape)\n",
      "print(corpus.shape)"
     ],
     "language": "python",
     "metadata": {},
     "outputs": [
      {
       "output_type": "stream",
       "stream": "stdout",
       "text": [
        "(1671, 42)\n",
        "(1725, 5)\n"
       ]
      }
     ],
     "prompt_number": 12
    },
    {
     "cell_type": "markdown",
     "metadata": {},
     "source": [
      "What realy matters here is the total of rows. As you can see in 03.3-Similarity-Vector-Corpus-Construction notebook when textsim package try to calculate calc_all in certain pairs of text, due to the text composition it is imposible to get it in all cases, this misses cases are not append it to MSRP corpus in arff or csv format."
     ]
    },
    {
     "cell_type": "markdown",
     "metadata": {},
     "source": [
      "## Adding new ID field\n",
      "\n",
      "The code of 03.3 Constructing a Corpus of Similarity Objects after this point was changed to get ID inside the ARFF and CSV corpus of MSRP.\n",
      "\n",
      "The next question will be:\n",
      "\n",
      "    How to get a list of searched index inside DataFrame structure?\n",
      "    \n",
      "See the code below!"
     ]
    },
    {
     "cell_type": "code",
     "collapsed": false,
     "input": [
      "s_index = []\n",
      "for i in range(len(corpus)):\n",
      "    if corpus.xs(i)['#1 ID']==1089874: #Get corpus rows where column '#1 ID' == 1089874\n",
      "        s_index.append(i)\n",
      "corpus.take(s_index)"
     ],
     "language": "python",
     "metadata": {},
     "outputs": [
      {
       "html": [
        "<div style=\"max-width:1500px;overflow:auto;\">\n",
        "<table border=\"1\" class=\"dataframe\">\n",
        "  <thead>\n",
        "    <tr style=\"text-align: right;\">\n",
        "      <th></th>\n",
        "      <th>\ufeffQuality</th>\n",
        "      <th>#1 ID</th>\n",
        "      <th>#2 ID</th>\n",
        "      <th>#1 String</th>\n",
        "      <th>#2 String</th>\n",
        "    </tr>\n",
        "  </thead>\n",
        "  <tbody>\n",
        "    <tr>\n",
        "      <th>0</th>\n",
        "      <td>1</td>\n",
        "      <td>1089874</td>\n",
        "      <td>1089925</td>\n",
        "      <td>PCCW's chief operating officer, Mike Butcher, ...</td>\n",
        "      <td>Current Chief Operating Officer Mike Butcher a...</td>\n",
        "    </tr>\n",
        "  </tbody>\n",
        "</table>\n",
        "</div>"
       ],
       "metadata": {},
       "output_type": "pyout",
       "prompt_number": 13,
       "text": [
        "   \ufeffQuality    #1 ID    #2 ID  \\\n",
        "0         1  1089874  1089925   \n",
        "\n",
        "                                           #1 String  \\\n",
        "0  PCCW's chief operating officer, Mike Butcher, ...   \n",
        "\n",
        "                                           #2 String  \n",
        "0  Current Chief Operating Officer Mike Butcher a...  "
       ]
      }
     ],
     "prompt_number": 13
    },
    {
     "cell_type": "markdown",
     "metadata": {},
     "source": [
      "## How to get corpus lines where line_ID ==  outliers_ID"
     ]
    },
    {
     "cell_type": "code",
     "collapsed": false,
     "input": [
      "from sklearn.decomposition import PCA\n",
      "from sklearn.covariance import EllipticEnvelope\n",
      "\n",
      "pca = PCA(n_components=2)\n",
      "Zscore_components = pca.fit_transform(Xs)\n",
      "robust_covariance_est = EllipticEnvelope(store_precision=False,\n",
      "                                            assume_centered = False, contamination=.05)\n",
      "robust_covariance_est.fit(Zscore_components)\n",
      "detection = robust_covariance_est.predict(Zscore_components)\n",
      "outliers = np.where(detection==-1)\n",
      "regular = np.where(detection==1)"
     ],
     "language": "python",
     "metadata": {},
     "outputs": [],
     "prompt_number": 14
    },
    {
     "cell_type": "code",
     "collapsed": false,
     "input": [
      "a = plt.plot(Zscore_components[regular,0],Zscore_components[regular,1],\n",
      "'x', markersize=2, color='black', alpha=0.6, label='inliers')\n",
      "b = plt.plot(Zscore_components[outliers,0],Zscore_components[outliers,1],\n",
      "'o', markersize=6,color='black', alpha=0.8, label='outliers')\n",
      "plt.show()"
     ],
     "language": "python",
     "metadata": {},
     "outputs": [
      {
       "metadata": {},
       "output_type": "display_data",
       "png": "[encoded data removed]",
       "text": [
        "<matplotlib.figure.Figure at 0x7fb010061400>"
       ]
      }
     ],
     "prompt_number": 15
    },
    {
     "cell_type": "code",
     "collapsed": false,
     "input": [
      "print(len(outliers[0]),len(regular[0]))\n",
      "outliers"
     ],
     "language": "python",
     "metadata": {},
     "outputs": [
      {
       "output_type": "stream",
       "stream": "stdout",
       "text": [
        "84 1587\n"
       ]
      },
      {
       "metadata": {},
       "output_type": "pyout",
       "prompt_number": 16,
       "text": [
        "(array([   1,    8,   53,   55,   67,   70,   93,  102,  127,  146,  157,\n",
        "         158,  169,  172,  183,  200,  284,  287,  316,  333,  344,  345,\n",
        "         364,  367,  373,  380,  385,  394,  405,  442,  472,  477,  515,\n",
        "         537,  571,  574,  616,  698,  736,  741,  752,  787,  788,  795,\n",
        "         796,  819,  830,  832,  845,  881,  889,  955,  962,  997, 1033,\n",
        "        1133, 1135, 1188, 1281, 1293, 1327, 1336, 1339, 1343, 1361, 1394,\n",
        "        1403, 1406, 1442, 1449, 1452, 1456, 1462, 1470, 1507, 1526, 1544,\n",
        "        1546, 1555, 1560, 1568, 1583, 1624, 1661]),)"
       ]
      }
     ],
     "prompt_number": 16
    },
    {
     "cell_type": "code",
     "collapsed": false,
     "input": [
      "Zscore_components[0], Zscore_components[1670]"
     ],
     "language": "python",
     "metadata": {},
     "outputs": [
      {
       "metadata": {},
       "output_type": "pyout",
       "prompt_number": 17,
       "text": [
        "(array([-3.09659428,  1.45118786]), array([-3.21439795, -1.35217601]))"
       ]
      }
     ],
     "prompt_number": 17
    },
    {
     "cell_type": "markdown",
     "metadata": {},
     "source": [
      "## Conclusions\n",
      "\n"
     ]
    }
   ],
   "metadata": {}
  }
 ]
}