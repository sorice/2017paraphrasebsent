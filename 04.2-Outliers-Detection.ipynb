{
 "cells": [
  {
   "cell_type": "markdown",
   "metadata": {},
   "source": [
    "<small><i>This notebook was put together by [Abel Meneses-Abad](http://www.menesesabad.com) for Paper *Paraphrase Beyond Sentence*. Source and license info is on [GitHub](https://github.com/sorice/2017paraphrasebsent/).</i></small>"
   ]
  },
  {
   "cell_type": "markdown",
   "metadata": {},
   "source": [
    "# 4.3 Handling Outliers\n",
    "\n",
    "The outliers detection could help to improve the accuracy. The origin of the outliers is important. In MSRP corpus the possible outliers are real cases, so all of them are useful for future analysis or the design of new features.\n",
    "\n",
    "Another benefict of outliers could be the analysis of anomalies in streamming data, that help the teams to discover new patterns or clusters, or anomalies behaviours. For costumer support this could help to identify potential customers who doesn't fit into classical patterns."
   ]
  },
  {
   "cell_type": "code",
   "execution_count": 3,
   "metadata": {},
   "outputs": [
    {
     "name": "stdout",
     "output_type": "stream",
     "text": [
      "Populating the interactive namespace from numpy and matplotlib\n"
     ]
    }
   ],
   "source": [
    "%pylab inline\n",
    "import pickle\n",
    "import numpy as np\n",
    "import pandas as pd\n",
    "from pandas import DataFrame, Series\n",
    "from sklearn import metrics"
   ]
  },
  {
   "cell_type": "markdown",
   "metadata": {},
   "source": [
    "## Loading data"
   ]
  },
  {
   "cell_type": "code",
   "execution_count": 14,
   "metadata": {},
   "outputs": [],
   "source": [
    "#Loading the splited MSRP corpus\n",
    "data = open('data/cleaned-split-data.pkl','rb')\n",
    "X_train, X_test, Y_train, Y_test = pickle.load(data)"
   ]
  },
  {
   "cell_type": "markdown",
   "metadata": {},
   "source": [
    "### Loading MSRPC"
   ]
  },
  {
   "cell_type": "code",
   "execution_count": 4,
   "metadata": {},
   "outputs": [],
   "source": [
    "#Read Paraphrase Corpus in TXT format\n",
    "file_path = 'data/MSRPC-2004/msrpc.txt'\n",
    "\n",
    "corpus = DataFrame(columns=['class','id1','id2','sent1', 'sent2'])\n",
    "loading_except = []\n",
    "\n",
    "with open(file_path) as corp:\n",
    "    count = 0\n",
    "    for row in corp:\n",
    "        try:\n",
    "            obj = row.split('\\t')\n",
    "            if count == 0: #do not process the line 0\n",
    "                count+=1\n",
    "                pass\n",
    "            else: #do distance calculation in the rest\n",
    "                corpus = corpus.append(Series(obj, index=corpus.columns), ignore_index=True)\n",
    "                count+=1\n",
    "        except:\n",
    "            loading_except.append(count)"
   ]
  },
  {
   "cell_type": "code",
   "execution_count": 5,
   "metadata": {},
   "outputs": [
    {
     "data": {
      "text/plain": [
       "(5801, 5)"
      ]
     },
     "execution_count": 5,
     "metadata": {},
     "output_type": "execute_result"
    }
   ],
   "source": [
    "corpus.shape"
   ]
  },
  {
   "cell_type": "markdown",
   "metadata": {},
   "source": [
    "### Loading the pre-trained Model"
   ]
  },
  {
   "cell_type": "code",
   "execution_count": 17,
   "metadata": {},
   "outputs": [],
   "source": [
    "data = open('data/logreg_model.pkl','rb')\n",
    "logreg = pickle.load(data)"
   ]
  },
  {
   "cell_type": "code",
   "execution_count": 18,
   "metadata": {},
   "outputs": [
    {
     "data": {
      "text/plain": [
       "0.761520737327189"
      ]
     },
     "execution_count": 18,
     "metadata": {},
     "output_type": "execute_result"
    }
   ],
   "source": [
    "# STEP 3: make predictions on the testing set\n",
    "y_pred = logreg.predict(X_test)\n",
    "\n",
    "# compare actual response values (y_test) with predicted response values (y_pred)\n",
    "metrics.accuracy_score(Y_test, y_pred)"
   ]
  },
  {
   "cell_type": "code",
   "execution_count": 19,
   "metadata": {},
   "outputs": [
    {
     "name": "stdout",
     "output_type": "stream",
     "text": [
      "Number of errors: 414 Value examples: [ 3  7  9 16 19]\n"
     ]
    },
    {
     "data": {
      "text/plain": [
       "array([   3,    7,    9,   16,   19,   21,   23,   26,   29,   30,   31,\n",
       "         35,   40,   41,   48,   53,   70,   72,   75,   77,   78,   80,\n",
       "         81,   82,   87,   94,   96,  107,  109,  120,  126,  127,  130,\n",
       "        132,  136,  138,  140,  141,  145,  146,  156,  160,  164,  170,\n",
       "        171,  172,  174,  190,  192,  199,  206,  213,  215,  216,  218,\n",
       "        220,  222,  228,  229,  230,  231,  238,  243,  245,  248,  251,\n",
       "        258,  271,  274,  284,  286,  289,  298,  310,  312,  313,  317,\n",
       "        325,  327,  332,  337,  338,  340,  342,  345,  354,  355,  364,\n",
       "        366,  369,  373,  376,  384,  387,  388,  389,  390,  407,  415,\n",
       "        416,  420,  422,  430,  434,  443,  449,  450,  451,  455,  459,\n",
       "        471,  475,  476,  479,  481,  482,  486,  490,  493,  502,  503,\n",
       "        506,  511,  514,  518,  522,  526,  531,  532,  534,  544,  546,\n",
       "        550,  557,  558,  562,  565,  567,  568,  570,  571,  572,  588,\n",
       "        592,  593,  597,  601,  605,  606,  608,  612,  623,  631,  636,\n",
       "        640,  641,  648,  654,  656,  663,  665,  666,  668,  669,  672,\n",
       "        673,  676,  677,  682,  684,  692,  693,  696,  701,  704,  705,\n",
       "        709,  710,  711,  719,  721,  732,  735,  742,  746,  756,  758,\n",
       "        760,  763,  767,  769,  772,  773,  774,  778,  779,  786,  787,\n",
       "        789,  795,  797,  801,  802,  808,  811,  822,  830,  836,  840,\n",
       "        845,  852,  856,  857,  858,  863,  865,  874,  875,  876,  878,\n",
       "        880,  886,  889,  890,  899,  900,  916,  927,  928,  931,  934,\n",
       "        939,  947,  949,  950,  951,  961,  971,  976,  990,  992, 1000,\n",
       "       1002, 1003, 1004, 1006, 1015, 1018, 1023, 1034, 1035, 1036, 1037,\n",
       "       1038, 1040, 1043, 1052, 1057, 1058, 1067, 1070, 1071, 1073, 1076,\n",
       "       1078, 1081, 1083, 1087, 1093, 1097, 1104, 1108, 1112, 1115, 1116,\n",
       "       1118, 1121, 1130, 1134, 1137, 1144, 1147, 1149, 1150, 1154, 1159,\n",
       "       1161, 1165, 1171, 1172, 1174, 1182, 1185, 1187, 1190, 1197, 1199,\n",
       "       1200, 1203, 1213, 1215, 1218, 1222, 1225, 1234, 1235, 1241, 1243,\n",
       "       1245, 1252, 1257, 1261, 1268, 1271, 1272, 1273, 1276, 1278, 1285,\n",
       "       1290, 1299, 1307, 1309, 1322, 1327, 1329, 1331, 1334, 1341, 1345,\n",
       "       1347, 1348, 1350, 1359, 1364, 1367, 1368, 1372, 1377, 1381, 1390,\n",
       "       1391, 1395, 1400, 1402, 1409, 1410, 1421, 1422, 1429, 1433, 1436,\n",
       "       1438, 1449, 1451, 1452, 1453, 1454, 1455, 1462, 1485, 1488, 1491,\n",
       "       1495, 1502, 1504, 1507, 1509, 1514, 1515, 1519, 1531, 1532, 1537,\n",
       "       1539, 1541, 1550, 1551, 1556, 1557, 1558, 1560, 1563, 1568, 1573,\n",
       "       1579, 1580, 1586, 1588, 1600, 1610, 1614, 1628, 1633, 1646, 1658,\n",
       "       1663, 1675, 1678, 1682, 1684, 1689, 1693, 1695, 1700, 1706, 1712,\n",
       "       1715, 1718, 1719, 1720, 1722, 1723, 1728])"
      ]
     },
     "execution_count": 19,
     "metadata": {},
     "output_type": "execute_result"
    }
   ],
   "source": [
    "#Predict X_test data to match later its correspondece with the outlier list\n",
    "y_pred = logreg.predict(X_test)\n",
    "f_index, = np.where(y_pred != Y_test)#selecting index where result is diff to spected\n",
    "p_index, = np.where(y_pred == Y_test)\n",
    "print('Number of errors:',len(f_index),'Value examples:',f_index[:5])\n",
    "f_index"
   ]
  },
  {
   "cell_type": "code",
   "execution_count": 13,
   "metadata": {},
   "outputs": [
    {
     "name": "stdout",
     "output_type": "stream",
     "text": [
      "Accuracy: 0.761520737327189\n"
     ]
    }
   ],
   "source": [
    "print('Accuracy:',len(p_index)/(len(f_index)+len(p_index)))"
   ]
  },
  {
   "cell_type": "code",
   "execution_count": 14,
   "metadata": {},
   "outputs": [
    {
     "data": {
      "text/plain": [
       "numpy.ndarray"
      ]
     },
     "execution_count": 14,
     "metadata": {},
     "output_type": "execute_result"
    }
   ],
   "source": [
    "type(f_index)"
   ]
  },
  {
   "cell_type": "markdown",
   "metadata": {},
   "source": [
    "# 4.3.2 Matching Errors vs Outliers Phase"
   ]
  },
  {
   "cell_type": "code",
   "execution_count": 6,
   "metadata": {},
   "outputs": [
    {
     "data": {
      "text/html": [
       "<div>\n",
       "<style scoped>\n",
       "    .dataframe tbody tr th:only-of-type {\n",
       "        vertical-align: middle;\n",
       "    }\n",
       "\n",
       "    .dataframe tbody tr th {\n",
       "        vertical-align: top;\n",
       "    }\n",
       "\n",
       "    .dataframe thead th {\n",
       "        text-align: right;\n",
       "    }\n",
       "</style>\n",
       "<table border=\"1\" class=\"dataframe\">\n",
       "  <thead>\n",
       "    <tr style=\"text-align: right;\">\n",
       "      <th></th>\n",
       "      <th>class</th>\n",
       "      <th>id1</th>\n",
       "      <th>id2</th>\n",
       "      <th>sent1</th>\n",
       "      <th>sent2</th>\n",
       "    </tr>\n",
       "  </thead>\n",
       "  <tbody>\n",
       "    <tr>\n",
       "      <th>0</th>\n",
       "      <td>1</td>\n",
       "      <td>1089874</td>\n",
       "      <td>1089925</td>\n",
       "      <td>PCCW's chief operating officer, Mike Butcher, ...</td>\n",
       "      <td>Current Chief Operating Officer Mike Butcher a...</td>\n",
       "    </tr>\n",
       "    <tr>\n",
       "      <th>1</th>\n",
       "      <td>1</td>\n",
       "      <td>3019446</td>\n",
       "      <td>3019327</td>\n",
       "      <td>The world's two largest automakers said their ...</td>\n",
       "      <td>Domestic sales at both GM and No. 2 Ford Motor...</td>\n",
       "    </tr>\n",
       "    <tr>\n",
       "      <th>2</th>\n",
       "      <td>1</td>\n",
       "      <td>1945605</td>\n",
       "      <td>1945824</td>\n",
       "      <td>According to the federal Centers for Disease C...</td>\n",
       "      <td>The Centers for Disease Control and Prevention...</td>\n",
       "    </tr>\n",
       "    <tr>\n",
       "      <th>3</th>\n",
       "      <td>0</td>\n",
       "      <td>1430402</td>\n",
       "      <td>1430329</td>\n",
       "      <td>A tropical storm rapidly developed in the Gulf...</td>\n",
       "      <td>A tropical storm rapidly developed in the Gulf...</td>\n",
       "    </tr>\n",
       "    <tr>\n",
       "      <th>4</th>\n",
       "      <td>0</td>\n",
       "      <td>3354381</td>\n",
       "      <td>3354396</td>\n",
       "      <td>The company didn't detail the costs of the rep...</td>\n",
       "      <td>But company officials expect the costs of the ...</td>\n",
       "    </tr>\n",
       "  </tbody>\n",
       "</table>\n",
       "</div>"
      ],
      "text/plain": [
       "  class      id1      id2                                              sent1  \\\n",
       "0     1  1089874  1089925  PCCW's chief operating officer, Mike Butcher, ...   \n",
       "1     1  3019446  3019327  The world's two largest automakers said their ...   \n",
       "2     1  1945605  1945824  According to the federal Centers for Disease C...   \n",
       "3     0  1430402  1430329  A tropical storm rapidly developed in the Gulf...   \n",
       "4     0  3354381  3354396  The company didn't detail the costs of the rep...   \n",
       "\n",
       "                                               sent2  \n",
       "0  Current Chief Operating Officer Mike Butcher a...  \n",
       "1  Domestic sales at both GM and No. 2 Ford Motor...  \n",
       "2  The Centers for Disease Control and Prevention...  \n",
       "3  A tropical storm rapidly developed in the Gulf...  \n",
       "4  But company officials expect the costs of the ...  "
      ]
     },
     "execution_count": 6,
     "metadata": {},
     "output_type": "execute_result"
    }
   ],
   "source": [
    "corpus.head()"
   ]
  },
  {
   "cell_type": "code",
   "execution_count": 7,
   "metadata": {},
   "outputs": [
    {
     "data": {
      "text/plain": [
       "class                                                    1\n",
       "id1                                                1089874\n",
       "id2                                                1089925\n",
       "sent1    PCCW's chief operating officer, Mike Butcher, ...\n",
       "sent2    Current Chief Operating Officer Mike Butcher a...\n",
       "Name: 0, dtype: object"
      ]
     },
     "execution_count": 7,
     "metadata": {},
     "output_type": "execute_result"
    }
   ],
   "source": [
    "corpus.xs(0) #Showing de ID == 0, or sample 0."
   ]
  },
  {
   "cell_type": "markdown",
   "metadata": {},
   "source": [
    "Msrpc(5801, 5) and Xtest(1736, 43) shapes are different then both structures are imposible to compare. The analysis until this point reflect that matching original text pairs against bad classified instances is impossible.  The solution: you need an 'id' column in both data structures with the original ID.\n",
    "\n",
    "What realy matters here is the total number of rows. As you can see in 03.3-Similarity-Vector-Corpus-Construction notebook when textsim package try to calculate all distances (*calc_all func*) some pairs of texts are losted (1725 > 1671, diff = 54), due to the text composition it is imposible to get it in all cases, this missing cases are not appended to MSRP corpus in arff or csv format. How to deal with that?"
   ]
  },
  {
   "cell_type": "markdown",
   "metadata": {},
   "source": [
    "## Adding new ID field\n",
    "\n",
    "The code of 03.3 Constructing a Corpus of Similarity Objects after this point was changed to set the *'id'* column (or the feature 42) inside the ARFF and CSV corpus of MSRP.\n",
    "\n",
    "The next question will be:\n",
    "\n",
    "    How to get a list of searched index inside DataFrame structure?\n",
    "    \n",
    "See the code below!"
   ]
  },
  {
   "cell_type": "code",
   "execution_count": 13,
   "metadata": {},
   "outputs": [
    {
     "data": {
      "text/html": [
       "<div>\n",
       "<style scoped>\n",
       "    .dataframe tbody tr th:only-of-type {\n",
       "        vertical-align: middle;\n",
       "    }\n",
       "\n",
       "    .dataframe tbody tr th {\n",
       "        vertical-align: top;\n",
       "    }\n",
       "\n",
       "    .dataframe thead th {\n",
       "        text-align: right;\n",
       "    }\n",
       "</style>\n",
       "<table border=\"1\" class=\"dataframe\">\n",
       "  <thead>\n",
       "    <tr style=\"text-align: right;\">\n",
       "      <th></th>\n",
       "      <th>class</th>\n",
       "      <th>id1</th>\n",
       "      <th>id2</th>\n",
       "      <th>sent1</th>\n",
       "      <th>sent2</th>\n",
       "    </tr>\n",
       "  </thead>\n",
       "  <tbody>\n",
       "    <tr>\n",
       "      <th>0</th>\n",
       "      <td>1</td>\n",
       "      <td>1089874</td>\n",
       "      <td>1089925</td>\n",
       "      <td>PCCW's chief operating officer, Mike Butcher, ...</td>\n",
       "      <td>Current Chief Operating Officer Mike Butcher a...</td>\n",
       "    </tr>\n",
       "  </tbody>\n",
       "</table>\n",
       "</div>"
      ],
      "text/plain": [
       "  class      id1      id2                                              sent1  \\\n",
       "0     1  1089874  1089925  PCCW's chief operating officer, Mike Butcher, ...   \n",
       "\n",
       "                                               sent2  \n",
       "0  Current Chief Operating Officer Mike Butcher a...  "
      ]
     },
     "execution_count": 13,
     "metadata": {},
     "output_type": "execute_result"
    }
   ],
   "source": [
    "s_index = []\n",
    "for i in range(len(corpus)):\n",
    "    if corpus.xs(i)['id1']=='1089874': #Get corpus rows where column 'id1' == '1089874'\n",
    "        s_index.append(i)\n",
    "corpus.take(s_index)"
   ]
  },
  {
   "cell_type": "markdown",
   "metadata": {},
   "source": [
    "Correct! Now is the turn of numpy array (X_test, Xs, ...) and see the initial 10 example values in *X_test* numpy array column 41 (the feature 42 or id)."
   ]
  },
  {
   "cell_type": "code",
   "execution_count": 15,
   "metadata": {},
   "outputs": [
    {
     "data": {
      "text/plain": [
       "array([ 0.72244121, -2.24369728,  0.24306529,  1.05431684,  0.11123691,\n",
       "       -1.56957489,  0.40785076,  1.07415723, -0.08650565,  1.69317744])"
      ]
     },
     "execution_count": 15,
     "metadata": {},
     "output_type": "execute_result"
    }
   ],
   "source": [
    "X_test[:10,41]"
   ]
  },
  {
   "cell_type": "markdown",
   "metadata": {},
   "source": [
    "As you can see the integer ID numbers are missing, now id numbers are float because of scalling, and its imposible to let a column without scalling for machine learning classifier training (even more if this one is like the id column, a growing consecutive number list), because it can change the model. Then the solution is to use the original target (y) to get wrong values. Remember that train and test sets are obtained after scalling, neither they contain the ids."
   ]
  },
  {
   "cell_type": "code",
   "execution_count": 20,
   "metadata": {},
   "outputs": [
    {
     "name": "stdout",
     "output_type": "stream",
     "text": [
      "Number of errors: 414 . Bad classified instance index examples: [ 3  7  9 16 19]\n"
     ]
    }
   ],
   "source": [
    "p_index, = np.where(y_pred == Y_test) #Extracting well classified instances index.\n",
    "#Extract index of values different to expected (bad classified instances).\n",
    "f_index, = np.where(y_pred != Y_test) \n",
    "print('Number of errors:',len(f_index),'. Bad classified instance index examples:',f_index[:5])"
   ]
  },
  {
   "cell_type": "markdown",
   "metadata": {},
   "source": [
    "## How to get corpus lines where line_ID ==  outliers_ID"
   ]
  },
  {
   "cell_type": "code",
   "execution_count": 22,
   "metadata": {},
   "outputs": [],
   "source": [
    "from sklearn.decomposition import PCA\n",
    "from sklearn.covariance import EllipticEnvelope\n",
    "\n",
    "pca = PCA(n_components=2)\n",
    "Zscore_components = pca.fit_transform(X_test)\n",
    "robust_covariance_est = EllipticEnvelope(store_precision=False,\n",
    "                                            assume_centered = False, contamination=.05)\n",
    "robust_covariance_est.fit(Zscore_components)\n",
    "detection = robust_covariance_est.predict(Zscore_components)\n",
    "outliers, = np.where(detection==-1)\n",
    "regular, = np.where(detection==1)"
   ]
  },
  {
   "cell_type": "code",
   "execution_count": 23,
   "metadata": {},
   "outputs": [
    {
     "data": {
      "image/png": "[encoded data removed]",
      "text/plain": [
       "<Figure size 432x288 with 1 Axes>"
      ]
     },
     "metadata": {
      "needs_background": "light"
     },
     "output_type": "display_data"
    }
   ],
   "source": [
    "a = plt.plot(Zscore_components[regular,0],Zscore_components[regular,1],\n",
    "'x', markersize=2, color='black', alpha=0.6, label='inliers')\n",
    "b = plt.plot(Zscore_components[outliers,0],Zscore_components[outliers,1],\n",
    "'o', markersize=6,color='black', alpha=0.8, label='outliers')\n",
    "plt.show()"
   ]
  },
  {
   "cell_type": "code",
   "execution_count": 24,
   "metadata": {},
   "outputs": [
    {
     "name": "stdout",
     "output_type": "stream",
     "text": [
      "87 1649\n"
     ]
    },
    {
     "data": {
      "text/plain": [
       "array([  11,   87,  109,  125,  127,  152,  165,  170,  179,  187,  219,\n",
       "        226,  227,  240,  259,  278,  280,  281,  294,  310,  311,  382,\n",
       "        388,  392,  418,  434,  438,  458,  491,  504,  522,  536,  556,\n",
       "        557,  559,  577,  626,  634,  792,  806,  816,  820,  829,  876,\n",
       "        880,  882,  898,  907,  938,  939,  973, 1018, 1027, 1054, 1058,\n",
       "       1064, 1138, 1149, 1159, 1190, 1226, 1265, 1271, 1278, 1296, 1298,\n",
       "       1310, 1313, 1315, 1330, 1359, 1392, 1395, 1433, 1450, 1478, 1487,\n",
       "       1494, 1496, 1502, 1576, 1595, 1603, 1607, 1646, 1662, 1733])"
      ]
     },
     "execution_count": 24,
     "metadata": {},
     "output_type": "execute_result"
    }
   ],
   "source": [
    "print(len(outliers),len(regular))\n",
    "outliers"
   ]
  },
  {
   "cell_type": "code",
   "execution_count": 27,
   "metadata": {},
   "outputs": [
    {
     "name": "stdout",
     "output_type": "stream",
     "text": [
      "[87, 109, 127, 170, 310, 388, 434, 522, 557, 876, 880, 939, 1018, 1058, 1149, 1159, 1190, 1271, 1278, 1359, 1395, 1433, 1502, 1646]\n"
     ]
    },
    {
     "data": {
      "text/html": [
       "<div>\n",
       "<style scoped>\n",
       "    .dataframe tbody tr th:only-of-type {\n",
       "        vertical-align: middle;\n",
       "    }\n",
       "\n",
       "    .dataframe tbody tr th {\n",
       "        vertical-align: top;\n",
       "    }\n",
       "\n",
       "    .dataframe thead th {\n",
       "        text-align: right;\n",
       "    }\n",
       "</style>\n",
       "<table border=\"1\" class=\"dataframe\">\n",
       "  <thead>\n",
       "    <tr style=\"text-align: right;\">\n",
       "      <th></th>\n",
       "      <th>class</th>\n",
       "      <th>id1</th>\n",
       "      <th>id2</th>\n",
       "      <th>sent1</th>\n",
       "      <th>sent2</th>\n",
       "    </tr>\n",
       "  </thead>\n",
       "  <tbody>\n",
       "    <tr>\n",
       "      <th>87</th>\n",
       "      <td>1</td>\n",
       "      <td>459228</td>\n",
       "      <td>458802</td>\n",
       "      <td>\"I'm real excited to be a Cleveland Cavalier,\"...</td>\n",
       "      <td>\"I'm really excited about going to Cleveland,\"...</td>\n",
       "    </tr>\n",
       "    <tr>\n",
       "      <th>109</th>\n",
       "      <td>1</td>\n",
       "      <td>1945483</td>\n",
       "      <td>1945409</td>\n",
       "      <td>This issue is unlikely to be resolved until la...</td>\n",
       "      <td>The issue is unlikely to be resolved until Con...</td>\n",
       "    </tr>\n",
       "    <tr>\n",
       "      <th>127</th>\n",
       "      <td>1</td>\n",
       "      <td>2375777</td>\n",
       "      <td>2375808</td>\n",
       "      <td>A neighbor said a duffel bag containing a woma...</td>\n",
       "      <td>A neighbor said a woman's body was dug up in a...</td>\n",
       "    </tr>\n",
       "    <tr>\n",
       "      <th>170</th>\n",
       "      <td>1</td>\n",
       "      <td>1630597</td>\n",
       "      <td>1630669</td>\n",
       "      <td>Stewart said the ring was most likely a work i...</td>\n",
       "      <td>Mr. Stewart said the ring was most likely a wo...</td>\n",
       "    </tr>\n",
       "    <tr>\n",
       "      <th>310</th>\n",
       "      <td>1</td>\n",
       "      <td>3102010</td>\n",
       "      <td>3102052</td>\n",
       "      <td>\"Turning the corner does not mean we've crosse...</td>\n",
       "      <td>\"But turning the corner doesn't mean crossing ...</td>\n",
       "    </tr>\n",
       "    <tr>\n",
       "      <th>388</th>\n",
       "      <td>1</td>\n",
       "      <td>618359</td>\n",
       "      <td>617945</td>\n",
       "      <td>Buoyed by some of the advice imparted by Nickl...</td>\n",
       "      <td>Buoyed by advice imparted by Nicklaus, Howell ...</td>\n",
       "    </tr>\n",
       "    <tr>\n",
       "      <th>434</th>\n",
       "      <td>1</td>\n",
       "      <td>2473394</td>\n",
       "      <td>2473357</td>\n",
       "      <td>Aiken's study appears in the Sept. 24 issue of...</td>\n",
       "      <td>The findings appear in Wednesday's Journal of ...</td>\n",
       "    </tr>\n",
       "    <tr>\n",
       "      <th>522</th>\n",
       "      <td>1</td>\n",
       "      <td>1661881</td>\n",
       "      <td>1662136</td>\n",
       "      <td>Police Chief Superintendent Jesus Verzosa, who...</td>\n",
       "      <td>Police chief Superintendent Jesus Verzosa, who...</td>\n",
       "    </tr>\n",
       "    <tr>\n",
       "      <th>557</th>\n",
       "      <td>1</td>\n",
       "      <td>347483</td>\n",
       "      <td>347458</td>\n",
       "      <td>Enstrom and Kabat focused their work on 35,561...</td>\n",
       "      <td>The study focused on the 35,561 people who had...</td>\n",
       "    </tr>\n",
       "    <tr>\n",
       "      <th>876</th>\n",
       "      <td>0</td>\n",
       "      <td>130088</td>\n",
       "      <td>130000</td>\n",
       "      <td>It closed Tuesday at its highest level since l...</td>\n",
       "      <td>On Tuesday, the S&amp;P 500 rose to its highest si...</td>\n",
       "    </tr>\n",
       "    <tr>\n",
       "      <th>880</th>\n",
       "      <td>0</td>\n",
       "      <td>3256831</td>\n",
       "      <td>3256720</td>\n",
       "      <td>Prosecutors did an about-face in May and asked...</td>\n",
       "      <td>They asked that the autopsy reports be unseale...</td>\n",
       "    </tr>\n",
       "    <tr>\n",
       "      <th>939</th>\n",
       "      <td>1</td>\n",
       "      <td>332716</td>\n",
       "      <td>332382</td>\n",
       "      <td>The U.S. State Department travel warning said ...</td>\n",
       "      <td>\"The threat to aircraft by terrorists using sh...</td>\n",
       "    </tr>\n",
       "    <tr>\n",
       "      <th>1018</th>\n",
       "      <td>0</td>\n",
       "      <td>347461</td>\n",
       "      <td>347487</td>\n",
       "      <td>But the cancer society said its study had been...</td>\n",
       "      <td>The American Cancer Society and several scient...</td>\n",
       "    </tr>\n",
       "    <tr>\n",
       "      <th>1058</th>\n",
       "      <td>1</td>\n",
       "      <td>739972</td>\n",
       "      <td>740735</td>\n",
       "      <td>If he is successful in reaching a cease-fire, ...</td>\n",
       "      <td>If he is successful in reaching a so-called \"h...</td>\n",
       "    </tr>\n",
       "    <tr>\n",
       "      <th>1149</th>\n",
       "      <td>1</td>\n",
       "      <td>2545785</td>\n",
       "      <td>2545843</td>\n",
       "      <td>Dogs, he said, are second only to humans in th...</td>\n",
       "      <td>He said that dogs are second only to humans in...</td>\n",
       "    </tr>\n",
       "    <tr>\n",
       "      <th>1159</th>\n",
       "      <td>1</td>\n",
       "      <td>844505</td>\n",
       "      <td>844642</td>\n",
       "      <td>UN armored personnel carriers trained machine ...</td>\n",
       "      <td>Uruguayan armoured personnel carriers trained ...</td>\n",
       "    </tr>\n",
       "    <tr>\n",
       "      <th>1190</th>\n",
       "      <td>0</td>\n",
       "      <td>35213</td>\n",
       "      <td>35151</td>\n",
       "      <td>Several protesters were injured by a speeding ...</td>\n",
       "      <td>Anger grew after a police van injured several ...</td>\n",
       "    </tr>\n",
       "    <tr>\n",
       "      <th>1271</th>\n",
       "      <td>1</td>\n",
       "      <td>2879435</td>\n",
       "      <td>2879308</td>\n",
       "      <td>The news service reports wages among all nongo...</td>\n",
       "      <td>According to the Bureau of Labor Statistics, w...</td>\n",
       "    </tr>\n",
       "    <tr>\n",
       "      <th>1278</th>\n",
       "      <td>0</td>\n",
       "      <td>2954386</td>\n",
       "      <td>2954372</td>\n",
       "      <td>Prof Sally Baldwin, 63, from York, fell into a...</td>\n",
       "      <td>Sally Baldwin, from York, was killed instantly...</td>\n",
       "    </tr>\n",
       "    <tr>\n",
       "      <th>1359</th>\n",
       "      <td>0</td>\n",
       "      <td>1114039</td>\n",
       "      <td>1114186</td>\n",
       "      <td>Hispanics, the fastest growing ethnic group in...</td>\n",
       "      <td>Hispanics have officially overtaken African Am...</td>\n",
       "    </tr>\n",
       "    <tr>\n",
       "      <th>1395</th>\n",
       "      <td>1</td>\n",
       "      <td>2480969</td>\n",
       "      <td>2481007</td>\n",
       "      <td>If convicted of the spying charges, he could f...</td>\n",
       "      <td>The charges of espionage and aiding the enemy ...</td>\n",
       "    </tr>\n",
       "    <tr>\n",
       "      <th>1433</th>\n",
       "      <td>0</td>\n",
       "      <td>1803308</td>\n",
       "      <td>1803320</td>\n",
       "      <td>Opponents of the ban also are planning a prote...</td>\n",
       "      <td>In New York City, opponents of the ban are pla...</td>\n",
       "    </tr>\n",
       "    <tr>\n",
       "      <th>1502</th>\n",
       "      <td>1</td>\n",
       "      <td>913945</td>\n",
       "      <td>914112</td>\n",
       "      <td>Dewhurst's proposal calls for an abrupt end to...</td>\n",
       "      <td>The committee would propose a replacement for ...</td>\n",
       "    </tr>\n",
       "    <tr>\n",
       "      <th>1646</th>\n",
       "      <td>1</td>\n",
       "      <td>2011668</td>\n",
       "      <td>2011806</td>\n",
       "      <td>Several witnesses have told the court Bashir h...</td>\n",
       "      <td>A number of witnesses have told the court Bash...</td>\n",
       "    </tr>\n",
       "  </tbody>\n",
       "</table>\n",
       "</div>"
      ],
      "text/plain": [
       "     class      id1      id2  \\\n",
       "87       1   459228   458802   \n",
       "109      1  1945483  1945409   \n",
       "127      1  2375777  2375808   \n",
       "170      1  1630597  1630669   \n",
       "310      1  3102010  3102052   \n",
       "388      1   618359   617945   \n",
       "434      1  2473394  2473357   \n",
       "522      1  1661881  1662136   \n",
       "557      1   347483   347458   \n",
       "876      0   130088   130000   \n",
       "880      0  3256831  3256720   \n",
       "939      1   332716   332382   \n",
       "1018     0   347461   347487   \n",
       "1058     1   739972   740735   \n",
       "1149     1  2545785  2545843   \n",
       "1159     1   844505   844642   \n",
       "1190     0    35213    35151   \n",
       "1271     1  2879435  2879308   \n",
       "1278     0  2954386  2954372   \n",
       "1359     0  1114039  1114186   \n",
       "1395     1  2480969  2481007   \n",
       "1433     0  1803308  1803320   \n",
       "1502     1   913945   914112   \n",
       "1646     1  2011668  2011806   \n",
       "\n",
       "                                                  sent1  \\\n",
       "87    \"I'm real excited to be a Cleveland Cavalier,\"...   \n",
       "109   This issue is unlikely to be resolved until la...   \n",
       "127   A neighbor said a duffel bag containing a woma...   \n",
       "170   Stewart said the ring was most likely a work i...   \n",
       "310   \"Turning the corner does not mean we've crosse...   \n",
       "388   Buoyed by some of the advice imparted by Nickl...   \n",
       "434   Aiken's study appears in the Sept. 24 issue of...   \n",
       "522   Police Chief Superintendent Jesus Verzosa, who...   \n",
       "557   Enstrom and Kabat focused their work on 35,561...   \n",
       "876   It closed Tuesday at its highest level since l...   \n",
       "880   Prosecutors did an about-face in May and asked...   \n",
       "939   The U.S. State Department travel warning said ...   \n",
       "1018  But the cancer society said its study had been...   \n",
       "1058  If he is successful in reaching a cease-fire, ...   \n",
       "1149  Dogs, he said, are second only to humans in th...   \n",
       "1159  UN armored personnel carriers trained machine ...   \n",
       "1190  Several protesters were injured by a speeding ...   \n",
       "1271  The news service reports wages among all nongo...   \n",
       "1278  Prof Sally Baldwin, 63, from York, fell into a...   \n",
       "1359  Hispanics, the fastest growing ethnic group in...   \n",
       "1395  If convicted of the spying charges, he could f...   \n",
       "1433  Opponents of the ban also are planning a prote...   \n",
       "1502  Dewhurst's proposal calls for an abrupt end to...   \n",
       "1646  Several witnesses have told the court Bashir h...   \n",
       "\n",
       "                                                  sent2  \n",
       "87    \"I'm really excited about going to Cleveland,\"...  \n",
       "109   The issue is unlikely to be resolved until Con...  \n",
       "127   A neighbor said a woman's body was dug up in a...  \n",
       "170   Mr. Stewart said the ring was most likely a wo...  \n",
       "310   \"But turning the corner doesn't mean crossing ...  \n",
       "388   Buoyed by advice imparted by Nicklaus, Howell ...  \n",
       "434   The findings appear in Wednesday's Journal of ...  \n",
       "522   Police chief Superintendent Jesus Verzosa, who...  \n",
       "557   The study focused on the 35,561 people who had...  \n",
       "876   On Tuesday, the S&P 500 rose to its highest si...  \n",
       "880   They asked that the autopsy reports be unseale...  \n",
       "939   \"The threat to aircraft by terrorists using sh...  \n",
       "1018  The American Cancer Society and several scient...  \n",
       "1058  If he is successful in reaching a so-called \"h...  \n",
       "1149  He said that dogs are second only to humans in...  \n",
       "1159  Uruguayan armoured personnel carriers trained ...  \n",
       "1190  Anger grew after a police van injured several ...  \n",
       "1271  According to the Bureau of Labor Statistics, w...  \n",
       "1278  Sally Baldwin, from York, was killed instantly...  \n",
       "1359  Hispanics have officially overtaken African Am...  \n",
       "1395  The charges of espionage and aiding the enemy ...  \n",
       "1433  In New York City, opponents of the ban are pla...  \n",
       "1502  The committee would propose a replacement for ...  \n",
       "1646  A number of witnesses have told the court Bash...  "
      ]
     },
     "execution_count": 27,
     "metadata": {},
     "output_type": "execute_result"
    }
   ],
   "source": [
    "s_index = []\n",
    "real_miss_classified = []\n",
    "for i in range(len(f_index)):\n",
    "    if f_index[i] in outliers: #Get corpus bad classified instances (rows) that are present in outliers.\n",
    "        real_miss_classified.append(f_index[i])\n",
    "        s_index.append(f_index[i])\n",
    "print(real_miss_classified)\n",
    "corpus.iloc[s_index] #OR corpus.take(s_index)\n"
   ]
  },
  {
   "cell_type": "code",
   "execution_count": 30,
   "metadata": {},
   "outputs": [
    {
     "data": {
      "text/plain": [
       "(24, 5)"
      ]
     },
     "execution_count": 30,
     "metadata": {},
     "output_type": "execute_result"
    }
   ],
   "source": [
    "df2 = corpus.iloc[s_index]\n",
    "df2.shape"
   ]
  },
  {
   "cell_type": "code",
   "execution_count": 38,
   "metadata": {},
   "outputs": [],
   "source": [
    "data = open('data/clean-scaled-positive-data.pkl', 'rb')\n",
    "X,Y, columns, index = pickle.load(data)"
   ]
  },
  {
   "cell_type": "code",
   "execution_count": 39,
   "metadata": {},
   "outputs": [],
   "source": [
    "df = pd.DataFrame(X, columns=columns, index=index)"
   ]
  },
  {
   "cell_type": "code",
   "execution_count": 40,
   "metadata": {},
   "outputs": [
    {
     "data": {
      "text/plain": [
       "<matplotlib.axes._subplots.AxesSubplot at 0x7f9917dacd68>"
      ]
     },
     "execution_count": 40,
     "metadata": {},
     "output_type": "execute_result"
    },
    {
     "data": {
      "image/png": "[encoded data removed]",
      "text/plain": [
       "<Figure size 432x288 with 1 Axes>"
      ]
     },
     "metadata": {
      "needs_background": "light"
     },
     "output_type": "display_data"
    }
   ],
   "source": [
    "df.plot.box()"
   ]
  },
  {
   "cell_type": "markdown",
   "metadata": {},
   "source": [
    "## Conclusions\n",
    "\n",
    "Only 24 out of 414 missclasified classify as outlier, which is cosiderable credible because linear models are less sensitive to outliers.\n",
    "\n",
    "The deep analysis show the missclasified cases do not depend of outliers. That means a new feature engineering is needed. A new set of features that really describe the problem of paraphrasis in this dataset in particular.\n",
    "\n",
    "## Recomendation\n",
    "\n",
    "* The elimination of outliers or their substitution by the mean() is not treated here. The relevance of their elimination depends on the classifier selected, some models are not sensitive to outliers.\n",
    "    - Also in annotated datasets like MSRP Corpus those cases are real cases, it is not recommended to eliminate them, but use them as starting points in a new feature design.\n",
    "* Besides neither elimination nor substitution are easy ways to remove outliers from a multivariate dataset.\n",
    "* Repeat this experiment with other classifiers."
   ]
  }
 ],
 "metadata": {
  "kernelspec": {
   "display_name": "Python 3",
   "language": "python",
   "name": "python3"
  }
 },
 "nbformat": 4,
 "nbformat_minor": 1
}
