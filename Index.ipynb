{
 "cells": [
  {
   "cell_type": "markdown",
   "metadata": {},
   "source": [
    "# Paraphrase Identification beyond Sentences\n",
    "## SciPy Latinoamérica. La Habana, Cuba. May 2017\n",
    "\n",
    "This is the main index of Paraphrase Text Similarity Tutorial of the SciPyLA Habana May, 2017. Paraphrase Identification over pair text fragment cases with more than one sentence, presented by [Abel Meneses-Abad](http://www.menesesabad.com/).\n",
    "Please refer to the [github repository](http://github.com/sorice/simtext_scipyla2017) for this tutorial for any updates."
   ]
  },
  {
   "cell_type": "markdown",
   "metadata": {},
   "source": [
    "## Tutorial Notebooks\n",
    "\n",
    "The following links are to notebooks containing the tutorial materials.\n",
    "Note that many of these require files that are in the directory structure of the [github repository](http://github.com/sorice/simtext_scipyla2017) in which they are contained.\n",
    "There is not time during the tutorial to cover all of this material, but I left it in in case attendees would like to go deeper on their own.\n",
    "\n",
    "### 1. Preliminaries\n",
    "\n",
    "  + [01-Preliminaries.ipynb](01-Preliminaries.ipynb)\n",
    "  \n",
    "### 2. Data Preparation\n",
    "\n",
    "  + [2.1 Normalizing the Text Corpus](02.1-Normalizing-Text-Corpus.ipynb)\n",
    "  + [2.2 Aligning Preprocessed Sentence to Originals](02.2c-Jaccard-Align-Preproc-to-Original-Sent.ipynb)\n",
    "  + [2.3 Evaluate Normalization - Alignment Process](02.3a-Eval-Normalization-Alignment-Quality.ipynb)\n",
    "  + [2.4 Transforming PlagDet Corpus into a Paraphrase Corpus](02.4-From-PlagDet-to-Paraphrase-Corpus.ipynb)\n",
    "  \n",
    "### 3. Similarity Calculation\n",
    "\n",
    "  + [3.1-Basic-Similarity-with-Sklearn.ipynb](03.1-Basic-Similarity-with-Sklearn.ipynb)\n",
    "  + [3.2-Similarity-Features-Elaboration.ipynb](03.2-Similarity-Features-Elaboration.ipynb)\n",
    "  + [3.3-Sim-Object-Corpus-Construction.ipynb](03.3-Sim-Object-Corpus-Construction.ipynb)\n",
    "  + [3.4-Feature-Selection.ipynb](03.4-Feature-Selection.ipynb)\n",
    "\n",
    "### 4. Supervised Learning\n",
    "\n",
    "  + [04.1-Basic-Clasification-with-SVM.ipynb](04.1-Basic-Clasification-with-SVM.ipynb)\n",
    "  \n",
    "### 5. Model Validation In-Depth\n",
    "\n",
    "  + [05.1-Model-Selection-using-10-Cross-Fold-Validation.ipynb](04.2-Model-Selection-using-10-Cross-Fold-Validation.ipynb)\n",
    "  \n",
    "**Note:** This tutorial, or experiment pipeline have been made using some text and notebooks from PyData Seattle 2015 Introduction to Scikit-Learn tutorial, presented by [Jake VanderPlas](http://www.vanderplas.com), original linked on [github repository](http://github.com/jakevdp/sklearn_pydata2015)."
   ]
  }
 ],
 "metadata": {
  "kernelspec": {
   "display_name": "Python 3",
   "language": "python",
   "name": "python3"
  },
  "language_info": {
   "codemirror_mode": {
    "name": "ipython",
    "version": 3
   },
   "file_extension": ".py",
   "mimetype": "text/x-python",
   "name": "python",
   "nbconvert_exporter": "python",
   "pygments_lexer": "ipython3",
   "version": "3.6.8"
  }
 },
 "nbformat": 4,
 "nbformat_minor": 1
}
