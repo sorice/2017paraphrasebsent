{
 "cells": [
  {
   "cell_type": "markdown",
   "metadata": {},
   "source": [
    "# Paraphrase Identification beyond Sentences\n",
    "\n",
    "Originaly prepared for __SciPy Latinoamérica. La Habana, Cuba. May 2017\n",
    "\n",
    "This is the main index of Paraphrase Text Similarity Tutorial of the Paraphrase Identification over pair text fragment cases with more than one sentence, presented by [Abel Meneses-Abad](http://www.menesesabad.com/).\n",
    "Please refer to the [github repository](http://github.com/sorice/simtext_scipyla2017) of this tutorial for any citation on papers or codes.\n",
    "\n",
    "**Note:** Unfortunately the event never took place for logistics troubles."
   ]
  },
  {
   "cell_type": "markdown",
   "metadata": {},
   "source": [
    "## Tutorial Notebooks\n",
    "\n",
    "The following links are to notebooks containing the tutorial materials.\n",
    "Note that many of these require files that are in the directory structure of the [github repository](http://github.com/sorice/simtext_scipyla2017) in which they are contained.\n",
    "There is not time during the tutorial to cover all of this material, but I left it in in case attendees would like to go deeper on their own.\n",
    "\n",
    "### Preliminaries\n",
    "\n",
    "  + [1-Preliminaries.ipynb](01-Preliminaries.ipynb)\n",
    "  \n",
    "### Data Preparation\n",
    "\n",
    "The first phase of this collection show how to normalize text corpus in python. Using some very well know international corpus and using some basic text similarity scores align fragments of text to build a new corpus of similarity based on paragraph units. Also evaluate the Quality of alignment.\n",
    "\n",
    "  + [2.1 Normalizing the Text Corpus](02.1-Normalizing-Text-Corpus.ipynb)\n",
    "  + [2.2 Aligning Preprocessed Sentence to Originals](02.2c-Jaccard-Align-Preproc-to-Original-Sent.ipynb)\n",
    "  + [2.3 Evaluate Normalization - Alignment Process](02.3-Eval-Normalization-Alignment-Quality.ipynb)\n",
    "  + [2.4 Transforming PlagDet Corpus into a Paraphrase Corpus](02.4-From-PlagDet-to-Paraphrase-Corpus.ipynb)\n",
    "  \n",
    "### Text Similarity Calculation\n",
    "\n",
    "The second phase show the potential of Sklearn similarity measures/scores, also a self package for text similarity measure with more than 40 different scores. It is showed also the transformation of the corpus based on similar sentences into vector of similarity scores, more suitable for machine learning experiments.\n",
    "\n",
    "__Note__: specifically 3.3-PSTSC it is not done, because of cloud computing needs. And 3.4 is to long because the author was learning during the writing of this notebook.\n",
    "\n",
    "  + [3.1-Basic-Similarity-with-Sklearn.ipynb](03.1-Basic-Text-Similarity-with-Sklearn.ipynb)\n",
    "  + [3.2-Similarity-Features-Elaboration.ipynb](03.2-Text-Similarity-Features-Elaboration-with-textsim-pack.ipynb)\n",
    "  + [3.3-MSRPC-Sim-Object-Corpus-Construction.ipynb](03.3-MSRPC-Similarity-Vector-Corpus-Construction.ipynb)\n",
    "  + [3.3-PSTSC-Sim-Object-Corpus-Construction.ipynb](03.3-PSTSC-Similarity-Vector-Corpus-Construction.ipynb)\n",
    "  + [3.4-Feature-Selection.ipynb](03.4-Scaling-and-Reducing-the-Data.ipynb)\n",
    "\n",
    "### Classifying Cases with SVM\n",
    "\n",
    "The third and last use the created corpus based on similarity scores to build a Supervised model that classify sentences or paragraphs in similar or not.\n",
    "\n",
    "  + [4.1-Basic-Clasification-with-SVM.ipynb](04.1-Classification.ipynb)\n",
    "  + [4.2-Model-Selection-using-10-Cross-Fold-Validation.ipynb](04.2-Model-Selection-using-10-Cross-Fold-Validation.ipynb)\n",
    "  + [4.3-Classification-without-Outliers.ipynb](04.3-Classification-without-Outliers.ipynb)\n",
    "  \n",
    "**Note:** This tutorial, and experiment pipeline was made based and re-using some text, tips from PyData Seattle 2015 Introduction to Scikit-Learn tutorial, presented by [Jake VanderPlas](http://www.vanderplas.com), original linked on [github repository](http://github.com/jakevdp/sklearn_pydata2015)."
   ]
  }
 ],
 "metadata": {
  "kernelspec": {
   "display_name": "Python 3",
   "language": "python",
   "name": "python3"
  },
  "language_info": {
   "codemirror_mode": {
    "name": "ipython",
    "version": 3
   },
   "file_extension": ".py",
   "mimetype": "text/x-python",
   "name": "python",
   "nbconvert_exporter": "python",
   "pygments_lexer": "ipython3",
   "version": "3.6.9"
  }
 },
 "nbformat": 4,
 "nbformat_minor": 1
}
