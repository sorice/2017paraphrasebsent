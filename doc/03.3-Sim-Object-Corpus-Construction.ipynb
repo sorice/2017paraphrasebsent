{
 "metadata": {
  "name": "",
  "signature": "sha256:53cd2e5a4b3c9e82d89ccfc7ed295b8e6483efc168ba3067bd1904e4fbd958d7"
 },
 "nbformat": 3,
 "nbformat_minor": 0,
 "worksheets": [
  {
   "cells": [
    {
     "cell_type": "markdown",
     "metadata": {},
     "source": [
      "<small><i>This notebook was put together by [Abel Meneses-Abad](http://www.menesesabad.com) for Paper *Paraphrase Beyond Sentence*. Source and license info is on [GitHub](https://github.com/sorice/2017paraphrasebsent/).</i></small>"
     ]
    },
    {
     "cell_type": "markdown",
     "metadata": {},
     "source": [
      "# Constructing a Corpus of Similarity Objects\n",
      "\n",
      "After having a good set of text similarity functions, the next urgent resource is the corpus of similarity objects. The next set of cell implement the generation of a corpus of similarity vectors."
     ]
    },
    {
     "cell_type": "code",
     "collapsed": false,
     "input": [
      "import pandas as pd\n",
      "from pandas import DataFrame, Series, read_table\n",
      "import textsim\n",
      "from textsim.utils import calc_all\n",
      "import arff\n",
      "import time\n",
      "\n",
      "#Read Paraphrase Corpus\n",
      "df = read_table('../msr_paraphrase_test.txt',sep='\\t')\n",
      "data = []\n",
      "distances = []\n",
      "inter = [1,10,50,100,200,500,1000,1500,2000]\n",
      "count = 0\n",
      "ti = time.time()\n",
      "with open('../MSR-Sim-Vec-Corpus.arff','a') as corpus: #Open vector similarity feature corpus\n",
      "    corpus.write('@relation paraphrase\\n')\n",
      "    for distance in textsim.__all_distances__.keys():\n",
      "        corpus.write('@attribute '+distance+' numeric\\n')\n",
      "        distances.append(distance)\n",
      "    corpus.write('@attribute class {yes, no\\n')\n",
      "    corpus.write('\\n@data')\n",
      "    \n",
      "    for row in range(len(df)):\n",
      "        clase, ide1, ide2, sent1, sent2 = df.xs(row)\n",
      "        try:\n",
      "            obj = calc_all(sent1,sent2)[2:]\n",
      "            if clase:\n",
      "                obj.append('yes')\n",
      "            else:\n",
      "                obj.append('no')\n",
      "            data.append(obj)\n",
      "            corpus.write(str(obj)[1:-1]+'\\n')\n",
      "        except:\n",
      "            print('except:',ide1, sent1, sent2, clase)\n",
      "        count+=1\n",
      "        if count in inter:\n",
      "            tf = time.time()-ti\n",
      "            print(count, tf)\n",
      "    arff.dump('result.arff',data, relation='paraphrase',names=distances)\n",
      "tf = time.time()-ti\n",
      "print(tf)"
     ],
     "language": "python",
     "metadata": {},
     "outputs": [
      {
       "output_type": "stream",
       "stream": "stdout",
       "text": [
        "1 0.22960877418518066\n",
        "10"
       ]
      },
      {
       "output_type": "stream",
       "stream": "stdout",
       "text": [
        " 2.498749256134033\n",
        "except:"
       ]
      },
      {
       "output_type": "stream",
       "stream": "stdout",
       "text": [
        " 501917 A charter plane crashed in Turkey on Monday, killing all 75 people aboard, including 62 Spanish peacekeepers returning from Afghanistan, officials said. A plane carrying 75 people, including 62 Spanish peacekeepers returning from Afghanistan, crashed in thick fog in Turkey early on Monday, killing all aboard, officials said. 1\n",
        "except:"
       ]
      },
      {
       "output_type": "stream",
       "stream": "stdout",
       "text": [
        " 2226418 The women said victims of rape who came forward routinely were punished for minor infractions while their assailants escaped judgment. The women said victims of rape who came forward were routinely punished for minor infractions while their attackers escaped judgment, prompting most victims to remain silent. 0\n",
        "except:"
       ]
      },
      {
       "output_type": "stream",
       "stream": "stdout",
       "text": [
        " 2375809 They were chipping away at the concrete to get to the body, said Chris Butler, who lives across the street. Investigators \"were chipping away at the concrete to get to the body,\" said Chris Butler, who lives across the street in the quiet city neighborhood. 1\n",
        "50"
       ]
      },
      {
       "output_type": "stream",
       "stream": "stdout",
       "text": [
        " 11.230524778366089\n",
        "100"
       ]
      },
      {
       "output_type": "stream",
       "stream": "stdout",
       "text": [
        " 22.045754432678223\n",
        "except:"
       ]
      },
      {
       "output_type": "stream",
       "stream": "stdout",
       "text": [
        " 774520 The MDC called the strike to force Mr Mugabe to either resign or negotiate a settlement of the Zimbabwe crisis. The MDC called the week-long protest to urge Mugabe either to resign or to negotiate a settlement of the crisis gripping the country. 1\n",
        "except:"
       ]
      },
      {
       "output_type": "stream",
       "stream": "stdout",
       "text": [
        " 2759792 Stock futures were mixed in early Thursday trading, but trading below fair value, pointing to a lower open for the major market indexes. Stock futures were trading lower early on Thursday, below fair value, pointing to a lower open. 1\n",
        "200"
       ]
      },
      {
       "output_type": "stream",
       "stream": "stdout",
       "text": [
        " 43.83355188369751\n",
        "except:"
       ]
      },
      {
       "output_type": "stream",
       "stream": "stdout",
       "text": [
        " 1705093 Robert B. Willumstad, 57, Citigroup's president, was named chief operating officer. And Robert B. Willumstad, 57, who is currently president of Citigroup, was named chief operating officer. 1\n",
        "except:"
       ]
      },
      {
       "output_type": "stream",
       "stream": "stdout",
       "text": [
        " 3299227 This is America, my friends, and it should not happen here,\" he said to loud applause. This is America, my friends, and it should not happen here. 0\n",
        "except:"
       ]
      },
      {
       "output_type": "stream",
       "stream": "stdout",
       "text": [
        " 684307 I notice a mood change in their priorities, one politician said. I notice a mood change in their priorities, said one Iraqi politician after meeting with Mr. Bremer. 0\n",
        "except:"
       ]
      },
      {
       "output_type": "stream",
       "stream": "stdout",
       "text": [
        " 1268485 The euro has slipped nearly four percent since matching a record peak of around $1.1935 only last week and hitting an all-time high of 140.90 yen in late May. The euro has slipped as much as four cents since matching a record peak near $1.1935 last week and hitting a record high of 140.90 yen in late May. 1\n",
        "except:"
       ]
      },
      {
       "output_type": "stream",
       "stream": "stdout",
       "text": [
        " 496011 It's very difficult to do large syndicated loans in Japan, where there is a lack of expertise, says one banker. It is very difficult to do large syndicated loans in Japan, says one banker. 0\n",
        "except:"
       ]
      },
      {
       "output_type": "stream",
       "stream": "stdout",
       "text": [
        " 2030918 It is essential that proceedings against accused terrorists both be fair and appear fair to outside observers, he said. It is essential that the proceedings against accused terrorists be fair -- and appear to be so to outside observers, Sonnett said. 1\n",
        "except:"
       ]
      },
      {
       "output_type": "stream",
       "stream": "stdout",
       "text": [
        " 1124284 He had been arrested twice before for trespassing and barred from the complex - home to his mother and two children. He had been arrested twice before for trespassing and was barred from the complex. 0\n",
        "except:"
       ]
      },
      {
       "output_type": "stream",
       "stream": "stdout",
       "text": [
        " 1240372 Revenues for \"The Hulk\" came in well below those of last month's Marvel Comics adaptation, \"X2: X-Men United,\" which grossed $85.6 million in its opening weekend. The Hulk trailed last month's Marvel Comics adaptation, X2: X-Men United, which grossed $85.6-million in its opening weekend. 1\n",
        "except:"
       ]
      },
      {
       "output_type": "stream",
       "stream": "stdout",
       "text": [
        " 3313165 Closed sessions are routinely held at the United Nations tribunal that deals with Balkan war crimes, but usually to protect witnesses's safety. Closed sessions are routinely held at the U.N. tribunal that deals with Balkan war crimes, but they are usually closed to protect witnesses who fear for their safety. 1\n",
        "except:"
       ]
      },
      {
       "output_type": "stream",
       "stream": "stdout",
       "text": [
        " 2122040 Although it's unclear whether Sobig was to blame, The New York Times also asked employees at its headquarters yesterday to shut down their computers because of \"system difficulties.\" The New York Times asked employees at its headquarters to shut down their computers yesterday because of \"computing system difficulties.\" 1\n",
        "except:"
       ]
      },
      {
       "output_type": "stream",
       "stream": "stdout",
       "text": [
        " 1245561 After Saddam's regime crumbled in early April, it had to wait for legal hurdles to be crossed before sales could resume. After Saddam's regime crumbled in early April, legal hurdles had to be cleared before sales could resume. 1\n",
        "except:"
       ]
      },
      {
       "output_type": "stream",
       "stream": "stdout",
       "text": [
        " 545928 On Sunday, a U.S. soldier was killed and another injured in southern Iraq when a munitions dump exploded. On Sunday, a U.S. soldier was killed and another injured when a munitions dump they were guarding exploded in southern Iraq. 1\n",
        "500"
       ]
      },
      {
       "output_type": "stream",
       "stream": "stdout",
       "text": [
        " 107.83650326728821\n",
        "except:"
       ]
      },
      {
       "output_type": "stream",
       "stream": "stdout",
       "text": [
        " 3014177 The differences between Grassley and Thomas on energy and Medicare have become so pointed that other members say their angry personal relationship is embarrassing the party. Their differences on energy and Medicare have become so pointed other members say it is embarrassing to the party. 1\n",
        "except:"
       ]
      },
      {
       "output_type": "stream",
       "stream": "stdout",
       "text": [
        " 1967671 Extra guidance on countering suicide bombers is now being given to officers in London and will be extended over the next month to police around the country. Extra guidance on countering suicide bombers is now being given to officers in London, and will be extended to other forces next month. 1\n",
        "except:"
       ]
      },
      {
       "output_type": "stream",
       "stream": "stdout",
       "text": [
        " 573366 Saddam is gone, but we want the (U.S.) occupation to end, said Hit resident Abu Qasim. Saddam is gone, but we want the (U.S.) occupation to end. 1\n",
        "except:"
       ]
      },
      {
       "output_type": "stream",
       "stream": "stdout",
       "text": [
        " 1596214 Police and officials said about 200 people were rescued by fishing boats or managed to struggle to shore. About 200 people were rescued by fishing boats or managed to reach shore, police and officials said. 1\n",
        "except:"
       ]
      },
      {
       "output_type": "stream",
       "stream": "stdout",
       "text": [
        " 2716543 News Corp., whose empire spans Hollywood's Twentieth Century-Fox Film Corp. to publishing house HarperCollins Publishers Ltd., owns 35 per cent of BSkyB. News Corp., whose empire spans Hollywood's Twentieth Century Fox to publishing house HarperCollins, owns 35 percent of BSkyB. 1\n",
        "except:"
       ]
      },
      {
       "output_type": "stream",
       "stream": "stdout",
       "text": [
        " 938119 Just as before, it will be up to the council to decide the direction and the timing of the process. Just as before, it will be up to the Council to decide the direction and process. 1\n",
        "except:"
       ]
      },
      {
       "output_type": "stream",
       "stream": "stdout",
       "text": [
        " 113468 Woodley, 44, died of liver and kidney failure Sunday at a hospital in his native Shreveport, La., said his niece, Lucy Woodley. Mr. Woodley died Sunday at age 44 of liver and kidney failure in his native Shreveport, La. 1\n",
        "except:"
       ]
      },
      {
       "output_type": "stream",
       "stream": "stdout",
       "text": [
        " 941673 His hatred for these people had germinated from these discussions and helped cement his belief that violence was the panacea. His hatred had germinated and cemented his belief that violence was the best panacea. 1\n",
        "except:"
       ]
      },
      {
       "output_type": "stream",
       "stream": "stdout",
       "text": [
        " 2390771 And of those, 149, or 55%, \"claimed to treat, prevent, diagnose or cure specific diseases.\" And of those, 55 percent, or 149, claimed to treat, prevent, diagnose or cure specific diseases -- despite the regulations prohibiting that kind of statement. 0\n",
        "except:"
       ]
      },
      {
       "output_type": "stream",
       "stream": "stdout",
       "text": [
        " 387804 Analyst Mike King of Banc of America Securities downgraded Genentech on Monday to a \"sell\" before the company released its statement on the colon-cancer research. Indeed, analyst Mike King of Banc of America Securities downgraded Genentech yesterday to a \"sell\" before the company released its colon cancer news. 1\n",
        "except:"
       ]
      },
      {
       "output_type": "stream",
       "stream": "stdout",
       "text": [
        " 1904049 In Uganda, the Rev Jackson Turyagyenda, an Anglican spokesman, said his church was \"very disappointed\". In Uganda, Anglican spokesman Jackson Turyagyenda said the church was \"very disappointed\". 1\n",
        "except:"
       ]
      },
      {
       "output_type": "stream",
       "stream": "stdout",
       "text": [
        " 279643 In my mind this is not an issue on the horizon right now. In my mind this is not an issue on the horizon right now, he was quoted as saying. 1\n",
        "except:"
       ]
      },
      {
       "output_type": "stream",
       "stream": "stdout",
       "text": [
        " 2500731 Rork said he thought Walker would ask him to appeal the ruling in state court and perhaps in U.S. District Court. Defense attorney William Rork said he thought Walker would ask him to appeal Parrish's ruling to a higher state court and perhaps U.S. District Court. 1\n",
        "except:"
       ]
      },
      {
       "output_type": "stream",
       "stream": "stdout",
       "text": [
        " 686191 At least 154 people, most of them opposition activists or officials, were arrested across the country Monday, police spokesman Wayne Bvudzijena said in a statement. Police spokesman Wayne Bvudzijena said in a statement that at least 154 people, most of them opposition activists or officials, were arrested across the country Monday. 1\n",
        "except:"
       ]
      },
      {
       "output_type": "stream",
       "stream": "stdout",
       "text": [
        " 986604 The warning was the most serious the 15-nation bloc has sent Iran since they began negotiating a trade and cooperation agreement late last year. It would be most serious warning since the 15-nation bloc has sent Iran since they began negotiating a trade and cooperation agreement late last year. 1\n",
        "except:"
       ]
      },
      {
       "output_type": "stream",
       "stream": "stdout",
       "text": [
        " 1465159 Anhalt said children typically treat a 20-ounce soda bottle as one serving, while it actually contains 2 1/2 servings. For example, Anhalt said, children typically treat a 20-ounce soda bottle as one serving, although it actually contains 2 \u00bd 8-ounce servings. 1\n",
        "1000"
       ]
      },
      {
       "output_type": "stream",
       "stream": "stdout",
       "text": [
        " 221.0034544467926\n",
        "except:"
       ]
      },
      {
       "output_type": "stream",
       "stream": "stdout",
       "text": [
        " 3389014 Reuters witnesses said many houses had been flattened and the city squares were packed with crying children and the homeless, huddled in blankets to protect them from the cold. Reuters witnesses said public squares were packed with crying children and people left homeless, huddled in blankets to protect them from the cold. 0\n",
        "except:"
       ]
      },
      {
       "output_type": "stream",
       "stream": "stdout",
       "text": [
        " 2776610 Since it expanded its shipments to the United States, Hulett has captured a significant share of the U.S. market. Since Hulett dramatically expanded its shipments to the US in 2000, it has captured a significant share of the US market. 1\n",
        "except:"
       ]
      },
      {
       "output_type": "stream",
       "stream": "stdout",
       "text": [
        " 2637189 Russin did not comment; his lawyer did not attend the hearing and did not return phone messages. His lawyer, a cousin, Basil Russin, did not attend the hearing and did not return phone messages. 0\n",
        "except:"
       ]
      },
      {
       "output_type": "stream",
       "stream": "stdout",
       "text": [
        " 2274833 In fact, I was physically sick several times at this stage, because he looked so desperate, she said. Speaking about the day before he was found dead, she said: \"I was physically sick several times at this stage because he looked so desperate. 1\n",
        "except:"
       ]
      },
      {
       "output_type": "stream",
       "stream": "stdout",
       "text": [
        " 2381709 Tail wagging, Abbey trotted on stage with Conway before a crowd of more than 10,000 attendees at PeopleSoft's annual customer conference at the Anaheim Convention Center. On Monday, Abbey trotted on stage, tail wagging, with Conway before a crowd of 10,000 attendees at PeopleSoft's annual customer conference. 1\n",
        "except:"
       ]
      },
      {
       "output_type": "stream",
       "stream": "stdout",
       "text": [
        " 374820 At issue is the scholarship program that helps high-achieving students pay for studies in fields such as business or engineering, but not theology. At issue in yesterday's case is a Washington state scholarship program that helps high-achieving students pay for studies in fields such as business or engineering, but not theology. 1\n",
        "except:"
       ]
      },
      {
       "output_type": "stream",
       "stream": "stdout",
       "text": [
        " 1984954 I really liked him and I still do, Cohen Alon told the Herald yesterday. And I really liked him, and I still do. 1\n",
        "except:"
       ]
      },
      {
       "output_type": "stream",
       "stream": "stdout",
       "text": [
        " 2320045 Fletcher said he expects to have the support of lawmakers from agricultural states, many of whom are on the committee. He said he also expects to have the support of lawmakers from other agricultural states. 0\n",
        "except:"
       ]
      },
      {
       "output_type": "stream",
       "stream": "stdout",
       "text": [
        " 61262 Loan losses, investment writedowns and legal costs led to the largest-ever loss for a European bank last year. Loan losses, investment writedowns and legal costs led to the loss last year, the largest ever for a European bank. 1\n",
        "except:"
       ]
      },
      {
       "output_type": "stream",
       "stream": "stdout",
       "text": [
        " 2696847 I don't think he's been that good from the get-go, said Limbaugh. This is what Limbaugh actually said about McNabb: \"I don't think he's been that good from the get-go. 1\n",
        "except:"
       ]
      },
      {
       "output_type": "stream",
       "stream": "stdout",
       "text": [
        " 1485566 Agrawal said her research neither suggests nor indicates PCOS causes lesbianism, only that PCOS is more prevalent in lesbian women. She continued: \"Our research neither suggests nor indicates that PCO/PCOS causes lesbianism, only that PCO/PCOS is more prevalent in lesbian women. 1\n",
        "except:"
       ]
      },
      {
       "output_type": "stream",
       "stream": "stdout",
       "text": [
        " 2209390 It just seems like all the issues that we support, he doesn't, said Gabriela Lemus of LULAC. It just seems like all the issues that we support he doesn't, said Gabriela Lemus, the league's director of policy and legislation. 1\n",
        "except:"
       ]
      },
      {
       "output_type": "stream",
       "stream": "stdout",
       "text": [
        " 2226542 Weather forecasters are sending out warnings for heavy rainfall that could wash out the tail end of the holiday weekend. Weather forecasters are warning of heavy rainfall that could wash out part of the holiday weekend. 1\n",
        "except:"
       ]
      },
      {
       "output_type": "stream",
       "stream": "stdout",
       "text": [
        " 2117310 Besides Hampton and Newport News, the grant funds water testing in Yorktown, King George County, Norfolk and Virginia Beach. The grant also funds beach testing in King George County, Norfolk and Virginia Beach. 0\n",
        "except:"
       ]
      },
      {
       "output_type": "stream",
       "stream": "stdout",
       "text": [
        " 1953419 The department ordered an 18.2 percent reduction for Allstate Texas Lloyds and a 12 percent reduction for State Farm Lloyds. The department ordered a 12 percent reduction for State Farm Lloyds, the state's largest insurer, and an 18.2 percent reduction for Allstate Texas Lloyds, the third-largest. 1\n",
        "1500"
       ]
      },
      {
       "output_type": "stream",
       "stream": "stdout",
       "text": [
        " 329.91711044311523\n",
        "except:"
       ]
      },
      {
       "output_type": "stream",
       "stream": "stdout",
       "text": [
        " 31099 Wells\u2019 other series include NBC\u2019s ER and Third Watch. Wells' other series include NBC's \"ER\" and \"Third Watch.\" 1\n",
        "except:"
       ]
      },
      {
       "output_type": "stream",
       "stream": "stdout",
       "text": [
        " 2627558 The US will take on Canada in the third-place play-off in Carson on Saturday. The United States will play Canada in the third-place game Saturday. 1\n",
        "except:"
       ]
      },
      {
       "output_type": "stream",
       "stream": "stdout",
       "text": [
        " 2944743 As a precaution, NASA instructed space station astronauts to periodically seek shelter from the storm's effects in the station's Russian module. But NASA has instructed space station astronauts to periodically seek shelter from the storm's effects. 1\n",
        "except:"
       ]
      },
      {
       "output_type": "stream",
       "stream": "stdout",
       "text": [
        " 3122364 The village last said sorry in 1993, when it presented the Methodist Church of Fiji with Baker's boots - which cannibals had tried unsuccessfully to cook and eat. In 1993, villagers presented the Methodist Church of Fiji with Baker's boots \u2014 which cannibals tried unsuccessfully to cook and eat. 1\n",
        "except:"
       ]
      },
      {
       "output_type": "stream",
       "stream": "stdout",
       "text": [
        " 1419079 GALLOWAY TOWNSHIP, N.J. Annika Sorenstam drew the crowds, Michelle Wie got the publicity but Angela Stanford took her first LPGA victory. GALLOWAY TOWNSHIP, N.J. >> Annika Sorenstam and Michelle Wie drew the crowds, but Angela Stanford took her first LPGA victory. 1\n",
        "except:"
       ]
      },
      {
       "output_type": "stream",
       "stream": "stdout",
       "text": [
        " 912454 I am advised that certain allegations of criminal conduct have been interposed against my counsel, said Silver. I am advised that certain allegations of criminal conduct have been interposed against my counsel, J. Michael Boxley,'' the Silver statement said.  1\n",
        "379.49773502349854"
       ]
      },
      {
       "output_type": "stream",
       "stream": "stdout",
       "text": [
        "\n"
       ]
      }
     ],
     "prompt_number": 30
    },
    {
     "cell_type": "code",
     "collapsed": false,
     "input": [
      "#Read Paraphrase Corpus\n",
      "data = []\n",
      "distances = []\n",
      "inter = [1,10,50,100,200,500,1000,1500,2000]\n",
      "count = 0\n",
      "ti = time.time()\n",
      "with open('../MSR-Sim-Vec-Corpus.arff','a') as corpus: #Open vector similarity feature corpus\n",
      "    corpus.write('@relation paraphrase\\n')\n",
      "    for distance in textsim.__all_distances__.keys():\n",
      "        corpus.write('@attribute '+distance+' numeric\\n')\n",
      "        distances.append(distance)\n",
      "    corpus.write('@attribute class {yes, no\\n')\n",
      "    corpus.write('\\n@data')\n",
      "    with open('../PAN-Paraphrase-Corpus',newline='\\rn') as csvfile:\n",
      "        casereader = csv.reader(csvfile, delimiter='\\t')\n",
      "        for row in casereader:\n",
      "            ide, sent1, sent2, clase = row\n",
      "            try:\n",
      "                obj = calc_all(sent1,sent2)[2:]\n",
      "                if clase:\n",
      "                    obj.append('yes')\n",
      "                else:\n",
      "                    obj.append('no')\n",
      "                data.append(obj)\n",
      "                corpus.write(str(obj)[1:-1]+'\\n')\n",
      "            except:\n",
      "                print('except:',ide, sent1, sent2, clase)\n",
      "            count+=1\n",
      "            if count in inter:\n",
      "                print(count)\n",
      "    arff.dump('result.arff',data, relation='paraphrase',names=distances)\n",
      "tf = time.time()-ti\n",
      "print(tf)"
     ],
     "language": "python",
     "metadata": {},
     "outputs": [
      {
       "ename": "CParserError",
       "evalue": "Error tokenizing data. C error: Expected 5 fields in line 34, saw 6\n",
       "output_type": "pyerr",
       "traceback": [
        "\u001b[0;31m---------------------------------------------------------------------------\u001b[0m\n\u001b[0;31mCParserError\u001b[0m                              Traceback (most recent call last)",
        "\u001b[0;32m<ipython-input-18-267e4287bd43>\u001b[0m in \u001b[0;36m<module>\u001b[0;34m()\u001b[0m\n\u001b[1;32m      1\u001b[0m \u001b[0;31m#Read Paraphrase Corpus\u001b[0m\u001b[0;34m\u001b[0m\u001b[0;34m\u001b[0m\u001b[0m\n\u001b[0;32m----> 2\u001b[0;31m \u001b[0mdf\u001b[0m \u001b[0;34m=\u001b[0m \u001b[0mread_table\u001b[0m\u001b[0;34m(\u001b[0m\u001b[0;34m'../msr_paraphrase_test.txt'\u001b[0m\u001b[0;34m,\u001b[0m\u001b[0msep\u001b[0m\u001b[0;34m=\u001b[0m\u001b[0;34m'\\t'\u001b[0m\u001b[0;34m)\u001b[0m\u001b[0;34m\u001b[0m\u001b[0m\n\u001b[0m\u001b[1;32m      3\u001b[0m \u001b[0mdata\u001b[0m \u001b[0;34m=\u001b[0m \u001b[0;34m[\u001b[0m\u001b[0;34m]\u001b[0m\u001b[0;34m\u001b[0m\u001b[0m\n\u001b[1;32m      4\u001b[0m \u001b[0mdistances\u001b[0m \u001b[0;34m=\u001b[0m \u001b[0;34m[\u001b[0m\u001b[0;34m]\u001b[0m\u001b[0;34m\u001b[0m\u001b[0m\n\u001b[1;32m      5\u001b[0m \u001b[0minter\u001b[0m \u001b[0;34m=\u001b[0m \u001b[0;34m[\u001b[0m\u001b[0;36m1\u001b[0m\u001b[0;34m,\u001b[0m\u001b[0;36m10\u001b[0m\u001b[0;34m,\u001b[0m\u001b[0;36m50\u001b[0m\u001b[0;34m,\u001b[0m\u001b[0;36m100\u001b[0m\u001b[0;34m,\u001b[0m\u001b[0;36m200\u001b[0m\u001b[0;34m,\u001b[0m\u001b[0;36m500\u001b[0m\u001b[0;34m,\u001b[0m\u001b[0;36m1000\u001b[0m\u001b[0;34m,\u001b[0m\u001b[0;36m1500\u001b[0m\u001b[0;34m,\u001b[0m\u001b[0;36m2000\u001b[0m\u001b[0;34m]\u001b[0m\u001b[0;34m\u001b[0m\u001b[0m\n",
        "\u001b[0;32m/usr/lib/python3/dist-packages/pandas/io/parsers.py\u001b[0m in \u001b[0;36mparser_f\u001b[0;34m(filepath_or_buffer, sep, dialect, compression, doublequote, escapechar, quotechar, quoting, skipinitialspace, lineterminator, header, index_col, names, prefix, skiprows, skipfooter, skip_footer, na_values, true_values, false_values, delimiter, converters, dtype, usecols, engine, delim_whitespace, as_recarray, na_filter, compact_ints, use_unsigned, low_memory, buffer_lines, warn_bad_lines, error_bad_lines, keep_default_na, thousands, comment, decimal, parse_dates, keep_date_col, dayfirst, date_parser, memory_map, float_precision, nrows, iterator, chunksize, verbose, encoding, squeeze, mangle_dupe_cols, tupleize_cols, infer_datetime_format, skip_blank_lines)\u001b[0m\n\u001b[1;32m    496\u001b[0m                     skip_blank_lines=skip_blank_lines)\n\u001b[1;32m    497\u001b[0m \u001b[0;34m\u001b[0m\u001b[0m\n\u001b[0;32m--> 498\u001b[0;31m         \u001b[0;32mreturn\u001b[0m \u001b[0m_read\u001b[0m\u001b[0;34m(\u001b[0m\u001b[0mfilepath_or_buffer\u001b[0m\u001b[0;34m,\u001b[0m \u001b[0mkwds\u001b[0m\u001b[0;34m)\u001b[0m\u001b[0;34m\u001b[0m\u001b[0m\n\u001b[0m\u001b[1;32m    499\u001b[0m \u001b[0;34m\u001b[0m\u001b[0m\n\u001b[1;32m    500\u001b[0m     \u001b[0mparser_f\u001b[0m\u001b[0;34m.\u001b[0m\u001b[0m__name__\u001b[0m \u001b[0;34m=\u001b[0m \u001b[0mname\u001b[0m\u001b[0;34m\u001b[0m\u001b[0m\n",
        "\u001b[0;32m/usr/lib/python3/dist-packages/pandas/io/parsers.py\u001b[0m in \u001b[0;36m_read\u001b[0;34m(filepath_or_buffer, kwds)\u001b[0m\n\u001b[1;32m    283\u001b[0m         \u001b[0;32mreturn\u001b[0m \u001b[0mparser\u001b[0m\u001b[0;34m\u001b[0m\u001b[0m\n\u001b[1;32m    284\u001b[0m \u001b[0;34m\u001b[0m\u001b[0m\n\u001b[0;32m--> 285\u001b[0;31m     \u001b[0;32mreturn\u001b[0m \u001b[0mparser\u001b[0m\u001b[0;34m.\u001b[0m\u001b[0mread\u001b[0m\u001b[0;34m(\u001b[0m\u001b[0;34m)\u001b[0m\u001b[0;34m\u001b[0m\u001b[0m\n\u001b[0m\u001b[1;32m    286\u001b[0m \u001b[0;34m\u001b[0m\u001b[0m\n\u001b[1;32m    287\u001b[0m _parser_defaults = {\n",
        "\u001b[0;32m/usr/lib/python3/dist-packages/pandas/io/parsers.py\u001b[0m in \u001b[0;36mread\u001b[0;34m(self, nrows)\u001b[0m\n\u001b[1;32m    745\u001b[0m                 \u001b[0;32mraise\u001b[0m \u001b[0mValueError\u001b[0m\u001b[0;34m(\u001b[0m\u001b[0;34m'skip_footer not supported for iteration'\u001b[0m\u001b[0;34m)\u001b[0m\u001b[0;34m\u001b[0m\u001b[0m\n\u001b[1;32m    746\u001b[0m \u001b[0;34m\u001b[0m\u001b[0m\n\u001b[0;32m--> 747\u001b[0;31m         \u001b[0mret\u001b[0m \u001b[0;34m=\u001b[0m \u001b[0mself\u001b[0m\u001b[0;34m.\u001b[0m\u001b[0m_engine\u001b[0m\u001b[0;34m.\u001b[0m\u001b[0mread\u001b[0m\u001b[0;34m(\u001b[0m\u001b[0mnrows\u001b[0m\u001b[0;34m)\u001b[0m\u001b[0;34m\u001b[0m\u001b[0m\n\u001b[0m\u001b[1;32m    748\u001b[0m \u001b[0;34m\u001b[0m\u001b[0m\n\u001b[1;32m    749\u001b[0m         \u001b[0;32mif\u001b[0m \u001b[0mself\u001b[0m\u001b[0;34m.\u001b[0m\u001b[0moptions\u001b[0m\u001b[0;34m.\u001b[0m\u001b[0mget\u001b[0m\u001b[0;34m(\u001b[0m\u001b[0;34m'as_recarray'\u001b[0m\u001b[0;34m)\u001b[0m\u001b[0;34m:\u001b[0m\u001b[0;34m\u001b[0m\u001b[0m\n",
        "\u001b[0;32m/usr/lib/python3/dist-packages/pandas/io/parsers.py\u001b[0m in \u001b[0;36mread\u001b[0;34m(self, nrows)\u001b[0m\n\u001b[1;32m   1195\u001b[0m     \u001b[0;32mdef\u001b[0m \u001b[0mread\u001b[0m\u001b[0;34m(\u001b[0m\u001b[0mself\u001b[0m\u001b[0;34m,\u001b[0m \u001b[0mnrows\u001b[0m\u001b[0;34m=\u001b[0m\u001b[0;32mNone\u001b[0m\u001b[0;34m)\u001b[0m\u001b[0;34m:\u001b[0m\u001b[0;34m\u001b[0m\u001b[0m\n\u001b[1;32m   1196\u001b[0m         \u001b[0;32mtry\u001b[0m\u001b[0;34m:\u001b[0m\u001b[0;34m\u001b[0m\u001b[0m\n\u001b[0;32m-> 1197\u001b[0;31m             \u001b[0mdata\u001b[0m \u001b[0;34m=\u001b[0m \u001b[0mself\u001b[0m\u001b[0;34m.\u001b[0m\u001b[0m_reader\u001b[0m\u001b[0;34m.\u001b[0m\u001b[0mread\u001b[0m\u001b[0;34m(\u001b[0m\u001b[0mnrows\u001b[0m\u001b[0;34m)\u001b[0m\u001b[0;34m\u001b[0m\u001b[0m\n\u001b[0m\u001b[1;32m   1198\u001b[0m         \u001b[0;32mexcept\u001b[0m \u001b[0mStopIteration\u001b[0m\u001b[0;34m:\u001b[0m\u001b[0;34m\u001b[0m\u001b[0m\n\u001b[1;32m   1199\u001b[0m             \u001b[0;32mif\u001b[0m \u001b[0mself\u001b[0m\u001b[0;34m.\u001b[0m\u001b[0m_first_chunk\u001b[0m\u001b[0;34m:\u001b[0m\u001b[0;34m\u001b[0m\u001b[0m\n",
        "\u001b[0;32m/usr/lib/python3/dist-packages/pandas/parser.cpython-35m-x86_64-linux-gnu.so\u001b[0m in \u001b[0;36mpandas.parser.TextReader.read (pandas/parser.c:7988)\u001b[0;34m()\u001b[0m\n",
        "\u001b[0;32m/usr/lib/python3/dist-packages/pandas/parser.cpython-35m-x86_64-linux-gnu.so\u001b[0m in \u001b[0;36mpandas.parser.TextReader._read_low_memory (pandas/parser.c:8244)\u001b[0;34m()\u001b[0m\n",
        "\u001b[0;32m/usr/lib/python3/dist-packages/pandas/parser.cpython-35m-x86_64-linux-gnu.so\u001b[0m in \u001b[0;36mpandas.parser.TextReader._read_rows (pandas/parser.c:8970)\u001b[0;34m()\u001b[0m\n",
        "\u001b[0;32m/usr/lib/python3/dist-packages/pandas/parser.cpython-35m-x86_64-linux-gnu.so\u001b[0m in \u001b[0;36mpandas.parser.TextReader._tokenize_rows (pandas/parser.c:8838)\u001b[0;34m()\u001b[0m\n",
        "\u001b[0;32m/usr/lib/python3/dist-packages/pandas/parser.cpython-35m-x86_64-linux-gnu.so\u001b[0m in \u001b[0;36mpandas.parser.raise_parser_error (pandas/parser.c:22649)\u001b[0;34m()\u001b[0m\n",
        "\u001b[0;31mCParserError\u001b[0m: Error tokenizing data. C error: Expected 5 fields in line 34, saw 6\n"
       ]
      }
     ],
     "prompt_number": 18
    },
    {
     "cell_type": "markdown",
     "metadata": {},
     "source": [
      "## Paralel version of Corpus construction code\n",
      "\n",
      "*Unfinished*\n",
      "(Pendiente, pues no funcion\u00f3 imprimir datos, o comunicarse con el proceso en paralelo, solo hay forma de probarlo usando un set de datos peque\u00f1os)."
     ]
    },
    {
     "cell_type": "code",
     "collapsed": false,
     "input": [
      "from IPython import parallel\n",
      "clients = parallel.Client()\n",
      "views = clients.load_balanced_view()"
     ],
     "language": "python",
     "metadata": {},
     "outputs": [],
     "prompt_number": 15
    },
    {
     "cell_type": "code",
     "collapsed": false,
     "input": [
      "import textsim\n",
      "from textsim.utils import calc_all\n",
      "import arff\n",
      "import time\n",
      "import csv\n",
      "\n",
      "rows = list(range(len(df)))\n",
      "\n",
      "def calc_vec(row):\n",
      "    ide, sent1, sent2, clase = row\n",
      "    print(str(ide)[:-10])\n",
      "    try:\n",
      "        vec = calc_all(sent1,sent2)\n",
      "        vec.append(clase)\n",
      "    except:\n",
      "        print(ide, sent1, sent2, clase)\n",
      "    #count+=1\n",
      "    #if count in inter:\n",
      "    #    print(count)\n",
      "    return vec[2:]\n",
      "\n",
      "#Read Paraphrase Corpus\n",
      "data = []\n",
      "distances = []\n",
      "inter = [1,10,50,100,200,500,1000,1500,2000]\n",
      "count = 0\n",
      "\n",
      "ti = time.time()\n",
      "with open('../PAN-Sim-Vec-Corpus','a') as corpus: #Open vector similarity feature corpus\n",
      "    corpus.write('@relation paraphrase')\n",
      "    for distance in textsim.__all_distances__.keys():\n",
      "        corpus.write('@attribute '+distance)\n",
      "        distances.append(distance)\n",
      "    with open('../PAN-Paraphrase-Corpus',newline='') as csvfile:\n",
      "        casereader = csv.reader(csvfile, delimiter='\\t')\n",
      "        data = list(views.map(calc_vec, casereader))    \n",
      "    arff.dump('result.arff',data, relation='paraphrase',names=distances)\n",
      "tf = time.time()-ti\n",
      "print(tf)"
     ],
     "language": "python",
     "metadata": {},
     "outputs": [
      {
       "ename": "NameError",
       "evalue": "name 'df' is not defined",
       "output_type": "pyerr",
       "traceback": [
        "\u001b[0;31m---------------------------------------------------------------------------\u001b[0m\n\u001b[0;31mNameError\u001b[0m                                 Traceback (most recent call last)",
        "\u001b[0;32m<ipython-input-1-9d6cfc5b3955>\u001b[0m in \u001b[0;36m<module>\u001b[0;34m()\u001b[0m\n\u001b[1;32m      5\u001b[0m \u001b[0;32mimport\u001b[0m \u001b[0mcsv\u001b[0m\u001b[0;34m\u001b[0m\u001b[0m\n\u001b[1;32m      6\u001b[0m \u001b[0;34m\u001b[0m\u001b[0m\n\u001b[0;32m----> 7\u001b[0;31m \u001b[0mrows\u001b[0m \u001b[0;34m=\u001b[0m \u001b[0mlist\u001b[0m\u001b[0;34m(\u001b[0m\u001b[0mrange\u001b[0m\u001b[0;34m(\u001b[0m\u001b[0mlen\u001b[0m\u001b[0;34m(\u001b[0m\u001b[0mdf\u001b[0m\u001b[0;34m)\u001b[0m\u001b[0;34m)\u001b[0m\u001b[0;34m)\u001b[0m\u001b[0;34m\u001b[0m\u001b[0m\n\u001b[0m\u001b[1;32m      8\u001b[0m \u001b[0;34m\u001b[0m\u001b[0m\n\u001b[1;32m      9\u001b[0m \u001b[0;32mdef\u001b[0m \u001b[0mcalc_vec\u001b[0m\u001b[0;34m(\u001b[0m\u001b[0mrow\u001b[0m\u001b[0;34m)\u001b[0m\u001b[0;34m:\u001b[0m\u001b[0;34m\u001b[0m\u001b[0m\n",
        "\u001b[0;31mNameError\u001b[0m: name 'df' is not defined"
       ]
      }
     ],
     "prompt_number": 1
    },
    {
     "cell_type": "markdown",
     "metadata": {},
     "source": [
      "# Cython Version of Corpus construction code\n",
      "\n",
      "In this case the cython implementation of distances must be inside the library textsim like in **nlpnet** package."
     ]
    }
   ],
   "metadata": {}
  }
 ]
}