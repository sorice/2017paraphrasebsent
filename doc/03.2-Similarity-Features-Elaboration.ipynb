{
 "metadata": {
  "name": "",
  "signature": "sha256:81e9e3004299ceee99593c0424fbef4d0e036c1664b6684c6e916dd0c04665bd"
 },
 "nbformat": 3,
 "nbformat_minor": 0,
 "worksheets": [
  {
   "cells": [
    {
     "cell_type": "markdown",
     "metadata": {},
     "source": [
      "<small><i>This notebook was put together by [Abel Meneses-Abad](http://www.menesesabad.com) for Paper *Paraphrase Beyond Sentence*. Source and license info is on [GitHub](https://github.com/sorice/2017paraphrasebsent/).</i></small>"
     ]
    },
    {
     "cell_type": "markdown",
     "metadata": {},
     "source": [
      "# How to Get Similarity Features\n",
      "\n",
      "**Textsim** is a library of similarity distances elaborated by the author, having into account that the majority of the experiments in similarity field are build over Java language, then a complementary develop to realize this experiment is this library that contains a growing set of classical distances, and set of combined distances created for the SEMEVAL competition.\n",
      "\n",
      "The library contains a set of internal notebook to teach howto work with the library.\n",
      "\n",
      "+ [3.2.1 Stringdist Distances](/home/abelm/textsim/notebooks/stringdists.ipynb)\n",
      "+ [3.2.2 Tokendist Distances](/home/abelm/textsim/notebooks/tokendists.ipynb)\n",
      "+ [3.2.3 Knowledge Distances](/home/abelm/textsim/notebooks/knowledgedists.ipynb)\n",
      "+ [3.2.4 Syntactic Distances](/home/abelm/textsim/notebooks/syntacticdists.ipynb)\n",
      "+ [3.2.5 Corpus Distances](/home/abelm/textsim/notebooks/corpusdists.ipynb)\n",
      "+ [3.2.6 Combined Distances](/home/abelm/textsim/notebooks/combinedists.ipynb)"
     ]
    }
   ],
   "metadata": {}
  }
 ]
}