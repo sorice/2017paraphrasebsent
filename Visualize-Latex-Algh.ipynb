{
 "metadata": {
  "name": "",
  "signature": "sha256:fcba2167cb46d4616a1f4fc94a6c21077990d7f50bbbf4d70d6eca1051e83819"
 },
 "nbformat": 3,
 "nbformat_minor": 0,
 "worksheets": [
  {
   "cells": [
    {
     "cell_type": "code",
     "collapsed": false,
     "input": [
      "#TODO: construir un par de fragmentos de los textos referidos en el caso, y ajustar sus caracter\u00edsticas a uno de la lista de \n",
      "#los casos reales.\n",
      "\n",
      "from IPython.display import display\n",
      "from IPython.display import (\n",
      "    display_html, display_jpeg, display_png,\n",
      "    display_javascript, display_svg, display_latex\n",
      ")\n",
      "\n",
      "class LatexObject(object):\n",
      "    def __init__(self,code):\n",
      "        self.struct = code\n",
      "    def _repr_latex_(self):\n",
      "        return self.struct\n",
      "\n",
      "struct = r\"\"\"$\\begin{algorithm}[H] % H = forzar est\u00e1 posici\u00f3n\n",
      "  \\caption{M\u00e1ximo com\u00fan divisor}\\label{ML:Algorithm1}\n",
      "  \\SetAlgoLined\n",
      "  \\KwData{$a,\\, b \\in N.$}\n",
      "  \\KwResult{MCD$(a,b)$}\n",
      "  \\LinesNumbered\n",
      "  \\SetAlgoVlined\n",
      "  $c = |a|,\\; d = |b|$\\;\n",
      "  \\While{$d\\neq 0$}{\n",
      "  $r = $rem$(c,d)$\\;\n",
      "  $c = d$\\;\n",
      "  $d = r$\\;\n",
      "  }\n",
      "  \\Return MCD$(a,b)=|c|$\\;\n",
      "\\end{algorithm}$\"\"\"\n",
      "    \n",
      "latex = LatexObject(struct)\n",
      "\n",
      "display_latex(latex)"
     ],
     "language": "python",
     "metadata": {},
     "outputs": []
    },
    {
     "cell_type": "code",
     "collapsed": false,
     "input": [
      "%%latex\n",
      "\\usepackage[ruled,,vlined,lined,linesnumbered]{algorithm2e}\n",
      "\\begin{algorithm}[H] % H = forzar est\u00e1 posici\u00f3n\n",
      "  \\caption{M\u00e1ximo com\u00fan divisor}\\label{ML:Algorithm1}\n",
      "  \\SetAlgoLined\n",
      "  \\KwData{$a,\\, b \\in N.$}\n",
      "  \\KwResult{MCD$(a,b)$}\n",
      "  \\LinesNumbered\n",
      "  \\SetAlgoVlined\n",
      "  $c = |a|,\\; d = |b|$\\;\n",
      "  \\While{$d\\neq 0$}{\n",
      "  $r = $rem$(c,d)$\\;\n",
      "  $c = d$\\;\n",
      "  $d = r$\\;\n",
      "  }\n",
      "  \\Return MCD$(a,b)=|c|$\\;\n",
      "\\end{algorithm}"
     ],
     "language": "python",
     "metadata": {},
     "outputs": [
      {
       "latex": [
        "\\usepackage[ruled,,vlined,lined,linesnumbered]{algorithm2e}\n",
        "\\begin{algorithm}[H] % H = forzar est\u00e1 posici\u00f3n\n",
        "  \\caption{M\u00e1ximo com\u00fan divisor}\\label{ML:Algorithm1}\n",
        "  \\SetAlgoLined\n",
        "  \\KwData{$a,\\, b \\in N.$}\n",
        "  \\KwResult{MCD$(a,b)$}\n",
        "  \\LinesNumbered\n",
        "  \\SetAlgoVlined\n",
        "  $c = |a|,\\; d = |b|$\\;\n",
        "  \\While{$d\\neq 0$}{\n",
        "  $r = $rem$(c,d)$\\;\n",
        "  $c = d$\\;\n",
        "  $d = r$\\;\n",
        "  }\n",
        "  \\Return MCD$(a,b)=|c|$\\;\n",
        "\\end{algorithm}"
       ],
       "metadata": {},
       "output_type": "display_data",
       "text": [
        "<IPython.core.display.Latex at 0x7fb9d0e9d3c8>"
       ]
      }
     ],
     "prompt_number": 6
    }
   ],
   "metadata": {}
  }
 ]
}