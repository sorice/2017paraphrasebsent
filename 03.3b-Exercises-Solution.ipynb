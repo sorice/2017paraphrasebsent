{
 "metadata": {
  "name": "",
  "signature": "sha256:e2bba56eca163588d0bebeec15455c9f384e2ab58d8b743d9d9a988f94f3e4d4"
 },
 "nbformat": 3,
 "nbformat_minor": 0,
 "worksheets": [
  {
   "cells": [
    {
     "cell_type": "markdown",
     "metadata": {},
     "source": [
      "# Solution Exercise 1: ARFF to CSV\n",
      "\n",
      "Using the parallel implementation of ARFF corpus generation, then it can be done a pipeline with two steps: TXT to ARFF, ARFF to CSV."
     ]
    },
    {
     "cell_type": "code",
     "collapsed": false,
     "input": [
      "from scipy.io import arff\n",
      "from io import StringIO\n",
      "with open('data/MSRPC-2004/msrpc_test_textsim-42fb.arff') as doc:\n",
      "    data,meta = arff.loadarff(doc)\n",
      "\n",
      "def corpus_to_csv(file_path='data/MSRPC-2004/msrpc_test_textsim-42fb.csv'):\n",
      "    with open(file_path,'w') as corpus: #Open vector similarity feature corpus\n",
      "        corpus.write(str(data.shape[0])+',')\n",
      "        corpus.write(str(len(meta.names())-1)+',')\n",
      "        corpus.write('Paraph,Non,')\n",
      "        for distance in meta.names():\n",
      "            corpus.write(distance+',')\n",
      "        corpus.write('\\n')\n",
      "        for instance in data:           \n",
      "            A = str(instance)\n",
      "            instance = A[:A.find('b')]+A[A.find('b')+1:]\n",
      "            corpus.write(instance[1:-1]+'\\n')\n",
      "    return\n",
      "            \n",
      "corpus_to_csv()"
     ],
     "language": "python",
     "metadata": {},
     "outputs": [],
     "prompt_number": 5
    }
   ],
   "metadata": {}
  }
 ]
}