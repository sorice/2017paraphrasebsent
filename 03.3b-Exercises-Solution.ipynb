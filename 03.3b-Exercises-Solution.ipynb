{
 "metadata": {
  "name": "",
  "signature": "sha256:c32b2e49ff8f9ea771bf84d22e895e8b0d1c144a1c1b157d98ba54ae39617a07"
 },
 "nbformat": 3,
 "nbformat_minor": 0,
 "worksheets": [
  {
   "cells": [
    {
     "cell_type": "markdown",
     "metadata": {},
     "source": [
      "# Solution Exercise 1: ARFF to CSV\n",
      "\n",
      "Using the parallel implementation of ARFF corpus generation, then it can be done a pipeline with two steps: TXT to ARFF, ARFF to CSV."
     ]
    },
    {
     "cell_type": "code",
     "collapsed": false,
     "input": [
      "from scipy.io import arff\n",
      "from io import StringIO\n",
      "with open('data/MSRPC-2004/msrpc_test_textsim-42f.arff') as doc:\n",
      "    data,meta = arff.loadarff(doc)\n",
      "\n",
      "def corpus_to_csv(file_path='data/MSRPC-2004/msrpc_test_textsim-42fb.csv'):\n",
      "    with open(file_path,'w') as corpus: #Open vector similarity feature corpus\n",
      "        corpus.write(str(data.shape[0])+',')\n",
      "        corpus.write(str(len(meta.names())-1)+',')\n",
      "        corpus.write('Paraph,Non,')\n",
      "        for distance in meta.names():\n",
      "            corpus.write(distance+',')\n",
      "        corpus.write('\\n')\n",
      "        for instance in data:           \n",
      "            A = str(instance)\n",
      "            instance = A[:A.find('b')]+A[A.find('b')+1:]\n",
      "            corpus.write(instance[1:-1]+'\\n')\n",
      "    return\n",
      "            \n",
      "corpus_to_csv()"
     ],
     "language": "python",
     "metadata": {},
     "outputs": [],
     "prompt_number": 1
    }
   ],
   "metadata": {}
  }
 ]
}